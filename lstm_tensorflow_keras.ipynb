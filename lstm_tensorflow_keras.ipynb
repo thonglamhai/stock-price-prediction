{
 "cells": [
  {
   "cell_type": "code",
   "execution_count": 33,
   "metadata": {},
   "outputs": [],
   "source": [
    "# Import tensorflow \n",
    "import tensorflow as tf\n",
    "from tensorflow.keras.models import Sequential\n",
    "from tensorflow.keras.layers import LSTM, Dense, Dropout, Bidirectional\n",
    "from tensorflow.keras.callbacks import ModelCheckpoint, TensorBoard\n",
    "from tensorflow import keras\n",
    "\n",
    "# Import sklearn\n",
    "from sklearn import preprocessing\n",
    "from sklearn.model_selection import train_test_split\n",
    "\n",
    "\n",
    "# \n",
    "import yfinance as yf\n",
    "from collections import deque\n",
    "\n",
    "\n",
    "# import \n",
    "import numpy as np\n",
    "import pandas as pd"
   ]
  },
  {
   "cell_type": "markdown",
   "metadata": {},
   "source": [
    "Preparing the Dataset"
   ]
  },
  {
   "cell_type": "code",
   "execution_count": 11,
   "metadata": {},
   "outputs": [],
   "source": [
    "# Get data from Yahoo Finance\n",
    "symbol = \"AAPL\"\n",
    "config = {\n",
    "    \"y_finance\": {\n",
    "        \"period\": \"10y\", # period to download the data from Yahoo Finance\n",
    "        \"symbol\": \"AAPL\", # TSLA - Tesla\n",
    "        \"key_adjusted_close\": \"adj close\",\n",
    "    },\n",
    "    \"data\": {\n",
    "        \"window_size\": 20,\n",
    "        \"train_split_size\": 0.80,\n",
    "    }, \n",
    "    \"plots\": {\n",
    "        \"show_plots\": True,\n",
    "        \"xticks_interval\": 90,\n",
    "        \"color_actual\": \"#001f3f\",\n",
    "        \"color_train\": \"#3D9970\",\n",
    "        \"color_val\": \"#0074D9\",\n",
    "        \"color_pred_train\": \"#3D9970\",\n",
    "        \"color_pred_val\": \"#0074D9\",\n",
    "        \"color_pred_test\": \"#FF4136\",\n",
    "    },\n",
    "    \"model\": {\n",
    "        \"input_size\": 1, # since we are only using 1 feature, close price\n",
    "        \"num_lstm_layers\": 2,\n",
    "        \"lstm_size\": 32,\n",
    "        \"dropout\": 0.2,\n",
    "    },\n",
    "    \"training\": {\n",
    "        \"device\": \"cpu\", # \"cuda\" or \"cpu\"\n",
    "        \"batch_size\": 64,\n",
    "        \"num_epoch\": 100,\n",
    "        \"learning_rate\": 0.01,\n",
    "        \"scheduler_step_size\": 40,\n",
    "    }\n",
    "}"
   ]
  },
  {
   "cell_type": "code",
   "execution_count": 12,
   "metadata": {},
   "outputs": [
    {
     "name": "stdout",
     "output_type": "stream",
     "text": [
      "[*********************100%%**********************]  1 of 1 completed\n"
     ]
    }
   ],
   "source": [
    "# Get data of a period of recent years\n",
    "df = yf.download(symbol, period=config['y_finance']['period'])\n",
    "\n",
    "# Save the data to CSV file\n",
    "df.to_csv('data/' + symbol + '.csv')"
   ]
  },
  {
   "cell_type": "code",
   "execution_count": 13,
   "metadata": {},
   "outputs": [
    {
     "data": {
      "text/html": [
       "<div>\n",
       "<style scoped>\n",
       "    .dataframe tbody tr th:only-of-type {\n",
       "        vertical-align: middle;\n",
       "    }\n",
       "\n",
       "    .dataframe tbody tr th {\n",
       "        vertical-align: top;\n",
       "    }\n",
       "\n",
       "    .dataframe thead th {\n",
       "        text-align: right;\n",
       "    }\n",
       "</style>\n",
       "<table border=\"1\" class=\"dataframe\">\n",
       "  <thead>\n",
       "    <tr style=\"text-align: right;\">\n",
       "      <th></th>\n",
       "      <th>Date</th>\n",
       "      <th>Open</th>\n",
       "      <th>High</th>\n",
       "      <th>Low</th>\n",
       "      <th>Close</th>\n",
       "      <th>Adj Close</th>\n",
       "      <th>Volume</th>\n",
       "    </tr>\n",
       "  </thead>\n",
       "  <tbody>\n",
       "    <tr>\n",
       "      <th>0</th>\n",
       "      <td>2013-09-09</td>\n",
       "      <td>18.035713</td>\n",
       "      <td>18.139999</td>\n",
       "      <td>17.981428</td>\n",
       "      <td>18.077499</td>\n",
       "      <td>15.777155</td>\n",
       "      <td>340687200</td>\n",
       "    </tr>\n",
       "    <tr>\n",
       "      <th>1</th>\n",
       "      <td>2013-09-10</td>\n",
       "      <td>18.078571</td>\n",
       "      <td>18.123215</td>\n",
       "      <td>17.482143</td>\n",
       "      <td>17.665714</td>\n",
       "      <td>15.417765</td>\n",
       "      <td>743195600</td>\n",
       "    </tr>\n",
       "    <tr>\n",
       "      <th>2</th>\n",
       "      <td>2013-09-11</td>\n",
       "      <td>16.678928</td>\n",
       "      <td>16.917500</td>\n",
       "      <td>16.600357</td>\n",
       "      <td>16.703930</td>\n",
       "      <td>14.578368</td>\n",
       "      <td>898696400</td>\n",
       "    </tr>\n",
       "    <tr>\n",
       "      <th>3</th>\n",
       "      <td>2013-09-12</td>\n",
       "      <td>16.732143</td>\n",
       "      <td>16.978571</td>\n",
       "      <td>16.643213</td>\n",
       "      <td>16.881786</td>\n",
       "      <td>14.733592</td>\n",
       "      <td>404051200</td>\n",
       "    </tr>\n",
       "    <tr>\n",
       "      <th>4</th>\n",
       "      <td>2013-09-13</td>\n",
       "      <td>16.762142</td>\n",
       "      <td>16.851070</td>\n",
       "      <td>16.596430</td>\n",
       "      <td>16.603571</td>\n",
       "      <td>14.490783</td>\n",
       "      <td>298835600</td>\n",
       "    </tr>\n",
       "  </tbody>\n",
       "</table>\n",
       "</div>"
      ],
      "text/plain": [
       "         Date       Open       High        Low      Close  Adj Close     Volume\n",
       "0  2013-09-09  18.035713  18.139999  17.981428  18.077499  15.777155  340687200\n",
       "1  2013-09-10  18.078571  18.123215  17.482143  17.665714  15.417765  743195600\n",
       "2  2013-09-11  16.678928  16.917500  16.600357  16.703930  14.578368  898696400\n",
       "3  2013-09-12  16.732143  16.978571  16.643213  16.881786  14.733592  404051200\n",
       "4  2013-09-13  16.762142  16.851070  16.596430  16.603571  14.490783  298835600"
      ]
     },
     "execution_count": 13,
     "metadata": {},
     "output_type": "execute_result"
    }
   ],
   "source": [
    "# Loading data from CSV file\n",
    "df = pd.read_csv('data/' + symbol + '.csv')\n",
    "df.head()"
   ]
  },
  {
   "cell_type": "code",
   "execution_count": 14,
   "metadata": {},
   "outputs": [],
   "source": [
    "# Change column names to lower case to process easier in latter parts\n",
    "df.columns = df.columns.str.lower()"
   ]
  },
  {
   "cell_type": "code",
   "execution_count": 25,
   "metadata": {},
   "outputs": [],
   "source": [
    "# Set `date` as dataframe index\n",
    "df.set_index(pd.DatetimeIndex(df['date']), inplace = True)\n",
    "df = df.drop('date', axis=1)"
   ]
  },
  {
   "cell_type": "code",
   "execution_count": 26,
   "metadata": {},
   "outputs": [
    {
     "data": {
      "text/html": [
       "<div>\n",
       "<style scoped>\n",
       "    .dataframe tbody tr th:only-of-type {\n",
       "        vertical-align: middle;\n",
       "    }\n",
       "\n",
       "    .dataframe tbody tr th {\n",
       "        vertical-align: top;\n",
       "    }\n",
       "\n",
       "    .dataframe thead th {\n",
       "        text-align: right;\n",
       "    }\n",
       "</style>\n",
       "<table border=\"1\" class=\"dataframe\">\n",
       "  <thead>\n",
       "    <tr style=\"text-align: right;\">\n",
       "      <th></th>\n",
       "      <th>open</th>\n",
       "      <th>high</th>\n",
       "      <th>low</th>\n",
       "      <th>close</th>\n",
       "      <th>adj close</th>\n",
       "      <th>volume</th>\n",
       "    </tr>\n",
       "    <tr>\n",
       "      <th>date</th>\n",
       "      <th></th>\n",
       "      <th></th>\n",
       "      <th></th>\n",
       "      <th></th>\n",
       "      <th></th>\n",
       "      <th></th>\n",
       "    </tr>\n",
       "  </thead>\n",
       "  <tbody>\n",
       "    <tr>\n",
       "      <th>2013-09-09</th>\n",
       "      <td>18.035713</td>\n",
       "      <td>18.139999</td>\n",
       "      <td>17.981428</td>\n",
       "      <td>18.077499</td>\n",
       "      <td>15.777155</td>\n",
       "      <td>340687200</td>\n",
       "    </tr>\n",
       "    <tr>\n",
       "      <th>2013-09-10</th>\n",
       "      <td>18.078571</td>\n",
       "      <td>18.123215</td>\n",
       "      <td>17.482143</td>\n",
       "      <td>17.665714</td>\n",
       "      <td>15.417765</td>\n",
       "      <td>743195600</td>\n",
       "    </tr>\n",
       "    <tr>\n",
       "      <th>2013-09-11</th>\n",
       "      <td>16.678928</td>\n",
       "      <td>16.917500</td>\n",
       "      <td>16.600357</td>\n",
       "      <td>16.703930</td>\n",
       "      <td>14.578368</td>\n",
       "      <td>898696400</td>\n",
       "    </tr>\n",
       "    <tr>\n",
       "      <th>2013-09-12</th>\n",
       "      <td>16.732143</td>\n",
       "      <td>16.978571</td>\n",
       "      <td>16.643213</td>\n",
       "      <td>16.881786</td>\n",
       "      <td>14.733592</td>\n",
       "      <td>404051200</td>\n",
       "    </tr>\n",
       "    <tr>\n",
       "      <th>2013-09-13</th>\n",
       "      <td>16.762142</td>\n",
       "      <td>16.851070</td>\n",
       "      <td>16.596430</td>\n",
       "      <td>16.603571</td>\n",
       "      <td>14.490783</td>\n",
       "      <td>298835600</td>\n",
       "    </tr>\n",
       "    <tr>\n",
       "      <th>...</th>\n",
       "      <td>...</td>\n",
       "      <td>...</td>\n",
       "      <td>...</td>\n",
       "      <td>...</td>\n",
       "      <td>...</td>\n",
       "      <td>...</td>\n",
       "    </tr>\n",
       "    <tr>\n",
       "      <th>2023-08-31</th>\n",
       "      <td>187.839996</td>\n",
       "      <td>189.119995</td>\n",
       "      <td>187.479996</td>\n",
       "      <td>187.869995</td>\n",
       "      <td>187.869995</td>\n",
       "      <td>60794500</td>\n",
       "    </tr>\n",
       "    <tr>\n",
       "      <th>2023-09-01</th>\n",
       "      <td>189.490005</td>\n",
       "      <td>189.919998</td>\n",
       "      <td>188.279999</td>\n",
       "      <td>189.460007</td>\n",
       "      <td>189.460007</td>\n",
       "      <td>45732600</td>\n",
       "    </tr>\n",
       "    <tr>\n",
       "      <th>2023-09-05</th>\n",
       "      <td>188.279999</td>\n",
       "      <td>189.979996</td>\n",
       "      <td>187.610001</td>\n",
       "      <td>189.699997</td>\n",
       "      <td>189.699997</td>\n",
       "      <td>45280000</td>\n",
       "    </tr>\n",
       "    <tr>\n",
       "      <th>2023-09-06</th>\n",
       "      <td>188.399994</td>\n",
       "      <td>188.850006</td>\n",
       "      <td>181.470001</td>\n",
       "      <td>182.910004</td>\n",
       "      <td>182.910004</td>\n",
       "      <td>81755800</td>\n",
       "    </tr>\n",
       "    <tr>\n",
       "      <th>2023-09-07</th>\n",
       "      <td>175.179993</td>\n",
       "      <td>178.210007</td>\n",
       "      <td>173.539993</td>\n",
       "      <td>177.559998</td>\n",
       "      <td>177.559998</td>\n",
       "      <td>112380500</td>\n",
       "    </tr>\n",
       "  </tbody>\n",
       "</table>\n",
       "<p>2517 rows × 6 columns</p>\n",
       "</div>"
      ],
      "text/plain": [
       "                  open        high  ...   adj close     volume\n",
       "date                                ...                       \n",
       "2013-09-09   18.035713   18.139999  ...   15.777155  340687200\n",
       "2013-09-10   18.078571   18.123215  ...   15.417765  743195600\n",
       "2013-09-11   16.678928   16.917500  ...   14.578368  898696400\n",
       "2013-09-12   16.732143   16.978571  ...   14.733592  404051200\n",
       "2013-09-13   16.762142   16.851070  ...   14.490783  298835600\n",
       "...                ...         ...  ...         ...        ...\n",
       "2023-08-31  187.839996  189.119995  ...  187.869995   60794500\n",
       "2023-09-01  189.490005  189.919998  ...  189.460007   45732600\n",
       "2023-09-05  188.279999  189.979996  ...  189.699997   45280000\n",
       "2023-09-06  188.399994  188.850006  ...  182.910004   81755800\n",
       "2023-09-07  175.179993  178.210007  ...  177.559998  112380500\n",
       "\n",
       "[2517 rows x 6 columns]"
      ]
     },
     "execution_count": 26,
     "metadata": {},
     "output_type": "execute_result"
    }
   ],
   "source": [
    "df"
   ]
  },
  {
   "cell_type": "code",
   "execution_count": 27,
   "metadata": {},
   "outputs": [
    {
     "data": {
      "text/html": [
       "<div>\n",
       "<style scoped>\n",
       "    .dataframe tbody tr th:only-of-type {\n",
       "        vertical-align: middle;\n",
       "    }\n",
       "\n",
       "    .dataframe tbody tr th {\n",
       "        vertical-align: top;\n",
       "    }\n",
       "\n",
       "    .dataframe thead th {\n",
       "        text-align: right;\n",
       "    }\n",
       "</style>\n",
       "<table border=\"1\" class=\"dataframe\">\n",
       "  <thead>\n",
       "    <tr style=\"text-align: right;\">\n",
       "      <th></th>\n",
       "      <th>open</th>\n",
       "      <th>high</th>\n",
       "      <th>low</th>\n",
       "      <th>close</th>\n",
       "      <th>adj close</th>\n",
       "      <th>volume</th>\n",
       "    </tr>\n",
       "  </thead>\n",
       "  <tbody>\n",
       "    <tr>\n",
       "      <th>count</th>\n",
       "      <td>2517.000000</td>\n",
       "      <td>2517.000000</td>\n",
       "      <td>2517.000000</td>\n",
       "      <td>2517.000000</td>\n",
       "      <td>2517.000000</td>\n",
       "      <td>2.517000e+03</td>\n",
       "    </tr>\n",
       "    <tr>\n",
       "      <th>mean</th>\n",
       "      <td>72.687878</td>\n",
       "      <td>73.493761</td>\n",
       "      <td>71.926947</td>\n",
       "      <td>72.744176</td>\n",
       "      <td>70.832520</td>\n",
       "      <td>1.457858e+08</td>\n",
       "    </tr>\n",
       "    <tr>\n",
       "      <th>std</th>\n",
       "      <td>53.787590</td>\n",
       "      <td>54.436943</td>\n",
       "      <td>53.181652</td>\n",
       "      <td>53.836987</td>\n",
       "      <td>54.331088</td>\n",
       "      <td>9.342802e+07</td>\n",
       "    </tr>\n",
       "    <tr>\n",
       "      <th>min</th>\n",
       "      <td>15.998571</td>\n",
       "      <td>16.418215</td>\n",
       "      <td>15.972143</td>\n",
       "      <td>16.075714</td>\n",
       "      <td>14.030094</td>\n",
       "      <td>3.145820e+07</td>\n",
       "    </tr>\n",
       "    <tr>\n",
       "      <th>25%</th>\n",
       "      <td>28.822500</td>\n",
       "      <td>29.087500</td>\n",
       "      <td>28.502501</td>\n",
       "      <td>28.797501</td>\n",
       "      <td>26.253862</td>\n",
       "      <td>8.463240e+07</td>\n",
       "    </tr>\n",
       "    <tr>\n",
       "      <th>50%</th>\n",
       "      <td>45.849998</td>\n",
       "      <td>46.230000</td>\n",
       "      <td>45.285000</td>\n",
       "      <td>45.772499</td>\n",
       "      <td>43.939960</td>\n",
       "      <td>1.170920e+08</td>\n",
       "    </tr>\n",
       "    <tr>\n",
       "      <th>75%</th>\n",
       "      <td>127.820000</td>\n",
       "      <td>128.839996</td>\n",
       "      <td>126.120003</td>\n",
       "      <td>127.349998</td>\n",
       "      <td>125.757378</td>\n",
       "      <td>1.785328e+08</td>\n",
       "    </tr>\n",
       "    <tr>\n",
       "      <th>max</th>\n",
       "      <td>196.240005</td>\n",
       "      <td>198.229996</td>\n",
       "      <td>195.279999</td>\n",
       "      <td>196.449997</td>\n",
       "      <td>196.185074</td>\n",
       "      <td>1.065523e+09</td>\n",
       "    </tr>\n",
       "  </tbody>\n",
       "</table>\n",
       "</div>"
      ],
      "text/plain": [
       "              open         high  ...    adj close        volume\n",
       "count  2517.000000  2517.000000  ...  2517.000000  2.517000e+03\n",
       "mean     72.687878    73.493761  ...    70.832520  1.457858e+08\n",
       "std      53.787590    54.436943  ...    54.331088  9.342802e+07\n",
       "min      15.998571    16.418215  ...    14.030094  3.145820e+07\n",
       "25%      28.822500    29.087500  ...    26.253862  8.463240e+07\n",
       "50%      45.849998    46.230000  ...    43.939960  1.170920e+08\n",
       "75%     127.820000   128.839996  ...   125.757378  1.785328e+08\n",
       "max     196.240005   198.229996  ...   196.185074  1.065523e+09\n",
       "\n",
       "[8 rows x 6 columns]"
      ]
     },
     "execution_count": 27,
     "metadata": {},
     "output_type": "execute_result"
    }
   ],
   "source": [
    "df.describe()"
   ]
  },
  {
   "cell_type": "code",
   "execution_count": 29,
   "metadata": {},
   "outputs": [
    {
     "name": "stdout",
     "output_type": "stream",
     "text": [
      "2517\n"
     ]
    }
   ],
   "source": [
    "df_len = df['close'].count()\n",
    "print(df_len)"
   ]
  },
  {
   "cell_type": "code",
   "execution_count": 59,
   "metadata": {},
   "outputs": [
    {
     "name": "stdout",
     "output_type": "stream",
     "text": [
      "2392\n"
     ]
    }
   ],
   "source": [
    "# get the adj close values\n",
    "close_data = df.filter(['adj close'])\n",
    "dataset = close_data.values\n",
    "\n",
    "# select a subset of the data for training purpose\n",
    "# the remaining set of the data is for validation\n",
    "training = int(np.ceil(len(dataset) * .95))\n",
    "print(training)"
   ]
  },
  {
   "cell_type": "code",
   "execution_count": 57,
   "metadata": {},
   "outputs": [
    {
     "data": {
      "text/plain": [
       "(2517, 1)"
      ]
     },
     "execution_count": 57,
     "metadata": {},
     "output_type": "execute_result"
    }
   ],
   "source": [
    "dataset.shape"
   ]
  },
  {
   "cell_type": "code",
   "execution_count": 62,
   "metadata": {},
   "outputs": [
    {
     "name": "stdout",
     "output_type": "stream",
     "text": [
      "(2392, 1)\n"
     ]
    }
   ],
   "source": [
    "from sklearn.preprocessing import MinMaxScaler\n",
    "sc = MinMaxScaler(feature_range = (0, 1))\n",
    "# # training_set_scaled = sc.fit_transform(training_set)\n",
    "# print(training_set_scaled.shape)\n",
    "scaled_data = sc.fit_transform(dataset)\n",
    "\n",
    "training_set_scaled = scaled_data[0:int(training), :]\n",
    "\n",
    "print(training_set_scaled.shape)"
   ]
  },
  {
   "cell_type": "code",
   "execution_count": 107,
   "metadata": {},
   "outputs": [
    {
     "name": "stdout",
     "output_type": "stream",
     "text": [
      "(125, 1)\n"
     ]
    }
   ],
   "source": [
    "val_set_scaled = scaled_data[training:, :]\n",
    "print(val_set_scaled.shape)"
   ]
  },
  {
   "cell_type": "code",
   "execution_count": null,
   "metadata": {},
   "outputs": [],
   "source": [
    "window_size = 60"
   ]
  },
  {
   "cell_type": "code",
   "execution_count": 65,
   "metadata": {},
   "outputs": [],
   "source": [
    "features = [] # X_train\n",
    "labels = [] # y_train\n",
    "for i in range(60, len(training_set_scaled)):\n",
    "    features.append(training_set_scaled[i-60:i, 0])\n",
    "    labels.append(training_set_scaled[i, 0])\n",
    "\n",
    "features = np.array(features)\n",
    "labels = np.array(labels)\n",
    "\n",
    "features = np.reshape(features, (features.shape[0], features.shape[1], 1))"
   ]
  },
  {
   "cell_type": "code",
   "execution_count": 66,
   "metadata": {},
   "outputs": [
    {
     "name": "stdout",
     "output_type": "stream",
     "text": [
      "[0.02044951 0.02022231 0.02072145 ... 0.75296516 0.75991817 0.74743545]\n"
     ]
    }
   ],
   "source": [
    "print(labels)"
   ]
  },
  {
   "cell_type": "code",
   "execution_count": 67,
   "metadata": {},
   "outputs": [
    {
     "name": "stdout",
     "output_type": "stream",
     "text": [
      "[[[0.00959107]\n",
      "  [0.00761808]\n",
      "  [0.00300993]\n",
      "  ...\n",
      "  [0.01694524]\n",
      "  [0.01868536]\n",
      "  [0.01785228]]\n",
      "\n",
      " [[0.00761808]\n",
      "  [0.00300993]\n",
      "  [0.00386208]\n",
      "  ...\n",
      "  [0.01868536]\n",
      "  [0.01785228]\n",
      "  [0.02044951]]\n",
      "\n",
      " [[0.00300993]\n",
      "  [0.00386208]\n",
      "  [0.0025291 ]\n",
      "  ...\n",
      "  [0.01785228]\n",
      "  [0.02044951]\n",
      "  [0.02022231]]\n",
      "\n",
      " ...\n",
      "\n",
      " [[0.69342685]\n",
      "  [0.70277454]\n",
      "  [0.70009605]\n",
      "  ...\n",
      "  [0.7218132 ]\n",
      "  [0.74984446]\n",
      "  [0.76517403]]\n",
      "\n",
      " [[0.70277454]\n",
      "  [0.70009605]\n",
      "  [0.71283292]\n",
      "  ...\n",
      "  [0.74984446]\n",
      "  [0.76517403]\n",
      "  [0.75296516]]\n",
      "\n",
      " [[0.70009605]\n",
      "  [0.71283292]\n",
      "  [0.71819014]\n",
      "  ...\n",
      "  [0.76517403]\n",
      "  [0.75296516]\n",
      "  [0.75991817]]]\n"
     ]
    }
   ],
   "source": [
    "print(features)"
   ]
  },
  {
   "cell_type": "code",
   "execution_count": 68,
   "metadata": {},
   "outputs": [],
   "source": [
    "model = tf.keras.models.Sequential([\n",
    "    tf.keras.layers.LSTM(units = 50, return_sequences = True, input_shape = (features.shape[1], 1)),\n",
    "    tf.keras.layers.Dropout(0.2),\n",
    "    tf.keras.layers.LSTM(units = 50, return_sequences = True),\n",
    "    tf.keras.layers.Dropout(0.2),\n",
    "    tf.keras.layers.LSTM(units = 50, return_sequences = True),\n",
    "    tf.keras.layers.Dropout(0.2),\n",
    "    tf.keras.layers.LSTM(units = 50),\n",
    "    tf.keras.layers.Dropout(0.2),\n",
    "    tf.keras.layers.Dense(units = 1)\n",
    "])"
   ]
  },
  {
   "cell_type": "code",
   "execution_count": 69,
   "metadata": {},
   "outputs": [
    {
     "name": "stdout",
     "output_type": "stream",
     "text": [
      "Model: \"sequential_2\"\n",
      "_________________________________________________________________\n",
      " Layer (type)                Output Shape              Param #   \n",
      "=================================================================\n",
      " lstm_6 (LSTM)               (None, 60, 50)            10400     \n",
      "                                                                 \n",
      " dropout_5 (Dropout)         (None, 60, 50)            0         \n",
      "                                                                 \n",
      " lstm_7 (LSTM)               (None, 60, 50)            20200     \n",
      "                                                                 \n",
      " dropout_6 (Dropout)         (None, 60, 50)            0         \n",
      "                                                                 \n",
      " lstm_8 (LSTM)               (None, 60, 50)            20200     \n",
      "                                                                 \n",
      " dropout_7 (Dropout)         (None, 60, 50)            0         \n",
      "                                                                 \n",
      " lstm_9 (LSTM)               (None, 50)                20200     \n",
      "                                                                 \n",
      " dropout_8 (Dropout)         (None, 50)                0         \n",
      "                                                                 \n",
      " dense_3 (Dense)             (None, 1)                 51        \n",
      "                                                                 \n",
      "=================================================================\n",
      "Total params: 71051 (277.54 KB)\n",
      "Trainable params: 71051 (277.54 KB)\n",
      "Non-trainable params: 0 (0.00 Byte)\n",
      "_________________________________________________________________\n",
      "None\n"
     ]
    }
   ],
   "source": [
    "print(model.summary())"
   ]
  },
  {
   "cell_type": "code",
   "execution_count": 123,
   "metadata": {},
   "outputs": [],
   "source": [
    "model.compile(optimizer=tf.keras.optimizers.Adam(),\n",
    "              loss=tf.keras.losses.MeanSquaredError(),\n",
    "              metrics=[tf.keras.metrics.MeanAbsoluteError()])"
   ]
  },
  {
   "cell_type": "code",
   "execution_count": 71,
   "metadata": {},
   "outputs": [
    {
     "name": "stdout",
     "output_type": "stream",
     "text": [
      "Epoch 1/20\n",
      "73/73 [==============================] - 32s 154ms/step - loss: 0.0129\n",
      "Epoch 2/20\n",
      "73/73 [==============================] - 11s 150ms/step - loss: 0.0026\n",
      "Epoch 3/20\n",
      "73/73 [==============================] - 11s 156ms/step - loss: 0.0027\n",
      "Epoch 4/20\n",
      "73/73 [==============================] - 12s 167ms/step - loss: 0.0023\n",
      "Epoch 5/20\n",
      "73/73 [==============================] - 12s 160ms/step - loss: 0.0019\n",
      "Epoch 6/20\n",
      "73/73 [==============================] - 15s 209ms/step - loss: 0.0018\n",
      "Epoch 7/20\n",
      "73/73 [==============================] - 12s 162ms/step - loss: 0.0019\n",
      "Epoch 8/20\n",
      "73/73 [==============================] - 29s 397ms/step - loss: 0.0018\n",
      "Epoch 9/20\n",
      "73/73 [==============================] - 25s 337ms/step - loss: 0.0020\n",
      "Epoch 10/20\n",
      "73/73 [==============================] - 20s 271ms/step - loss: 0.0017\n",
      "Epoch 11/20\n",
      "73/73 [==============================] - 20s 272ms/step - loss: 0.0016\n",
      "Epoch 12/20\n",
      "73/73 [==============================] - 20s 276ms/step - loss: 0.0015\n",
      "Epoch 13/20\n",
      "73/73 [==============================] - 19s 257ms/step - loss: 0.0016\n",
      "Epoch 14/20\n",
      "73/73 [==============================] - 20s 268ms/step - loss: 0.0015\n",
      "Epoch 15/20\n",
      "73/73 [==============================] - 20s 273ms/step - loss: 0.0014\n",
      "Epoch 16/20\n",
      "73/73 [==============================] - 19s 256ms/step - loss: 0.0014\n",
      "Epoch 17/20\n",
      "73/73 [==============================] - 19s 262ms/step - loss: 0.0013\n",
      "Epoch 18/20\n",
      "73/73 [==============================] - 16s 214ms/step - loss: 0.0014\n",
      "Epoch 19/20\n",
      "73/73 [==============================] - 11s 155ms/step - loss: 0.0012\n",
      "Epoch 20/20\n",
      "73/73 [==============================] - 9s 121ms/step - loss: 0.0016\n"
     ]
    }
   ],
   "source": [
    "history = model.fit(features, labels, epochs = 20, batch_size = 32, verbose = 1)\n"
   ]
  },
  {
   "cell_type": "code",
   "execution_count": 76,
   "metadata": {},
   "outputs": [
    {
     "name": "stdout",
     "output_type": "stream",
     "text": [
      "4/4 [==============================] - 4s 57ms/step\n",
      "MSE 33.48688585895672\n",
      "RMSE 5.786785451263657\n"
     ]
    }
   ],
   "source": [
    "test_data = scaled_data[training - 60:, :]\n",
    "x_test = []\n",
    "y_test = dataset[training:, :]\n",
    "for i in range(60, len(test_data)):\n",
    "    x_test.append(test_data[i-60:i, 0])\n",
    " \n",
    "x_test = np.array(x_test)\n",
    "x_test = np.reshape(x_test, (x_test.shape[0], x_test.shape[1], 1))\n",
    " \n",
    "# predict the testing data\n",
    "predictions = model.predict(x_test)\n",
    "predictions = scaler.inverse_transform(predictions)\n",
    " \n",
    "# evaluation metrics\n",
    "mse = np.mean(((predictions - y_test) ** 2))\n",
    "print(\"MSE\", mse)\n",
    "print(\"RMSE\", np.sqrt(mse))"
   ]
  },
  {
   "cell_type": "code",
   "execution_count": 78,
   "metadata": {},
   "outputs": [],
   "source": [
    "import matplotlib.pyplot as plt"
   ]
  },
  {
   "cell_type": "code",
   "execution_count": 81,
   "metadata": {},
   "outputs": [
    {
     "data": {
      "text/html": [
       "<div>\n",
       "<style scoped>\n",
       "    .dataframe tbody tr th:only-of-type {\n",
       "        vertical-align: middle;\n",
       "    }\n",
       "\n",
       "    .dataframe tbody tr th {\n",
       "        vertical-align: top;\n",
       "    }\n",
       "\n",
       "    .dataframe thead th {\n",
       "        text-align: right;\n",
       "    }\n",
       "</style>\n",
       "<table border=\"1\" class=\"dataframe\">\n",
       "  <thead>\n",
       "    <tr style=\"text-align: right;\">\n",
       "      <th></th>\n",
       "      <th>open</th>\n",
       "      <th>high</th>\n",
       "      <th>low</th>\n",
       "      <th>close</th>\n",
       "      <th>adj close</th>\n",
       "      <th>volume</th>\n",
       "    </tr>\n",
       "    <tr>\n",
       "      <th>date</th>\n",
       "      <th></th>\n",
       "      <th></th>\n",
       "      <th></th>\n",
       "      <th></th>\n",
       "      <th></th>\n",
       "      <th></th>\n",
       "    </tr>\n",
       "  </thead>\n",
       "  <tbody>\n",
       "    <tr>\n",
       "      <th>2013-09-09</th>\n",
       "      <td>18.035713</td>\n",
       "      <td>18.139999</td>\n",
       "      <td>17.981428</td>\n",
       "      <td>18.077499</td>\n",
       "      <td>15.777155</td>\n",
       "      <td>340687200</td>\n",
       "    </tr>\n",
       "    <tr>\n",
       "      <th>2013-09-10</th>\n",
       "      <td>18.078571</td>\n",
       "      <td>18.123215</td>\n",
       "      <td>17.482143</td>\n",
       "      <td>17.665714</td>\n",
       "      <td>15.417765</td>\n",
       "      <td>743195600</td>\n",
       "    </tr>\n",
       "    <tr>\n",
       "      <th>2013-09-11</th>\n",
       "      <td>16.678928</td>\n",
       "      <td>16.917500</td>\n",
       "      <td>16.600357</td>\n",
       "      <td>16.703930</td>\n",
       "      <td>14.578368</td>\n",
       "      <td>898696400</td>\n",
       "    </tr>\n",
       "    <tr>\n",
       "      <th>2013-09-12</th>\n",
       "      <td>16.732143</td>\n",
       "      <td>16.978571</td>\n",
       "      <td>16.643213</td>\n",
       "      <td>16.881786</td>\n",
       "      <td>14.733592</td>\n",
       "      <td>404051200</td>\n",
       "    </tr>\n",
       "    <tr>\n",
       "      <th>2013-09-13</th>\n",
       "      <td>16.762142</td>\n",
       "      <td>16.851070</td>\n",
       "      <td>16.596430</td>\n",
       "      <td>16.603571</td>\n",
       "      <td>14.490783</td>\n",
       "      <td>298835600</td>\n",
       "    </tr>\n",
       "    <tr>\n",
       "      <th>...</th>\n",
       "      <td>...</td>\n",
       "      <td>...</td>\n",
       "      <td>...</td>\n",
       "      <td>...</td>\n",
       "      <td>...</td>\n",
       "      <td>...</td>\n",
       "    </tr>\n",
       "    <tr>\n",
       "      <th>2023-08-31</th>\n",
       "      <td>187.839996</td>\n",
       "      <td>189.119995</td>\n",
       "      <td>187.479996</td>\n",
       "      <td>187.869995</td>\n",
       "      <td>187.869995</td>\n",
       "      <td>60794500</td>\n",
       "    </tr>\n",
       "    <tr>\n",
       "      <th>2023-09-01</th>\n",
       "      <td>189.490005</td>\n",
       "      <td>189.919998</td>\n",
       "      <td>188.279999</td>\n",
       "      <td>189.460007</td>\n",
       "      <td>189.460007</td>\n",
       "      <td>45732600</td>\n",
       "    </tr>\n",
       "    <tr>\n",
       "      <th>2023-09-05</th>\n",
       "      <td>188.279999</td>\n",
       "      <td>189.979996</td>\n",
       "      <td>187.610001</td>\n",
       "      <td>189.699997</td>\n",
       "      <td>189.699997</td>\n",
       "      <td>45280000</td>\n",
       "    </tr>\n",
       "    <tr>\n",
       "      <th>2023-09-06</th>\n",
       "      <td>188.399994</td>\n",
       "      <td>188.850006</td>\n",
       "      <td>181.470001</td>\n",
       "      <td>182.910004</td>\n",
       "      <td>182.910004</td>\n",
       "      <td>81755800</td>\n",
       "    </tr>\n",
       "    <tr>\n",
       "      <th>2023-09-07</th>\n",
       "      <td>175.179993</td>\n",
       "      <td>178.210007</td>\n",
       "      <td>173.539993</td>\n",
       "      <td>177.559998</td>\n",
       "      <td>177.559998</td>\n",
       "      <td>112380500</td>\n",
       "    </tr>\n",
       "  </tbody>\n",
       "</table>\n",
       "<p>2517 rows × 6 columns</p>\n",
       "</div>"
      ],
      "text/plain": [
       "                  open        high  ...   adj close     volume\n",
       "date                                ...                       \n",
       "2013-09-09   18.035713   18.139999  ...   15.777155  340687200\n",
       "2013-09-10   18.078571   18.123215  ...   15.417765  743195600\n",
       "2013-09-11   16.678928   16.917500  ...   14.578368  898696400\n",
       "2013-09-12   16.732143   16.978571  ...   14.733592  404051200\n",
       "2013-09-13   16.762142   16.851070  ...   14.490783  298835600\n",
       "...                ...         ...  ...         ...        ...\n",
       "2023-08-31  187.839996  189.119995  ...  187.869995   60794500\n",
       "2023-09-01  189.490005  189.919998  ...  189.460007   45732600\n",
       "2023-09-05  188.279999  189.979996  ...  189.699997   45280000\n",
       "2023-09-06  188.399994  188.850006  ...  182.910004   81755800\n",
       "2023-09-07  175.179993  178.210007  ...  177.559998  112380500\n",
       "\n",
       "[2517 rows x 6 columns]"
      ]
     },
     "execution_count": 81,
     "metadata": {},
     "output_type": "execute_result"
    }
   ],
   "source": [
    "df = df.reset_index()"
   ]
  },
  {
   "cell_type": "code",
   "execution_count": 85,
   "metadata": {},
   "outputs": [
    {
     "name": "stderr",
     "output_type": "stream",
     "text": [
      "C:\\Users\\thong.lam\\AppData\\Local\\Temp\\ipykernel_26980\\3233632567.py:3: SettingWithCopyWarning: \n",
      "A value is trying to be set on a copy of a slice from a DataFrame.\n",
      "Try using .loc[row_indexer,col_indexer] = value instead\n",
      "\n",
      "See the caveats in the documentation: https://pandas.pydata.org/pandas-docs/stable/user_guide/indexing.html#returning-a-view-versus-a-copy\n",
      "  test['Predictions'] = predictions\n"
     ]
    },
    {
     "data": {
      "text/plain": [
       "<matplotlib.legend.Legend at 0x1267bf28490>"
      ]
     },
     "execution_count": 85,
     "metadata": {},
     "output_type": "execute_result"
    },
    {
     "data": {
      "image/png": "[encoded data removed]",
      "text/plain": [
       "<Figure size 1000x800 with 1 Axes>"
      ]
     },
     "metadata": {},
     "output_type": "display_data"
    }
   ],
   "source": [
    "train = df[:training]\n",
    "test = df[training:]\n",
    "test['Predictions'] = predictions\n",
    " \n",
    "plt.figure(figsize=(10, 8))\n",
    "plt.plot(train.index, train['adj close'])\n",
    "plt.plot(test.index, test[['adj close', 'Predictions']])\n",
    "plt.title('Apple Stock Close Price')\n",
    "plt.xlabel('date')\n",
    "plt.ylabel(\"adj lose\")\n",
    "plt.legend(['Train', 'Test', 'Predictions'])"
   ]
  },
  {
   "cell_type": "code",
   "execution_count": 92,
   "metadata": {},
   "outputs": [
    {
     "name": "stdout",
     "output_type": "stream",
     "text": [
      "date\n",
      "2023-08-24    174.978973\n",
      "2023-08-25    174.868515\n",
      "2023-08-28    174.925339\n",
      "2023-08-29    175.127975\n",
      "2023-08-30    175.488403\n",
      "2023-08-31    176.039719\n",
      "2023-09-01    176.785019\n",
      "2023-09-05    177.706207\n",
      "2023-09-06    178.755646\n",
      "2023-09-07    179.791351\n",
      "Name: Predictions, dtype: float32\n",
      "date\n",
      "2023-08-24    176.380005\n",
      "2023-08-25    178.610001\n",
      "2023-08-28    180.190002\n",
      "2023-08-29    184.119995\n",
      "2023-08-30    187.649994\n",
      "2023-08-31    187.869995\n",
      "2023-09-01    189.460007\n",
      "2023-09-05    189.699997\n",
      "2023-09-06    182.910004\n",
      "2023-09-07    177.559998\n",
      "Name: adj close, dtype: float64\n"
     ]
    }
   ],
   "source": [
    "print(test['Predictions'].tail(10))\n",
    "print(df['adj close'].tail(10))"
   ]
  },
  {
   "cell_type": "code",
   "execution_count": 121,
   "metadata": {},
   "outputs": [],
   "source": [
    "# generate the multi-step forecasts\n",
    "def multi_step_forecasts(n_past, n_future):\n",
    "\n",
    "    x_past = features[- n_past - 1:, :, :][:1]  # last observed input sequence\n",
    "    y_past = labels[- n_past - 1]             # last observed target value\n",
    "    y_future = []                        # predicted target values\n",
    "\n",
    "    for i in range(n_past + n_future):\n",
    "\n",
    "        # feed the last forecast back to the model as an input\n",
    "        x_past = np.append(x_past[:, 1:, :], y_past.reshape(1, 1, 1), axis=1)\n",
    "\n",
    "        # generate the next forecast\n",
    "        y_past = model.predict(x_past)\n",
    "\n",
    "        # save the forecast\n",
    "        y_future.append(y_past.flatten()[0])\n",
    "\n",
    "    # transform the forecasts back to the original scale\n",
    "    y_future = scaler.inverse_transform(np.array(y_future).reshape(-1, 1)).flatten()\n",
    "\n",
    "    # add the forecasts to the data frame\n",
    "    df_past = close_data.rename(columns={'adj close': 'Actual'}).copy()\n",
    "\n",
    "    df_future = pd.DataFrame(\n",
    "        index=pd.bdate_range(start=close_data.index[- n_past - 1] + pd.Timedelta(days=1), periods=n_past + n_future),\n",
    "        columns=['Forecast'],\n",
    "        data=y_future\n",
    "    )\n",
    "\n",
    "    return df_past.join(df_future, how='outer')"
   ]
  },
  {
   "cell_type": "code",
   "execution_count": 124,
   "metadata": {},
   "outputs": [
    {
     "name": "stdout",
     "output_type": "stream",
     "text": [
      "1/1 [==============================] - 4s 4s/step\n",
      "1/1 [==============================] - 0s 79ms/step\n",
      "1/1 [==============================] - 0s 73ms/step\n",
      "1/1 [==============================] - 0s 65ms/step\n",
      "1/1 [==============================] - 0s 100ms/step\n",
      "1/1 [==============================] - 0s 79ms/step\n",
      "1/1 [==============================] - 0s 58ms/step\n",
      "1/1 [==============================] - 0s 62ms/step\n",
      "1/1 [==============================] - 0s 59ms/step\n",
      "1/1 [==============================] - 0s 68ms/step\n",
      "1/1 [==============================] - 0s 62ms/step\n",
      "1/1 [==============================] - 0s 63ms/step\n",
      "1/1 [==============================] - 0s 60ms/step\n",
      "1/1 [==============================] - 0s 63ms/step\n",
      "1/1 [==============================] - 0s 64ms/step\n",
      "1/1 [==============================] - 0s 60ms/step\n",
      "1/1 [==============================] - 0s 63ms/step\n",
      "1/1 [==============================] - 0s 56ms/step\n",
      "1/1 [==============================] - 0s 61ms/step\n",
      "1/1 [==============================] - 0s 54ms/step\n",
      "1/1 [==============================] - 0s 53ms/step\n",
      "1/1 [==============================] - 0s 54ms/step\n",
      "1/1 [==============================] - 0s 59ms/step\n",
      "1/1 [==============================] - 0s 67ms/step\n",
      "1/1 [==============================] - 0s 56ms/step\n",
      "1/1 [==============================] - 0s 53ms/step\n",
      "1/1 [==============================] - 0s 57ms/step\n",
      "1/1 [==============================] - 0s 55ms/step\n",
      "1/1 [==============================] - 0s 53ms/step\n",
      "1/1 [==============================] - 0s 70ms/step\n",
      "1/1 [==============================] - 0s 57ms/step\n",
      "1/1 [==============================] - 0s 50ms/step\n",
      "1/1 [==============================] - 0s 59ms/step\n",
      "1/1 [==============================] - 0s 56ms/step\n",
      "1/1 [==============================] - 0s 53ms/step\n",
      "1/1 [==============================] - 0s 47ms/step\n",
      "1/1 [==============================] - 0s 49ms/step\n",
      "1/1 [==============================] - 0s 49ms/step\n",
      "1/1 [==============================] - 0s 49ms/step\n",
      "1/1 [==============================] - 0s 51ms/step\n",
      "1/1 [==============================] - 0s 57ms/step\n",
      "1/1 [==============================] - 0s 56ms/step\n",
      "1/1 [==============================] - 0s 165ms/step\n",
      "1/1 [==============================] - 0s 57ms/step\n",
      "1/1 [==============================] - 0s 68ms/step\n",
      "1/1 [==============================] - 0s 60ms/step\n",
      "1/1 [==============================] - 0s 65ms/step\n",
      "1/1 [==============================] - 0s 61ms/step\n",
      "1/1 [==============================] - 0s 53ms/step\n",
      "1/1 [==============================] - 0s 49ms/step\n",
      "1/1 [==============================] - 0s 53ms/step\n",
      "1/1 [==============================] - 0s 57ms/step\n",
      "1/1 [==============================] - 0s 52ms/step\n",
      "1/1 [==============================] - 0s 48ms/step\n",
      "1/1 [==============================] - 0s 52ms/step\n",
      "1/1 [==============================] - 0s 57ms/step\n",
      "1/1 [==============================] - 0s 50ms/step\n",
      "1/1 [==============================] - 0s 49ms/step\n",
      "1/1 [==============================] - 0s 53ms/step\n",
      "1/1 [==============================] - 0s 54ms/step\n",
      "1/1 [==============================] - 0s 50ms/step\n",
      "1/1 [==============================] - 0s 51ms/step\n",
      "1/1 [==============================] - 0s 56ms/step\n",
      "1/1 [==============================] - 0s 54ms/step\n",
      "1/1 [==============================] - 0s 52ms/step\n",
      "1/1 [==============================] - 0s 50ms/step\n",
      "1/1 [==============================] - 0s 50ms/step\n",
      "1/1 [==============================] - 0s 49ms/step\n",
      "1/1 [==============================] - 0s 51ms/step\n",
      "1/1 [==============================] - 0s 55ms/step\n",
      "1/1 [==============================] - 0s 47ms/step\n",
      "1/1 [==============================] - 0s 50ms/step\n",
      "1/1 [==============================] - 0s 52ms/step\n",
      "1/1 [==============================] - 0s 48ms/step\n",
      "1/1 [==============================] - 0s 52ms/step\n",
      "1/1 [==============================] - 0s 49ms/step\n",
      "1/1 [==============================] - 0s 47ms/step\n",
      "1/1 [==============================] - 0s 47ms/step\n",
      "1/1 [==============================] - 0s 49ms/step\n",
      "1/1 [==============================] - 0s 52ms/step\n"
     ]
    },
    {
     "data": {
      "text/plain": [
       "<Axes: title={'center': 'AAPL'}>"
      ]
     },
     "execution_count": 124,
     "metadata": {},
     "output_type": "execute_result"
    },
    {
     "data": {
      "image/png": "[encoded data removed]",
      "text/plain": [
       "<Figure size 640x480 with 1 Axes>"
      ]
     },
     "metadata": {},
     "output_type": "display_data"
    },
    {
     "data": {
      "image/png": "[encoded data removed]",
      "text/plain": [
       "<Figure size 640x480 with 1 Axes>"
      ]
     },
     "metadata": {},
     "output_type": "display_data"
    }
   ],
   "source": [
    "# forecast the next 30 days\n",
    "df1 = multi_step_forecasts(n_past=0, n_future=30)\n",
    "df1.tail(500).plot(title=symbol)\n",
    "\n",
    "# forecast the last 20 days and the next 30 days\n",
    "df2 = multi_step_forecasts(n_past=20, n_future=30)\n",
    "df2.tail(500).plot(title=symbol)"
   ]
  },
  {
   "cell_type": "markdown",
   "metadata": {},
   "source": [
    "Hyper Parameters Tuning"
   ]
  },
  {
   "cell_type": "code",
   "execution_count": null,
   "metadata": {},
   "outputs": [],
   "source": [
    "# Handling missing value"
   ]
  },
  {
   "cell_type": "code",
   "execution_count": null,
   "metadata": {},
   "outputs": [],
   "source": [
    "# Handling outliers"
   ]
  },
  {
   "cell_type": "code",
   "execution_count": null,
   "metadata": {},
   "outputs": [],
   "source": [
    "# Scaling"
   ]
  },
  {
   "cell_type": "code",
   "execution_count": 103,
   "metadata": {},
   "outputs": [],
   "source": [
    "from matplotlib.pyplot import figure"
   ]
  },
  {
   "cell_type": "code",
   "execution_count": 105,
   "metadata": {},
   "outputs": [],
   "source": [
    "def plot_chart(symbol, data_date, data_feature, num_data_points, display_date_range, config):\n",
    "    fig = figure(figsize=(25, 5), dpi=80)\n",
    "    fig.patch.set_facecolor((1.0, 1.0, 1.0))\n",
    "\n",
    "    plt.plot(data_date, data_feature, color=config[\"plots\"][\"color_actual\"])\n",
    "\n",
    "    xticks = [data_date[i] if ((i%config[\"plots\"][\"xticks_interval\"]==0 and (num_data_points-i) > config[\"plots\"][\"xticks_interval\"]) or i==num_data_points-1) else None for i in range(num_data_points)] # make x ticks nice\n",
    "    x = np.arange(0,len(xticks))\n",
    "    plt.xticks(x, xticks, rotation='vertical')\n",
    "    plt.title(\"Daily close price for \" + symbol + \", \" + display_date_range)\n",
    "    plt.grid(visible=None, which='major', axis='y', linestyle='--')\n",
    "    plt.show()\n"
   ]
  },
  {
   "cell_type": "code",
   "execution_count": null,
   "metadata": {},
   "outputs": [],
   "source": [
    "def plot_chart(symbol, data_date, data_feature, num_data_points, display_date_range, config):\n",
    "\n",
    "    # prepare data for plotting, show predicted prices\n",
    "\n",
    "    to_plot_data_y_train_pred = np.zeros(num_data_points)\n",
    "    to_plot_data_y_val_pred = np.zeros(num_data_points)\n",
    "\n",
    "    to_plot_data_y_train_pred[config[\"data\"][\"window_size\"]:split_index+config[\"data\"][\"window_size\"]] = scaler.inverse_transform(predicted_train)\n",
    "    to_plot_data_y_val_pred[split_index+config[\"data\"][\"window_size\"]:] = scaler.inverse_transform(predicted_val)\n",
    "\n",
    "    to_plot_data_y_train_pred = np.where(to_plot_data_y_train_pred == 0, None, to_plot_data_y_train_pred)\n",
    "    to_plot_data_y_val_pred = np.where(to_plot_data_y_val_pred == 0, None, to_plot_data_y_val_pred)\n",
    "    fig = figure(figsize=(25, 5), dpi=80)\n",
    "    fig.patch.set_facecolor((1.0, 1.0, 1.0))\n",
    "\n",
    "    plt.plot(data_date, to_plot_data_y_train, label=\"Prices (train)\", color=config[\"plots\"][\"color_train\"])\n",
    "    plt.plot(data_date, to_plot_data_y_val, label=\"Prices (validation)\", color=config[\"plots\"][\"color_val\"])\n",
    "\n",
    "    xticks = [data_date[i] if ((i%config[\"plots\"][\"xticks_interval\"]==0 and (num_data_points-i) > config[\"plots\"][\"xticks_interval\"]) or i==num_data_points-1) else None for i in range(num_data_points)] # make x ticks nice\n",
    "    x = np.arange(0,len(xticks))\n",
    "    \n",
    "    plt.xticks(x, xticks, rotation='vertical')\n",
    "    plt.title(\"Daily close prices for \" + config[\"y_finance\"][\"symbol\"] + \" - showing training and validation data\")\n",
    "    plt.grid(visible=None, which='major', axis='y', linestyle='--')\n",
    "    plt.legend()\n",
    "    plt.show()"
   ]
  },
  {
   "cell_type": "code",
   "execution_count": 95,
   "metadata": {},
   "outputs": [],
   "source": [
    "def download_data(symbol):\n",
    "    # get the data from yahoo finance\n",
    "    data = yf.download(symbol, period=\"10y\")\n",
    "\n",
    "    # Change column names to lower case to process easier\n",
    "    \n",
    "    data.columns = data.columns.str.lower()\n",
    "\n",
    "    # Get the date of data points into a list\n",
    "    data_date = data.index.strftime('%Y-%m-%d').tolist()\n",
    "\n",
    "    # Get the adjusted price in each data points \n",
    "    data_feature = data[\"adj close\"]\n",
    "    data_feature = np.array(data_feature)\n",
    "    \n",
    "    # Get the number of data points\n",
    "    num_data_points = len(data_date)\n",
    "\n",
    "    display_date_range = \"from \" + data_date[0] + \" to \" + data_date[num_data_points-1]\n",
    "    print(\"Number data points:\", num_data_points, display_date_range)\n",
    "\n",
    "    return data_date, data_feature, num_data_points, display_date_range"
   ]
  },
  {
   "cell_type": "code",
   "execution_count": 96,
   "metadata": {},
   "outputs": [
    {
     "name": "stdout",
     "output_type": "stream",
     "text": [
      "[*********************100%%**********************]  1 of 1 completed\n",
      "Number data points: 2517 from 2013-09-09 to 2023-09-07\n"
     ]
    }
   ],
   "source": [
    "data_date, data_feature, num_data_points, display_date_range = download_data(symbol)"
   ]
  },
  {
   "cell_type": "code",
   "execution_count": 106,
   "metadata": {},
   "outputs": [
    {
     "data": {
      "image/png": "[encoded data removed]",
      "text/plain": [
       "<Figure size 2000x400 with 1 Axes>"
      ]
     },
     "metadata": {},
     "output_type": "display_data"
    }
   ],
   "source": [
    "plot_chart(symbol, data_date, data_feature, num_data_points, display_date_range, config)"
   ]
  },
  {
   "cell_type": "code",
   "execution_count": null,
   "metadata": {},
   "outputs": [],
   "source": []
  },
  {
   "cell_type": "markdown",
   "metadata": {},
   "source": [
    "Tuning the Number of Epochs\n",
    "\n",
    "Tuning the Batch Size\n",
    "\n",
    "Tuning the Number of Neurons"
   ]
  }
 ],
 "metadata": {
  "kernelspec": {
   "display_name": "base",
   "language": "python",
   "name": "python3"
  },
  "language_info": {
   "codemirror_mode": {
    "name": "ipython",
    "version": 3
   },
   "file_extension": ".py",
   "mimetype": "text/x-python",
   "name": "python",
   "nbconvert_exporter": "python",
   "pygments_lexer": "ipython3",
   "version": "3.11.3"
  },
  "orig_nbformat": 4
 },
 "nbformat": 4,
 "nbformat_minor": 2
}
