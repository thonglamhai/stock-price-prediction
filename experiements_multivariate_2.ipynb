{
 "cells": [
  {
   "cell_type": "markdown",
   "metadata": {},
   "source": [
    "## Part 1: Importing Libraries"
   ]
  },
  {
   "cell_type": "code",
   "execution_count": 1,
   "metadata": {},
   "outputs": [],
   "source": [
    "from src.modules import data_preprocessing as dp\n",
    "from src.modules import data_visualization as dv\n",
    "from src.modules import modeling as md\n",
    "\n",
    "import pandas as pd\n",
    "import numpy as np\n",
    "from sklearn.preprocessing import MinMaxScaler\n",
    "\n",
    "import tensorflow as tf\n",
    "from tensorflow.keras.models import Sequential\n",
    "from tensorflow.keras.layers import LSTM, Dense, Dropout, Bidirectional\n",
    "from tensorflow.keras.callbacks import ModelCheckpoint, TensorBoard"
   ]
  },
  {
   "cell_type": "markdown",
   "metadata": {},
   "source": [
    "## Part 2: Download Dataset"
   ]
  },
  {
   "cell_type": "code",
   "execution_count": 2,
   "metadata": {},
   "outputs": [],
   "source": [
    "# Declare the ticker symbol. Here we use 5 stocks \"AAPL MSFT AMD GOOG META\" as an example.\n",
    "tickers = \"AAPL MSFT AMD GOOG META\""
   ]
  },
  {
   "cell_type": "code",
   "execution_count": 3,
   "metadata": {},
   "outputs": [
    {
     "name": "stdout",
     "output_type": "stream",
     "text": [
      "[*********************100%%**********************]  5 of 5 completed\n"
     ]
    }
   ],
   "source": [
    "# Download the data from Yahoo Finance\n",
    "df = dp.download_data(tickers)"
   ]
  },
  {
   "cell_type": "code",
   "execution_count": 7,
   "metadata": {},
   "outputs": [
    {
     "data": {
      "text/html": [
       "<div>\n",
       "<style scoped>\n",
       "    .dataframe tbody tr th:only-of-type {\n",
       "        vertical-align: middle;\n",
       "    }\n",
       "\n",
       "    .dataframe tbody tr th {\n",
       "        vertical-align: top;\n",
       "    }\n",
       "\n",
       "    .dataframe thead tr th {\n",
       "        text-align: left;\n",
       "    }\n",
       "\n",
       "    .dataframe thead tr:last-of-type th {\n",
       "        text-align: right;\n",
       "    }\n",
       "</style>\n",
       "<table border=\"1\" class=\"dataframe\">\n",
       "  <thead>\n",
       "    <tr>\n",
       "      <th></th>\n",
       "      <th colspan=\"5\" halign=\"left\">Adj Close</th>\n",
       "      <th colspan=\"5\" halign=\"left\">Close</th>\n",
       "      <th>...</th>\n",
       "      <th colspan=\"5\" halign=\"left\">Open</th>\n",
       "      <th colspan=\"5\" halign=\"left\">Volume</th>\n",
       "    </tr>\n",
       "    <tr>\n",
       "      <th></th>\n",
       "      <th>AAPL</th>\n",
       "      <th>AMD</th>\n",
       "      <th>GOOG</th>\n",
       "      <th>META</th>\n",
       "      <th>MSFT</th>\n",
       "      <th>AAPL</th>\n",
       "      <th>AMD</th>\n",
       "      <th>GOOG</th>\n",
       "      <th>META</th>\n",
       "      <th>MSFT</th>\n",
       "      <th>...</th>\n",
       "      <th>AAPL</th>\n",
       "      <th>AMD</th>\n",
       "      <th>GOOG</th>\n",
       "      <th>META</th>\n",
       "      <th>MSFT</th>\n",
       "      <th>AAPL</th>\n",
       "      <th>AMD</th>\n",
       "      <th>GOOG</th>\n",
       "      <th>META</th>\n",
       "      <th>MSFT</th>\n",
       "    </tr>\n",
       "    <tr>\n",
       "      <th>Date</th>\n",
       "      <th></th>\n",
       "      <th></th>\n",
       "      <th></th>\n",
       "      <th></th>\n",
       "      <th></th>\n",
       "      <th></th>\n",
       "      <th></th>\n",
       "      <th></th>\n",
       "      <th></th>\n",
       "      <th></th>\n",
       "      <th></th>\n",
       "      <th></th>\n",
       "      <th></th>\n",
       "      <th></th>\n",
       "      <th></th>\n",
       "      <th></th>\n",
       "      <th></th>\n",
       "      <th></th>\n",
       "      <th></th>\n",
       "      <th></th>\n",
       "      <th></th>\n",
       "    </tr>\n",
       "  </thead>\n",
       "  <tbody>\n",
       "    <tr>\n",
       "      <th>2013-09-09</th>\n",
       "      <td>15.777156</td>\n",
       "      <td>3.69</td>\n",
       "      <td>22.118345</td>\n",
       "      <td>44.040001</td>\n",
       "      <td>26.512550</td>\n",
       "      <td>18.077499</td>\n",
       "      <td>3.69</td>\n",
       "      <td>22.118345</td>\n",
       "      <td>44.040001</td>\n",
       "      <td>31.660000</td>\n",
       "      <td>...</td>\n",
       "      <td>18.035713</td>\n",
       "      <td>3.63</td>\n",
       "      <td>22.010748</td>\n",
       "      <td>44.360001</td>\n",
       "      <td>31.219999</td>\n",
       "      <td>340687200</td>\n",
       "      <td>23646200</td>\n",
       "      <td>49569103</td>\n",
       "      <td>75794700</td>\n",
       "      <td>49628500</td>\n",
       "    </tr>\n",
       "    <tr>\n",
       "      <th>2013-09-10</th>\n",
       "      <td>15.417768</td>\n",
       "      <td>3.87</td>\n",
       "      <td>22.133787</td>\n",
       "      <td>43.599998</td>\n",
       "      <td>27.123867</td>\n",
       "      <td>17.665714</td>\n",
       "      <td>3.87</td>\n",
       "      <td>22.133787</td>\n",
       "      <td>43.599998</td>\n",
       "      <td>32.389999</td>\n",
       "      <td>...</td>\n",
       "      <td>18.078571</td>\n",
       "      <td>3.78</td>\n",
       "      <td>22.167412</td>\n",
       "      <td>44.240002</td>\n",
       "      <td>31.900000</td>\n",
       "      <td>743195600</td>\n",
       "      <td>33201100</td>\n",
       "      <td>51697050</td>\n",
       "      <td>54540300</td>\n",
       "      <td>56881200</td>\n",
       "    </tr>\n",
       "    <tr>\n",
       "      <th>2013-09-11</th>\n",
       "      <td>14.578372</td>\n",
       "      <td>3.82</td>\n",
       "      <td>22.321085</td>\n",
       "      <td>45.040001</td>\n",
       "      <td>27.416958</td>\n",
       "      <td>16.703930</td>\n",
       "      <td>3.82</td>\n",
       "      <td>22.321085</td>\n",
       "      <td>45.040001</td>\n",
       "      <td>32.740002</td>\n",
       "      <td>...</td>\n",
       "      <td>16.678928</td>\n",
       "      <td>3.87</td>\n",
       "      <td>22.130548</td>\n",
       "      <td>43.389999</td>\n",
       "      <td>32.570000</td>\n",
       "      <td>898696400</td>\n",
       "      <td>24009100</td>\n",
       "      <td>64665477</td>\n",
       "      <td>72328300</td>\n",
       "      <td>39087500</td>\n",
       "    </tr>\n",
       "    <tr>\n",
       "      <th>2013-09-12</th>\n",
       "      <td>14.733598</td>\n",
       "      <td>3.75</td>\n",
       "      <td>22.243128</td>\n",
       "      <td>44.750000</td>\n",
       "      <td>27.375086</td>\n",
       "      <td>16.881786</td>\n",
       "      <td>3.75</td>\n",
       "      <td>22.243128</td>\n",
       "      <td>44.750000</td>\n",
       "      <td>32.689999</td>\n",
       "      <td>...</td>\n",
       "      <td>16.732143</td>\n",
       "      <td>3.76</td>\n",
       "      <td>22.351221</td>\n",
       "      <td>45.529999</td>\n",
       "      <td>32.720001</td>\n",
       "      <td>404051200</td>\n",
       "      <td>28947700</td>\n",
       "      <td>43984248</td>\n",
       "      <td>68072300</td>\n",
       "      <td>32860200</td>\n",
       "    </tr>\n",
       "    <tr>\n",
       "      <th>2013-09-13</th>\n",
       "      <td>14.490782</td>\n",
       "      <td>3.83</td>\n",
       "      <td>22.143749</td>\n",
       "      <td>44.310001</td>\n",
       "      <td>27.659805</td>\n",
       "      <td>16.603571</td>\n",
       "      <td>3.83</td>\n",
       "      <td>22.143749</td>\n",
       "      <td>44.310001</td>\n",
       "      <td>33.029999</td>\n",
       "      <td>...</td>\n",
       "      <td>16.762142</td>\n",
       "      <td>3.75</td>\n",
       "      <td>22.278994</td>\n",
       "      <td>45.040001</td>\n",
       "      <td>32.770000</td>\n",
       "      <td>298835600</td>\n",
       "      <td>25331400</td>\n",
       "      <td>53214717</td>\n",
       "      <td>52765300</td>\n",
       "      <td>40899000</td>\n",
       "    </tr>\n",
       "  </tbody>\n",
       "</table>\n",
       "<p>5 rows × 30 columns</p>\n",
       "</div>"
      ],
      "text/plain": [
       "            Adj Close                                             Close        \\\n",
       "                 AAPL   AMD       GOOG       META       MSFT       AAPL   AMD   \n",
       "Date                                                                            \n",
       "2013-09-09  15.777156  3.69  22.118345  44.040001  26.512550  18.077499  3.69   \n",
       "2013-09-10  15.417768  3.87  22.133787  43.599998  27.123867  17.665714  3.87   \n",
       "2013-09-11  14.578372  3.82  22.321085  45.040001  27.416958  16.703930  3.82   \n",
       "2013-09-12  14.733598  3.75  22.243128  44.750000  27.375086  16.881786  3.75   \n",
       "2013-09-13  14.490782  3.83  22.143749  44.310001  27.659805  16.603571  3.83   \n",
       "\n",
       "                                             ...       Open                   \\\n",
       "                 GOOG       META       MSFT  ...       AAPL   AMD       GOOG   \n",
       "Date                                         ...                               \n",
       "2013-09-09  22.118345  44.040001  31.660000  ...  18.035713  3.63  22.010748   \n",
       "2013-09-10  22.133787  43.599998  32.389999  ...  18.078571  3.78  22.167412   \n",
       "2013-09-11  22.321085  45.040001  32.740002  ...  16.678928  3.87  22.130548   \n",
       "2013-09-12  22.243128  44.750000  32.689999  ...  16.732143  3.76  22.351221   \n",
       "2013-09-13  22.143749  44.310001  33.029999  ...  16.762142  3.75  22.278994   \n",
       "\n",
       "                                     Volume                                \\\n",
       "                 META       MSFT       AAPL       AMD      GOOG      META   \n",
       "Date                                                                        \n",
       "2013-09-09  44.360001  31.219999  340687200  23646200  49569103  75794700   \n",
       "2013-09-10  44.240002  31.900000  743195600  33201100  51697050  54540300   \n",
       "2013-09-11  43.389999  32.570000  898696400  24009100  64665477  72328300   \n",
       "2013-09-12  45.529999  32.720001  404051200  28947700  43984248  68072300   \n",
       "2013-09-13  45.040001  32.770000  298835600  25331400  53214717  52765300   \n",
       "\n",
       "                      \n",
       "                MSFT  \n",
       "Date                  \n",
       "2013-09-09  49628500  \n",
       "2013-09-10  56881200  \n",
       "2013-09-11  39087500  \n",
       "2013-09-12  32860200  \n",
       "2013-09-13  40899000  \n",
       "\n",
       "[5 rows x 30 columns]"
      ]
     },
     "execution_count": 7,
     "metadata": {},
     "output_type": "execute_result"
    }
   ],
   "source": [
    "df.head()"
   ]
  },
  {
   "cell_type": "code",
   "execution_count": 4,
   "metadata": {},
   "outputs": [],
   "source": [
    "df.columns = df.columns.droplevel(0)"
   ]
  },
  {
   "cell_type": "code",
   "execution_count": 5,
   "metadata": {},
   "outputs": [],
   "source": [
    "# Got the ajusted close price for the stocks\n",
    "df = df.iloc[:,0:5]"
   ]
  },
  {
   "cell_type": "code",
   "execution_count": 6,
   "metadata": {},
   "outputs": [
    {
     "data": {
      "text/html": [
       "<div>\n",
       "<style scoped>\n",
       "    .dataframe tbody tr th:only-of-type {\n",
       "        vertical-align: middle;\n",
       "    }\n",
       "\n",
       "    .dataframe tbody tr th {\n",
       "        vertical-align: top;\n",
       "    }\n",
       "\n",
       "    .dataframe thead th {\n",
       "        text-align: right;\n",
       "    }\n",
       "</style>\n",
       "<table border=\"1\" class=\"dataframe\">\n",
       "  <thead>\n",
       "    <tr style=\"text-align: right;\">\n",
       "      <th></th>\n",
       "      <th>AAPL</th>\n",
       "      <th>AMD</th>\n",
       "      <th>GOOG</th>\n",
       "      <th>META</th>\n",
       "      <th>MSFT</th>\n",
       "    </tr>\n",
       "    <tr>\n",
       "      <th>Date</th>\n",
       "      <th></th>\n",
       "      <th></th>\n",
       "      <th></th>\n",
       "      <th></th>\n",
       "      <th></th>\n",
       "    </tr>\n",
       "  </thead>\n",
       "  <tbody>\n",
       "    <tr>\n",
       "      <th>2013-09-09</th>\n",
       "      <td>15.777153</td>\n",
       "      <td>3.690000</td>\n",
       "      <td>22.118345</td>\n",
       "      <td>44.040001</td>\n",
       "      <td>26.512547</td>\n",
       "    </tr>\n",
       "    <tr>\n",
       "      <th>2013-09-10</th>\n",
       "      <td>15.417768</td>\n",
       "      <td>3.870000</td>\n",
       "      <td>22.133787</td>\n",
       "      <td>43.599998</td>\n",
       "      <td>27.123865</td>\n",
       "    </tr>\n",
       "    <tr>\n",
       "      <th>2013-09-11</th>\n",
       "      <td>14.578375</td>\n",
       "      <td>3.820000</td>\n",
       "      <td>22.321085</td>\n",
       "      <td>45.040001</td>\n",
       "      <td>27.416956</td>\n",
       "    </tr>\n",
       "    <tr>\n",
       "      <th>2013-09-12</th>\n",
       "      <td>14.733596</td>\n",
       "      <td>3.750000</td>\n",
       "      <td>22.243128</td>\n",
       "      <td>44.750000</td>\n",
       "      <td>27.375082</td>\n",
       "    </tr>\n",
       "    <tr>\n",
       "      <th>2013-09-13</th>\n",
       "      <td>14.490785</td>\n",
       "      <td>3.830000</td>\n",
       "      <td>22.143749</td>\n",
       "      <td>44.310001</td>\n",
       "      <td>27.659800</td>\n",
       "    </tr>\n",
       "    <tr>\n",
       "      <th>...</th>\n",
       "      <td>...</td>\n",
       "      <td>...</td>\n",
       "      <td>...</td>\n",
       "      <td>...</td>\n",
       "      <td>...</td>\n",
       "    </tr>\n",
       "    <tr>\n",
       "      <th>2023-09-01</th>\n",
       "      <td>189.460007</td>\n",
       "      <td>109.449997</td>\n",
       "      <td>136.800003</td>\n",
       "      <td>296.380005</td>\n",
       "      <td>328.660004</td>\n",
       "    </tr>\n",
       "    <tr>\n",
       "      <th>2023-09-05</th>\n",
       "      <td>189.699997</td>\n",
       "      <td>110.779999</td>\n",
       "      <td>136.710007</td>\n",
       "      <td>300.149994</td>\n",
       "      <td>333.549988</td>\n",
       "    </tr>\n",
       "    <tr>\n",
       "      <th>2023-09-06</th>\n",
       "      <td>182.910004</td>\n",
       "      <td>109.279999</td>\n",
       "      <td>135.369995</td>\n",
       "      <td>299.170013</td>\n",
       "      <td>332.880005</td>\n",
       "    </tr>\n",
       "    <tr>\n",
       "      <th>2023-09-07</th>\n",
       "      <td>177.559998</td>\n",
       "      <td>106.589996</td>\n",
       "      <td>136.199997</td>\n",
       "      <td>298.670013</td>\n",
       "      <td>329.910004</td>\n",
       "    </tr>\n",
       "    <tr>\n",
       "      <th>2023-09-08</th>\n",
       "      <td>178.179993</td>\n",
       "      <td>106.089996</td>\n",
       "      <td>137.199997</td>\n",
       "      <td>297.890015</td>\n",
       "      <td>334.269989</td>\n",
       "    </tr>\n",
       "  </tbody>\n",
       "</table>\n",
       "<p>2518 rows × 5 columns</p>\n",
       "</div>"
      ],
      "text/plain": [
       "                  AAPL         AMD        GOOG        META        MSFT\n",
       "Date                                                                  \n",
       "2013-09-09   15.777153    3.690000   22.118345   44.040001   26.512547\n",
       "2013-09-10   15.417768    3.870000   22.133787   43.599998   27.123865\n",
       "2013-09-11   14.578375    3.820000   22.321085   45.040001   27.416956\n",
       "2013-09-12   14.733596    3.750000   22.243128   44.750000   27.375082\n",
       "2013-09-13   14.490785    3.830000   22.143749   44.310001   27.659800\n",
       "...                ...         ...         ...         ...         ...\n",
       "2023-09-01  189.460007  109.449997  136.800003  296.380005  328.660004\n",
       "2023-09-05  189.699997  110.779999  136.710007  300.149994  333.549988\n",
       "2023-09-06  182.910004  109.279999  135.369995  299.170013  332.880005\n",
       "2023-09-07  177.559998  106.589996  136.199997  298.670013  329.910004\n",
       "2023-09-08  178.179993  106.089996  137.199997  297.890015  334.269989\n",
       "\n",
       "[2518 rows x 5 columns]"
      ]
     },
     "execution_count": 6,
     "metadata": {},
     "output_type": "execute_result"
    }
   ],
   "source": [
    "# Checking the adjusted close price for the stocks\n",
    "df"
   ]
  },
  {
   "cell_type": "markdown",
   "metadata": {},
   "source": [
    "## Part 3: EDA & Preprocessing"
   ]
  },
  {
   "cell_type": "code",
   "execution_count": 7,
   "metadata": {},
   "outputs": [],
   "source": [
    "# Set global style\n",
    "dv.set_global_style()"
   ]
  },
  {
   "cell_type": "code",
   "execution_count": 8,
   "metadata": {},
   "outputs": [
    {
     "data": {
      "image/png": "[encoded data removed]",
      "text/plain": [
       "<Figure size 2400x1000 with 3 Axes>"
      ]
     },
     "metadata": {},
     "output_type": "display_data"
    }
   ],
   "source": [
    "# Checking missing value\n",
    "dv.plot_missing_values(df)"
   ]
  },
  {
   "cell_type": "code",
   "execution_count": 9,
   "metadata": {},
   "outputs": [
    {
     "data": {
      "image/png": "[encoded data removed]",
      "text/plain": [
       "<Figure size 1400x800 with 1 Axes>"
      ]
     },
     "metadata": {},
     "output_type": "display_data"
    }
   ],
   "source": [
    "# Visualize the outliers data\n",
    "dv.plot_outliers(df)"
   ]
  },
  {
   "cell_type": "code",
   "execution_count": 10,
   "metadata": {},
   "outputs": [],
   "source": [
    "# Clean the data after checking the missing values and outliers\n",
    "df = dp.clean_data(df)"
   ]
  },
  {
   "cell_type": "code",
   "execution_count": 11,
   "metadata": {},
   "outputs": [],
   "source": [
    "# Change index to lowercase for convenience\n",
    "df.index.name = df.index.name.lower()"
   ]
  },
  {
   "cell_type": "code",
   "execution_count": 12,
   "metadata": {},
   "outputs": [
    {
     "data": {
      "text/plain": [
       "(2518, 5)"
      ]
     },
     "execution_count": 12,
     "metadata": {},
     "output_type": "execute_result"
    }
   ],
   "source": [
    "df.shape"
   ]
  },
  {
   "cell_type": "code",
   "execution_count": 18,
   "metadata": {},
   "outputs": [
    {
     "name": "stdout",
     "output_type": "stream",
     "text": [
      "<class 'pandas.core.frame.DataFrame'>\n",
      "DatetimeIndex: 2518 entries, 2013-09-09 to 2023-09-08\n",
      "Data columns (total 5 columns):\n",
      " #   Column  Non-Null Count  Dtype  \n",
      "---  ------  --------------  -----  \n",
      " 0   aapl    2518 non-null   float64\n",
      " 1   amd     2518 non-null   float64\n",
      " 2   goog    2518 non-null   float64\n",
      " 3   meta    2518 non-null   float64\n",
      " 4   msft    2518 non-null   float64\n",
      "dtypes: float64(5)\n",
      "memory usage: 118.0 KB\n"
     ]
    }
   ],
   "source": [
    "df.info()"
   ]
  },
  {
   "cell_type": "code",
   "execution_count": 19,
   "metadata": {},
   "outputs": [
    {
     "data": {
      "text/html": [
       "<div>\n",
       "<style scoped>\n",
       "    .dataframe tbody tr th:only-of-type {\n",
       "        vertical-align: middle;\n",
       "    }\n",
       "\n",
       "    .dataframe tbody tr th {\n",
       "        vertical-align: top;\n",
       "    }\n",
       "\n",
       "    .dataframe thead th {\n",
       "        text-align: right;\n",
       "    }\n",
       "</style>\n",
       "<table border=\"1\" class=\"dataframe\">\n",
       "  <thead>\n",
       "    <tr style=\"text-align: right;\">\n",
       "      <th></th>\n",
       "      <th>aapl</th>\n",
       "      <th>amd</th>\n",
       "      <th>goog</th>\n",
       "      <th>meta</th>\n",
       "      <th>msft</th>\n",
       "    </tr>\n",
       "  </thead>\n",
       "  <tbody>\n",
       "    <tr>\n",
       "      <th>count</th>\n",
       "      <td>2518.000000</td>\n",
       "      <td>2518.000000</td>\n",
       "      <td>2518.000000</td>\n",
       "      <td>2518.000000</td>\n",
       "      <td>2518.000000</td>\n",
       "    </tr>\n",
       "    <tr>\n",
       "      <th>mean</th>\n",
       "      <td>70.875152</td>\n",
       "      <td>39.643566</td>\n",
       "      <td>65.572871</td>\n",
       "      <td>169.612720</td>\n",
       "      <td>135.031499</td>\n",
       "    </tr>\n",
       "    <tr>\n",
       "      <th>std</th>\n",
       "      <td>54.362402</td>\n",
       "      <td>40.700970</td>\n",
       "      <td>36.101107</td>\n",
       "      <td>79.961390</td>\n",
       "      <td>97.732748</td>\n",
       "    </tr>\n",
       "    <tr>\n",
       "      <th>min</th>\n",
       "      <td>14.030095</td>\n",
       "      <td>1.620000</td>\n",
       "      <td>21.262054</td>\n",
       "      <td>42.509998</td>\n",
       "      <td>26.512556</td>\n",
       "    </tr>\n",
       "    <tr>\n",
       "      <th>25%</th>\n",
       "      <td>26.269001</td>\n",
       "      <td>4.122500</td>\n",
       "      <td>36.127126</td>\n",
       "      <td>108.482500</td>\n",
       "      <td>47.202954</td>\n",
       "    </tr>\n",
       "    <tr>\n",
       "      <th>50%</th>\n",
       "      <td>43.972168</td>\n",
       "      <td>19.300000</td>\n",
       "      <td>55.180750</td>\n",
       "      <td>165.750000</td>\n",
       "      <td>100.056911</td>\n",
       "    </tr>\n",
       "    <tr>\n",
       "      <th>75%</th>\n",
       "      <td>125.772142</td>\n",
       "      <td>78.369997</td>\n",
       "      <td>91.796753</td>\n",
       "      <td>207.827496</td>\n",
       "      <td>227.491306</td>\n",
       "    </tr>\n",
       "    <tr>\n",
       "      <th>max</th>\n",
       "      <td>196.185074</td>\n",
       "      <td>161.910004</td>\n",
       "      <td>150.709000</td>\n",
       "      <td>382.179993</td>\n",
       "      <td>358.730469</td>\n",
       "    </tr>\n",
       "  </tbody>\n",
       "</table>\n",
       "</div>"
      ],
      "text/plain": [
       "              aapl          amd         goog         meta         msft\n",
       "count  2518.000000  2518.000000  2518.000000  2518.000000  2518.000000\n",
       "mean     70.875152    39.643566    65.572871   169.612720   135.031499\n",
       "std      54.362402    40.700970    36.101107    79.961390    97.732748\n",
       "min      14.030095     1.620000    21.262054    42.509998    26.512556\n",
       "25%      26.269001     4.122500    36.127126   108.482500    47.202954\n",
       "50%      43.972168    19.300000    55.180750   165.750000   100.056911\n",
       "75%     125.772142    78.369997    91.796753   207.827496   227.491306\n",
       "max     196.185074   161.910004   150.709000   382.179993   358.730469"
      ]
     },
     "execution_count": 19,
     "metadata": {},
     "output_type": "execute_result"
    }
   ],
   "source": [
    "df.describe()"
   ]
  },
  {
   "cell_type": "markdown",
   "metadata": {},
   "source": [
    "Summary of EDA\n",
    "- There are 2518 data points, 6 features\n",
    "- 5 features are numerical\n",
    "- There are some outliers in `meta` feature, using data cleaning technique to set the value within an appropriate threshold\n",
    "- There is no missing nor duplicated values"
   ]
  },
  {
   "cell_type": "markdown",
   "metadata": {},
   "source": [
    "## Part 4: Data Transformation"
   ]
  },
  {
   "cell_type": "code",
   "execution_count": null,
   "metadata": {},
   "outputs": [],
   "source": [
    "# # get the adj close values\n",
    "# close_data = df.filter(['adj close'])\n",
    "# dataset = close_data.values\n",
    "\n",
    "# # select a subset of the data for training purpose\n",
    "# # the remaining set of the data is for validation\n",
    "# num_training_points = int(np.ceil(len(dataset) * .80))\n",
    "# print(num_training_points)"
   ]
  },
  {
   "cell_type": "code",
   "execution_count": 71,
   "metadata": {},
   "outputs": [],
   "source": [
    "def scale_data(dataframe):\n",
    "    # get the adj close values\n",
    "\n",
    "    dataset = df.to_numpy()\n",
    "\n",
    "    # select a subset of the data for training purpose\n",
    "    # the remaining set of the data is for validation\n",
    "    # Get 80% of the data for training\n",
    "    num_training_points = int(np.ceil(len(dataset) * 0.8))\n",
    "    # X_train = dataset[0:num_training_points, :]\n",
    "    # X_test = dataset[num_training_points:, :]\n",
    "\n",
    "    # scale the data\n",
    "    scaler = MinMaxScaler(feature_range=(0,1))\n",
    "    scaled_dataset = scaler.fit_transform(dataset)\n",
    "\n",
    "    # split the data into train and test scaled data sets\n",
    "    scaled_data_train = scaled_dataset[0:int(num_training_points), :]\n",
    "    # scaled_data_test = scaled_data[int(num_training_points)-window_size:, :]\n",
    "\n",
    "    return dataset, scaled_dataset, scaled_data_train, num_training_points, scaler"
   ]
  },
  {
   "cell_type": "code",
   "execution_count": 22,
   "metadata": {},
   "outputs": [],
   "source": [
    "def df_to_X_y(df, window_size=60):\n",
    "  df_as_np = df.to_numpy()\n",
    "  X = []\n",
    "  y = []\n",
    "  for i in range(len(df_as_np)-window_size):\n",
    "    row = [r for r in df_as_np[i:i+window_size]]\n",
    "    X.append(row)\n",
    "    label = [df_as_np[i+window_size][0], df_as_np[i+window_size][1]]\n",
    "    y.append(label)\n",
    "  return np.array(X), np.array(y)"
   ]
  },
  {
   "cell_type": "code",
   "execution_count": 16,
   "metadata": {},
   "outputs": [],
   "source": [
    "p_temp_df = df.copy()"
   ]
  },
  {
   "cell_type": "code",
   "execution_count": 23,
   "metadata": {},
   "outputs": [
    {
     "data": {
      "text/plain": [
       "((2458, 60, 5), (2458, 2))"
      ]
     },
     "execution_count": 23,
     "metadata": {},
     "output_type": "execute_result"
    }
   ],
   "source": [
    "X, y = df_to_X_y(p_temp_df)\n",
    "X.shape, y.shape"
   ]
  },
  {
   "cell_type": "code",
   "execution_count": 25,
   "metadata": {},
   "outputs": [],
   "source": [
    "# num_training_points = int(np.ceil(len(X) * 0.8))\n",
    "# X_train = X[:num_training_points]\n",
    "# X_test = X[num_training_points:]\n",
    "# y_train = y[:num_training_points]\n",
    "# y_test = y[num_training_points:]"
   ]
  },
  {
   "cell_type": "code",
   "execution_count": 28,
   "metadata": {},
   "outputs": [],
   "source": [
    "# aapl_training_mean = np.mean(X_train[:, :, 0])\n",
    "# aapl_training_std = np.std(X_train[:, :, 0])\n",
    "\n",
    "# amd_training_mean = np.mean(X_train[:, :, 1])\n",
    "# amd_training_std = np.std(X_train[:, :, 1])\n",
    "\n",
    "# def preprocess(X):\n",
    "#   X[:, :, 0] = (X[:, :, 0] - aapl_training_mean) / aapl_training_std\n",
    "#   X[:, :, 1] = (X[:, :, 1] - amd_training_mean) / amd_training_std\n",
    "#   return X\n",
    "\n",
    "# def preprocess_output(y):\n",
    "#   y[:, 0] = (y[:, 0] - aapl_training_mean) / aapl_training_std\n",
    "#   y[:, 1] = (y[:, 1] - amd_training_mean) / amd_training_std\n",
    "#   return y"
   ]
  },
  {
   "cell_type": "code",
   "execution_count": 57,
   "metadata": {},
   "outputs": [],
   "source": [
    "# preprocess(X_train)\n",
    "# preprocess(X_test)"
   ]
  },
  {
   "cell_type": "code",
   "execution_count": 56,
   "metadata": {},
   "outputs": [],
   "source": [
    "# preprocess_output(y_train)\n",
    "# preprocess_output(y_test)"
   ]
  },
  {
   "cell_type": "code",
   "execution_count": 32,
   "metadata": {},
   "outputs": [],
   "source": [
    "# from tensorflow.keras.models import Sequential\n",
    "# from tensorflow.keras.layers import *\n",
    "# from tensorflow.keras.callbacks import ModelCheckpoint\n",
    "# from tensorflow.keras.losses import MeanSquaredError\n",
    "# from tensorflow.keras.metrics import RootMeanSquaredError\n",
    "# from tensorflow.keras.optimizers import Adam\n"
   ]
  },
  {
   "cell_type": "code",
   "execution_count": 55,
   "metadata": {},
   "outputs": [],
   "source": [
    "# model5 = Sequential()\n",
    "# model5.add(InputLayer((60, 5)))\n",
    "# model5.add(LSTM(64))\n",
    "# model5.add(Dense(8, 'relu'))\n",
    "# model5.add(Dense(2, 'linear'))\n",
    "\n",
    "# model5.summary()"
   ]
  },
  {
   "cell_type": "code",
   "execution_count": 34,
   "metadata": {},
   "outputs": [],
   "source": [
    "# model5.compile(loss=MeanSquaredError(), optimizer=Adam(learning_rate=0.0001), metrics=[RootMeanSquaredError()])"
   ]
  },
  {
   "cell_type": "code",
   "execution_count": 54,
   "metadata": {},
   "outputs": [],
   "source": [
    "# model5.fit(X_train, y_train, epochs=20)"
   ]
  },
  {
   "cell_type": "code",
   "execution_count": 52,
   "metadata": {},
   "outputs": [],
   "source": [
    "# def plot_predictions2(model, X, y, start=0, end=100):\n",
    "#   predictions = model.predict(X)\n",
    "#   p_preds, temp_preds = predictions[:, 0], predictions[:, 1]\n",
    "#   p_actuals, temp_actuals = y[:, 0], y[:, 1]\n",
    "#   df = pd.DataFrame(data={'Temperature Predictions': temp_preds,\n",
    "#                           'Temperature Actuals':temp_actuals,\n",
    "#                           'Pressure Predictions': p_preds,\n",
    "#                           'Pressure Actuals': p_actuals\n",
    "#                           })\n",
    "#   plt.plot(df['Temperature Predictions'][start:end])\n",
    "#   plt.plot(df['Temperature Actuals'][start:end])\n",
    "#   plt.plot(df['Pressure Predictions'][start:end])\n",
    "#   plt.plot(df['Pressure Actuals'][start:end])\n",
    "#   return df[start:end]"
   ]
  },
  {
   "cell_type": "code",
   "execution_count": 53,
   "metadata": {},
   "outputs": [],
   "source": [
    "# plot_predictions2(model5, X_test, y_test)"
   ]
  },
  {
   "cell_type": "code",
   "execution_count": 49,
   "metadata": {},
   "outputs": [],
   "source": [
    "# def postprocess_temp(arr):\n",
    "#   arr = (arr*aapl_training_std) + aapl_training_mean\n",
    "#   return arr\n",
    "\n",
    "# def postprocess_p(arr):\n",
    "#   arr = (arr*amd_training_std) + amd_training_mean\n",
    "#   return arr"
   ]
  },
  {
   "cell_type": "code",
   "execution_count": null,
   "metadata": {},
   "outputs": [],
   "source": [
    "# def scale_data2(X, y):\n",
    "\n",
    "#     # Define scaler\n",
    "#     scaler = MinMaxScaler(feature_range=(0,1))\n",
    "\n",
    "#     # MinMaxScaler requires 2D array, so we reshape the data\n",
    "#     scaled_X = scaler.fit_transform(X)\n",
    "#     scale_y\n",
    "\n",
    "#     # Select a subset of the data for training purpose\n",
    "#     # Use 80% of the data for training\n",
    "#     num_training_points = int(np.ceil(len(X) * 0.8))\n",
    "\n",
    "#     # split the data into train and test scaled data sets\n",
    "#     scaled_data_train = scaled_data[0:int(num_training_points), :]\n",
    "#     # scaled_data_test = scaled_data[int(num_training_points)-window_size:, :]\n",
    "\n",
    "#     return dataset, scaled_dataset, scaled_data_train, num_training_points, scaler"
   ]
  },
  {
   "cell_type": "markdown",
   "metadata": {},
   "source": [
    "## Part 5: Feature Engineering"
   ]
  },
  {
   "cell_type": "code",
   "execution_count": 96,
   "metadata": {},
   "outputs": [],
   "source": [
    "def convert_to_supervised(data, window_size=60):\n",
    "    # convert the data into a supervised learning problem\n",
    "    # the number of time steps to look back is the window size\n",
    "    # the next day's adjusted close price is the label\n",
    "\n",
    "    X, y = [], []\n",
    "    # for i in range(window_size, len(data)):\n",
    "    #     X.append(data[i-window_size:i, 4])\n",
    "    #     y.append(data[i, 1])\n",
    "    \n",
    "    # print(data[65-window_size:65, 0])\n",
    "    for i in range(len(data)-window_size):\n",
    "        row = [r for r in data[i:i+window_size]]\n",
    "        X.append(row)\n",
    "        label = [data[i+window_size][0], data[i+window_size][1]]\n",
    "        y.append(label)\n",
    "\n",
    "    X, y = np.array(X), np.array(y)\n",
    "\n",
    "    # reshape the data into the shape accepted by the LSTM\n",
    "    X = np.reshape(X, (X.shape[0], X.shape[1], 5))\n",
    "\n",
    "    return X, y"
   ]
  },
  {
   "cell_type": "code",
   "execution_count": 66,
   "metadata": {},
   "outputs": [],
   "source": [
    "# Transform the data to supervised learning\n",
    "window_size = 60 # window size is the number of previous days used to predict the next day. "
   ]
  },
  {
   "cell_type": "code",
   "execution_count": 86,
   "metadata": {},
   "outputs": [],
   "source": [
    "def get_features_labels(dataframe, window_size=60):\n",
    "    dataset, scaled_dataset, scaled_data_train, num_training_points, scaler = scale_data(dataframe)\n",
    "    features, labels = convert_to_supervised(scaled_data_train, window_size)\n",
    "    return features, labels, dataset, scaled_dataset, num_training_points, scaler"
   ]
  },
  {
   "cell_type": "code",
   "execution_count": 97,
   "metadata": {},
   "outputs": [],
   "source": [
    "features, labels, dataset, scaled_dataset, num_training_points, scaler = get_features_labels(dataframe=df, window_size=60)"
   ]
  },
  {
   "cell_type": "code",
   "execution_count": 99,
   "metadata": {},
   "outputs": [
    {
     "name": "stdout",
     "output_type": "stream",
     "text": [
      "(2518, 5)\n",
      "(1955, 60, 5)\n",
      "(1955, 2)\n"
     ]
    }
   ],
   "source": [
    "print(df.shape)\n",
    "print(features.shape)\n",
    "print(labels.shape)"
   ]
  },
  {
   "cell_type": "markdown",
   "metadata": {},
   "source": [
    "## Part 6: Modeling"
   ]
  },
  {
   "cell_type": "code",
   "execution_count": 35,
   "metadata": {},
   "outputs": [],
   "source": [
    "# # Modeling\n",
    "# model = tf.keras.models.Sequential([\n",
    "#     tf.keras.layers.LSTM(units = 128, return_sequences = True, input_shape = (features.shape[1], 1)),\n",
    "#     tf.keras.layers.Dropout(0.2),\n",
    "#     tf.keras.layers.LSTM(units = 64, return_sequences = True),\n",
    "#     tf.keras.layers.Dropout(0.2),\n",
    "#     tf.keras.layers.LSTM(units = 32, return_sequences = False),\n",
    "#     # tf.keras.layers.Dropout(0.2),\n",
    "#     # tf.keras.layers.LSTM(units = 50),\n",
    "#     # tf.keras.layers.Dropout(0.2),\n",
    "#     tf.keras.layers.Dense(units = 25),\n",
    "#     tf.keras.layers.Dense(units = 1)\n",
    "# ])"
   ]
  },
  {
   "cell_type": "code",
   "execution_count": 100,
   "metadata": {},
   "outputs": [],
   "source": [
    "def build_and_train_model(features, labels):\n",
    "    model = Sequential()\n",
    "    model.add(LSTM(128, return_sequences=True, input_shape=(features.shape[1], 5)))\n",
    "    model.add(Dropout(0.2))\n",
    "    model.add(LSTM(64, return_sequences=True))\n",
    "    model.add(Dropout(0.2))\n",
    "    model.add(LSTM(32, return_sequences=False))\n",
    "    model.add(Dense(25))\n",
    "    model.add(Dense(1))\n",
    "\n",
    "    # Compile the model\n",
    "    # cp = ModelCheckpoint('model/', save_best_only=True)\n",
    "\n",
    "    model.compile(optimizer=tf.keras.optimizers.Adam(),\n",
    "                loss=tf.keras.losses.MeanSquaredError(),\n",
    "                metrics=[tf.keras.metrics.RootMeanSquaredError()])\n",
    "    \n",
    "    # Train the model\n",
    "    # history = model.fit(features, labels, epochs = 20, batch_size = 32, verbose = 1, callbacks=[cp])\n",
    "    history = model.fit(features, labels, epochs = 100, batch_size = 32, verbose = 1)\n",
    "    return model, history"
   ]
  },
  {
   "cell_type": "code",
   "execution_count": 101,
   "metadata": {},
   "outputs": [],
   "source": [
    "features, labels, dataset, scaled_dataset, num_training_points, scaler = get_features_labels(dataframe=df, window_size=60)"
   ]
  },
  {
   "cell_type": "code",
   "execution_count": 102,
   "metadata": {},
   "outputs": [
    {
     "name": "stdout",
     "output_type": "stream",
     "text": [
      "Epoch 1/100\n",
      "62/62 [==============================] - 19s 128ms/step - loss: 0.0036 - root_mean_squared_error: 0.0602\n",
      "Epoch 2/100\n",
      "62/62 [==============================] - 8s 135ms/step - loss: 0.0014 - root_mean_squared_error: 0.0379\n",
      "Epoch 3/100\n",
      "62/62 [==============================] - 9s 146ms/step - loss: 0.0013 - root_mean_squared_error: 0.0364\n",
      "Epoch 4/100\n",
      "62/62 [==============================] - 9s 146ms/step - loss: 0.0013 - root_mean_squared_error: 0.0354\n",
      "Epoch 5/100\n",
      "62/62 [==============================] - 9s 150ms/step - loss: 0.0013 - root_mean_squared_error: 0.0357\n",
      "Epoch 6/100\n",
      "62/62 [==============================] - 9s 144ms/step - loss: 0.0012 - root_mean_squared_error: 0.0349\n",
      "Epoch 7/100\n",
      "62/62 [==============================] - 9s 149ms/step - loss: 0.0014 - root_mean_squared_error: 0.0371\n",
      "Epoch 8/100\n",
      "62/62 [==============================] - 9s 143ms/step - loss: 0.0012 - root_mean_squared_error: 0.0352\n",
      "Epoch 9/100\n",
      "62/62 [==============================] - 9s 149ms/step - loss: 0.0012 - root_mean_squared_error: 0.0343\n",
      "Epoch 10/100\n",
      "62/62 [==============================] - 9s 149ms/step - loss: 0.0011 - root_mean_squared_error: 0.0334\n",
      "Epoch 11/100\n",
      "62/62 [==============================] - 9s 152ms/step - loss: 0.0012 - root_mean_squared_error: 0.0343\n",
      "Epoch 12/100\n",
      "62/62 [==============================] - 9s 149ms/step - loss: 0.0011 - root_mean_squared_error: 0.0333\n",
      "Epoch 13/100\n",
      "62/62 [==============================] - 9s 147ms/step - loss: 0.0011 - root_mean_squared_error: 0.0335\n",
      "Epoch 14/100\n",
      "62/62 [==============================] - 9s 144ms/step - loss: 0.0011 - root_mean_squared_error: 0.0337\n",
      "Epoch 15/100\n",
      "62/62 [==============================] - 9s 147ms/step - loss: 0.0012 - root_mean_squared_error: 0.0343\n",
      "Epoch 16/100\n",
      "62/62 [==============================] - 9s 145ms/step - loss: 0.0012 - root_mean_squared_error: 0.0342\n",
      "Epoch 17/100\n",
      "62/62 [==============================] - 10s 157ms/step - loss: 0.0012 - root_mean_squared_error: 0.0342\n",
      "Epoch 18/100\n",
      "62/62 [==============================] - 17s 275ms/step - loss: 0.0011 - root_mean_squared_error: 0.0331\n",
      "Epoch 19/100\n",
      "62/62 [==============================] - 16s 262ms/step - loss: 0.0011 - root_mean_squared_error: 0.0339\n",
      "Epoch 20/100\n",
      "62/62 [==============================] - 12s 186ms/step - loss: 0.0013 - root_mean_squared_error: 0.0365\n",
      "Epoch 21/100\n",
      "62/62 [==============================] - 10s 168ms/step - loss: 0.0011 - root_mean_squared_error: 0.0337\n",
      "Epoch 22/100\n",
      "62/62 [==============================] - 10s 166ms/step - loss: 0.0011 - root_mean_squared_error: 0.0332\n",
      "Epoch 23/100\n",
      "62/62 [==============================] - 10s 161ms/step - loss: 0.0012 - root_mean_squared_error: 0.0352\n",
      "Epoch 24/100\n",
      "62/62 [==============================] - 13s 207ms/step - loss: 0.0011 - root_mean_squared_error: 0.0335\n",
      "Epoch 25/100\n",
      "62/62 [==============================] - 9s 142ms/step - loss: 0.0011 - root_mean_squared_error: 0.0331\n",
      "Epoch 26/100\n",
      "62/62 [==============================] - 9s 146ms/step - loss: 0.0011 - root_mean_squared_error: 0.0326\n",
      "Epoch 27/100\n",
      "62/62 [==============================] - 8s 135ms/step - loss: 0.0011 - root_mean_squared_error: 0.0328\n",
      "Epoch 28/100\n",
      "62/62 [==============================] - 9s 138ms/step - loss: 0.0011 - root_mean_squared_error: 0.0326\n",
      "Epoch 29/100\n",
      "62/62 [==============================] - 8s 121ms/step - loss: 0.0012 - root_mean_squared_error: 0.0339\n",
      "Epoch 30/100\n",
      "62/62 [==============================] - 8s 122ms/step - loss: 0.0011 - root_mean_squared_error: 0.0335\n",
      "Epoch 31/100\n",
      "62/62 [==============================] - 7s 118ms/step - loss: 0.0011 - root_mean_squared_error: 0.0325\n",
      "Epoch 32/100\n",
      "62/62 [==============================] - 7s 108ms/step - loss: 0.0011 - root_mean_squared_error: 0.0327\n",
      "Epoch 33/100\n",
      "62/62 [==============================] - 7s 110ms/step - loss: 0.0011 - root_mean_squared_error: 0.0325\n",
      "Epoch 34/100\n",
      "62/62 [==============================] - 8s 126ms/step - loss: 0.0011 - root_mean_squared_error: 0.0328\n",
      "Epoch 35/100\n",
      "62/62 [==============================] - 8s 125ms/step - loss: 0.0011 - root_mean_squared_error: 0.0330\n",
      "Epoch 36/100\n",
      "62/62 [==============================] - 8s 123ms/step - loss: 0.0016 - root_mean_squared_error: 0.0400\n",
      "Epoch 37/100\n",
      "62/62 [==============================] - 8s 127ms/step - loss: 0.0011 - root_mean_squared_error: 0.0327\n",
      "Epoch 38/100\n",
      "62/62 [==============================] - 9s 142ms/step - loss: 0.0011 - root_mean_squared_error: 0.0326\n",
      "Epoch 39/100\n",
      "62/62 [==============================] - 9s 149ms/step - loss: 0.0010 - root_mean_squared_error: 0.0323\n",
      "Epoch 40/100\n",
      "62/62 [==============================] - 9s 148ms/step - loss: 0.0010 - root_mean_squared_error: 0.0321\n",
      "Epoch 41/100\n",
      "62/62 [==============================] - 9s 148ms/step - loss: 0.0011 - root_mean_squared_error: 0.0325\n",
      "Epoch 42/100\n",
      "62/62 [==============================] - 10s 155ms/step - loss: 0.0011 - root_mean_squared_error: 0.0332\n",
      "Epoch 43/100\n",
      "62/62 [==============================] - 9s 148ms/step - loss: 0.0011 - root_mean_squared_error: 0.0326\n",
      "Epoch 44/100\n",
      "62/62 [==============================] - 9s 146ms/step - loss: 0.0011 - root_mean_squared_error: 0.0325\n",
      "Epoch 45/100\n",
      "62/62 [==============================] - 9s 150ms/step - loss: 0.0011 - root_mean_squared_error: 0.0329\n",
      "Epoch 46/100\n",
      "62/62 [==============================] - 9s 143ms/step - loss: 0.0011 - root_mean_squared_error: 0.0325\n",
      "Epoch 47/100\n",
      "62/62 [==============================] - 9s 150ms/step - loss: 0.0010 - root_mean_squared_error: 0.0322\n",
      "Epoch 48/100\n",
      "62/62 [==============================] - 9s 147ms/step - loss: 0.0011 - root_mean_squared_error: 0.0329\n",
      "Epoch 49/100\n",
      "62/62 [==============================] - 10s 167ms/step - loss: 0.0010 - root_mean_squared_error: 0.0322\n",
      "Epoch 50/100\n",
      "62/62 [==============================] - 9s 145ms/step - loss: 0.0011 - root_mean_squared_error: 0.0327\n",
      "Epoch 51/100\n",
      "62/62 [==============================] - 9s 150ms/step - loss: 0.0011 - root_mean_squared_error: 0.0330\n",
      "Epoch 52/100\n",
      "62/62 [==============================] - 9s 145ms/step - loss: 0.0011 - root_mean_squared_error: 0.0330\n",
      "Epoch 53/100\n",
      "62/62 [==============================] - 9s 150ms/step - loss: 0.0010 - root_mean_squared_error: 0.0323\n",
      "Epoch 54/100\n",
      "62/62 [==============================] - 10s 154ms/step - loss: 0.0010 - root_mean_squared_error: 0.0323\n",
      "Epoch 55/100\n",
      "62/62 [==============================] - 9s 147ms/step - loss: 0.0010 - root_mean_squared_error: 0.0321\n",
      "Epoch 56/100\n",
      "62/62 [==============================] - 9s 150ms/step - loss: 0.0010 - root_mean_squared_error: 0.0323\n",
      "Epoch 57/100\n",
      "62/62 [==============================] - 9s 141ms/step - loss: 0.0010 - root_mean_squared_error: 0.0324\n",
      "Epoch 58/100\n",
      "62/62 [==============================] - 9s 137ms/step - loss: 0.0011 - root_mean_squared_error: 0.0324\n",
      "Epoch 59/100\n",
      "62/62 [==============================] - 8s 127ms/step - loss: 0.0010 - root_mean_squared_error: 0.0322\n",
      "Epoch 60/100\n",
      "62/62 [==============================] - 10s 159ms/step - loss: 0.0011 - root_mean_squared_error: 0.0327\n",
      "Epoch 61/100\n",
      "62/62 [==============================] - 8s 130ms/step - loss: 0.0011 - root_mean_squared_error: 0.0326\n",
      "Epoch 62/100\n",
      "62/62 [==============================] - 8s 134ms/step - loss: 0.0010 - root_mean_squared_error: 0.0324\n",
      "Epoch 63/100\n",
      "62/62 [==============================] - 16s 264ms/step - loss: 0.0011 - root_mean_squared_error: 0.0328\n",
      "Epoch 64/100\n",
      "62/62 [==============================] - 24s 391ms/step - loss: 0.0011 - root_mean_squared_error: 0.0335\n",
      "Epoch 65/100\n",
      "62/62 [==============================] - 16s 259ms/step - loss: 0.0010 - root_mean_squared_error: 0.0323\n",
      "Epoch 66/100\n",
      "62/62 [==============================] - 17s 273ms/step - loss: 0.0011 - root_mean_squared_error: 0.0325\n",
      "Epoch 67/100\n",
      "62/62 [==============================] - 17s 268ms/step - loss: 0.0011 - root_mean_squared_error: 0.0326\n",
      "Epoch 68/100\n",
      "62/62 [==============================] - 17s 277ms/step - loss: 0.0011 - root_mean_squared_error: 0.0336\n",
      "Epoch 69/100\n",
      "62/62 [==============================] - 16s 264ms/step - loss: 0.0011 - root_mean_squared_error: 0.0328\n",
      "Epoch 70/100\n",
      "62/62 [==============================] - 15s 250ms/step - loss: 0.0010 - root_mean_squared_error: 0.0323\n",
      "Epoch 71/100\n",
      "62/62 [==============================] - 17s 272ms/step - loss: 0.0010 - root_mean_squared_error: 0.0322\n",
      "Epoch 72/100\n",
      "62/62 [==============================] - 17s 279ms/step - loss: 0.0010 - root_mean_squared_error: 0.0321\n",
      "Epoch 73/100\n",
      "62/62 [==============================] - 16s 260ms/step - loss: 0.0010 - root_mean_squared_error: 0.0320\n",
      "Epoch 74/100\n",
      "62/62 [==============================] - 17s 267ms/step - loss: 0.0010 - root_mean_squared_error: 0.0320\n",
      "Epoch 75/100\n",
      "62/62 [==============================] - 17s 267ms/step - loss: 0.0010 - root_mean_squared_error: 0.0320\n",
      "Epoch 76/100\n",
      "62/62 [==============================] - 13s 204ms/step - loss: 0.0011 - root_mean_squared_error: 0.0327\n",
      "Epoch 77/100\n",
      "62/62 [==============================] - 8s 129ms/step - loss: 0.0010 - root_mean_squared_error: 0.0322\n",
      "Epoch 78/100\n",
      "62/62 [==============================] - 7s 119ms/step - loss: 0.0010 - root_mean_squared_error: 0.0321\n",
      "Epoch 79/100\n",
      "62/62 [==============================] - 7s 117ms/step - loss: 0.0010 - root_mean_squared_error: 0.0316\n",
      "Epoch 80/100\n",
      "62/62 [==============================] - 25s 405ms/step - loss: 0.0011 - root_mean_squared_error: 0.0328\n",
      "Epoch 81/100\n",
      "62/62 [==============================] - 19s 302ms/step - loss: 0.0010 - root_mean_squared_error: 0.0320\n",
      "Epoch 82/100\n",
      "62/62 [==============================] - 16s 252ms/step - loss: 0.0011 - root_mean_squared_error: 0.0335\n",
      "Epoch 83/100\n",
      "62/62 [==============================] - 17s 275ms/step - loss: 0.0010 - root_mean_squared_error: 0.0321\n",
      "Epoch 84/100\n",
      "62/62 [==============================] - 16s 256ms/step - loss: 0.0010 - root_mean_squared_error: 0.0320\n",
      "Epoch 85/100\n",
      "62/62 [==============================] - 16s 252ms/step - loss: 0.0011 - root_mean_squared_error: 0.0327\n",
      "Epoch 86/100\n",
      "62/62 [==============================] - 16s 260ms/step - loss: 0.0010 - root_mean_squared_error: 0.0324\n",
      "Epoch 87/100\n",
      "62/62 [==============================] - 16s 253ms/step - loss: 0.0010 - root_mean_squared_error: 0.0319\n",
      "Epoch 88/100\n",
      "62/62 [==============================] - 16s 258ms/step - loss: 0.0010 - root_mean_squared_error: 0.0318\n",
      "Epoch 89/100\n",
      "62/62 [==============================] - 18s 293ms/step - loss: 0.0010 - root_mean_squared_error: 0.0319\n",
      "Epoch 90/100\n",
      "62/62 [==============================] - 16s 258ms/step - loss: 0.0010 - root_mean_squared_error: 0.0318\n",
      "Epoch 91/100\n",
      "62/62 [==============================] - 16s 261ms/step - loss: 0.0010 - root_mean_squared_error: 0.0321\n",
      "Epoch 92/100\n",
      "62/62 [==============================] - 17s 278ms/step - loss: 0.0011 - root_mean_squared_error: 0.0328\n",
      "Epoch 93/100\n",
      "62/62 [==============================] - 16s 255ms/step - loss: 0.0011 - root_mean_squared_error: 0.0324\n",
      "Epoch 94/100\n",
      "62/62 [==============================] - 17s 271ms/step - loss: 0.0010 - root_mean_squared_error: 0.0321\n",
      "Epoch 95/100\n",
      "62/62 [==============================] - 17s 266ms/step - loss: 0.0010 - root_mean_squared_error: 0.0317\n",
      "Epoch 96/100\n",
      "62/62 [==============================] - 20s 326ms/step - loss: 0.0010 - root_mean_squared_error: 0.0318\n",
      "Epoch 97/100\n",
      "62/62 [==============================] - 17s 278ms/step - loss: 0.0011 - root_mean_squared_error: 0.0329\n",
      "Epoch 98/100\n",
      "62/62 [==============================] - 16s 263ms/step - loss: 0.0010 - root_mean_squared_error: 0.0317\n",
      "Epoch 99/100\n",
      "62/62 [==============================] - 15s 245ms/step - loss: 0.0010 - root_mean_squared_error: 0.0320\n",
      "Epoch 100/100\n",
      "62/62 [==============================] - 16s 254ms/step - loss: 0.0010 - root_mean_squared_error: 0.0317\n"
     ]
    }
   ],
   "source": [
    "model, history = build_and_train_model(features, labels)"
   ]
  },
  {
   "cell_type": "markdown",
   "metadata": {},
   "source": [
    "## Part 7: Evaluation Model"
   ]
  },
  {
   "cell_type": "code",
   "execution_count": 74,
   "metadata": {},
   "outputs": [
    {
     "name": "stdout",
     "output_type": "stream",
     "text": [
      "16/16 [==============================] - 1s 52ms/step\n",
      "MSE 91.09254991827626\n",
      "RMSE 9.54424171520589\n"
     ]
    }
   ],
   "source": [
    "# Create the testing data set.\n",
    "# The testing data set contains the remaining 20% of the data but we have to\n",
    "# include the last 60 days from the training data set to predict the first stock price of the test data set\n",
    "scaled_data_test = scaled_dataset[num_training_points - window_size:, :]\n",
    "\n",
    "# # Create the data sets x_test and y_test\n",
    "X_test = []\n",
    "y_test = dataset[num_training_points:, :]\n",
    "\n",
    "for i in range(60, len(scaled_data_test)):\n",
    "    X_test.append(scaled_data_test[i-window_size:i, 0])\n",
    "\n",
    "# Convert the values into arrays for easier computation \n",
    "X_test = np.array(X_test)\n",
    "X_test = np.reshape(X_test, (X_test.shape[0], X_test.shape[1], 1))\n",
    "# scaled_data_test = scaled_data[num_training_points - window_size:, :]\n",
    "#X_test, y_test = convert_to_supervised(scaled_data_test, window_size)\n",
    "\n",
    "# predict the testing data\n",
    "predictions = model.predict(X_test)\n",
    "predictions = scaler.inverse_transform(predictions)\n",
    " \n",
    "# evaluate result by mse and rmse metrics\n",
    "mse = np.mean(((predictions - y_test) ** 2))\n",
    "print(\"MSE\", mse)\n",
    "print(\"RMSE\", np.sqrt(mse))"
   ]
  },
  {
   "cell_type": "code",
   "execution_count": 77,
   "metadata": {},
   "outputs": [
    {
     "data": {
      "text/html": [
       "<div>\n",
       "<style scoped>\n",
       "    .dataframe tbody tr th:only-of-type {\n",
       "        vertical-align: middle;\n",
       "    }\n",
       "\n",
       "    .dataframe tbody tr th {\n",
       "        vertical-align: top;\n",
       "    }\n",
       "\n",
       "    .dataframe thead th {\n",
       "        text-align: right;\n",
       "    }\n",
       "</style>\n",
       "<table border=\"1\" class=\"dataframe\">\n",
       "  <thead>\n",
       "    <tr style=\"text-align: right;\">\n",
       "      <th></th>\n",
       "      <th>goog</th>\n",
       "    </tr>\n",
       "    <tr>\n",
       "      <th>date</th>\n",
       "      <th></th>\n",
       "    </tr>\n",
       "  </thead>\n",
       "  <tbody>\n",
       "    <tr>\n",
       "      <th>2013-09-09</th>\n",
       "      <td>22.118345</td>\n",
       "    </tr>\n",
       "    <tr>\n",
       "      <th>2013-09-10</th>\n",
       "      <td>22.133787</td>\n",
       "    </tr>\n",
       "    <tr>\n",
       "      <th>2013-09-11</th>\n",
       "      <td>22.321085</td>\n",
       "    </tr>\n",
       "    <tr>\n",
       "      <th>2013-09-12</th>\n",
       "      <td>22.243128</td>\n",
       "    </tr>\n",
       "    <tr>\n",
       "      <th>2013-09-13</th>\n",
       "      <td>22.143749</td>\n",
       "    </tr>\n",
       "  </tbody>\n",
       "</table>\n",
       "</div>"
      ],
      "text/plain": [
       "                 goog\n",
       "date                 \n",
       "2013-09-09  22.118345\n",
       "2013-09-10  22.133787\n",
       "2013-09-11  22.321085\n",
       "2013-09-12  22.243128\n",
       "2013-09-13  22.143749"
      ]
     },
     "execution_count": 77,
     "metadata": {},
     "output_type": "execute_result"
    }
   ],
   "source": [
    "df_test = df[['goog']]\n",
    "df_test.head()"
   ]
  },
  {
   "cell_type": "code",
   "execution_count": 79,
   "metadata": {},
   "outputs": [
    {
     "name": "stderr",
     "output_type": "stream",
     "text": [
      "C:\\Users\\thong.lam\\AppData\\Local\\Temp\\ipykernel_5300\\1077177094.py:6: SettingWithCopyWarning: \n",
      "A value is trying to be set on a copy of a slice from a DataFrame.\n",
      "Try using .loc[row_indexer,col_indexer] = value instead\n",
      "\n",
      "See the caveats in the documentation: https://pandas.pydata.org/pandas-docs/stable/user_guide/indexing.html#returning-a-view-versus-a-copy\n",
      "  test['predictions'] = predictions\n"
     ]
    },
    {
     "data": {
      "image/png": "[encoded data removed]",
      "text/plain": [
       "<Figure size 1000x800 with 1 Axes>"
      ]
     },
     "metadata": {},
     "output_type": "display_data"
    }
   ],
   "source": [
    "# Ploting the data\n",
    "import matplotlib.pyplot as plt\n",
    "\n",
    "train = df_test[:num_training_points]\n",
    "test = df_test[num_training_points:]\n",
    "test['predictions'] = predictions\n",
    " \n",
    "plt.figure(figsize=(10, 8))\n",
    "plt.plot(train.index, train['goog'])\n",
    "plt.plot(test.index, test[['goog', 'predictions']])\n",
    "# plt.title('Daily Stock Price from ' + df.index[0] + ' to ' + df.index[-1])\n",
    "plt.xlabel('date')\n",
    "plt.ylabel(\"adj lose\")\n",
    "plt.legend(['Train', 'Test', 'Prediction'])\n",
    "plt.savefig(\"output/figures/visualizing_testing_data_goog.png\", dpi=100)\n",
    "plt.show()"
   ]
  },
  {
   "cell_type": "code",
   "execution_count": 160,
   "metadata": {},
   "outputs": [],
   "source": [
    "# # Modeling\n",
    "# model = tf.keras.models.Sequential([\n",
    "#     tf.keras.layers.LSTM(units = 128, return_sequences = True, input_shape = (features.shape[1], 1)),\n",
    "#     tf.keras.layers.Dropout(0.2),\n",
    "#     tf.keras.layers.LSTM(units = 64, return_sequences = True),\n",
    "#     tf.keras.layers.Dropout(0.2),\n",
    "#     tf.keras.layers.LSTM(units = 32, return_sequences = True),\n",
    "#     # tf.keras.layers.Dropout(0.2),\n",
    "#     # tf.keras.layers.LSTM(units = 8, return_sequences = False),\n",
    "#     # tf.keras.layers.Dropout(0.2),\n",
    "#     # tf.keras.layers.LSTM(units = 50),\n",
    "#     # tf.keras.layers.Dropout(0.2),\n",
    "#     # tf.keras.layers.Dense(units = 50),\n",
    "#     tf.keras.layers.Dense(units = 25),\n",
    "#     tf.keras.layers.Dense(units = 1)\n",
    "# ])"
   ]
  },
  {
   "cell_type": "markdown",
   "metadata": {},
   "source": [
    "Future Predictions"
   ]
  },
  {
   "cell_type": "code",
   "execution_count": 55,
   "metadata": {},
   "outputs": [],
   "source": [
    "# Function to generate the future forecasts\n",
    "def generate_future_forecasts(n_past, n_future, data, features, labels):\n",
    "\n",
    "    x_past = features[- n_past - 1:, :, :][:1]  # last observed input sequence\n",
    "    y_past = labels[- n_past - 1]             # last observed target value\n",
    "    y_future = []                        # predicted target values\n",
    "\n",
    "    for i in range(n_past + n_future):\n",
    "\n",
    "        # feed the last forecast back to the model as an input\n",
    "        x_past = np.append(x_past[:, 1:, :], y_past.reshape(1, 1, 1), axis=1)\n",
    "\n",
    "        # generate the next forecast\n",
    "        y_past = model.predict(x_past)\n",
    "\n",
    "        # save the forecast\n",
    "        y_future.append(y_past.flatten()[0])\n",
    "\n",
    "    # transform the forecasts back to the original scale\n",
    "    y_future = scaler.inverse_transform(np.array(y_future).reshape(-1, 1)).flatten()\n",
    "\n",
    "    # add the forecasts to the data frame\n",
    "    df_past = data.rename(columns={'aapl': 'Actual'}).copy()\n",
    "\n",
    "    df_future = pd.DataFrame(\n",
    "        index=pd.bdate_range(start=data.index[- n_past - 1] + pd.Timedelta(days=1), periods=n_past + n_future),\n",
    "        columns=['Forecast'],\n",
    "        data=y_future\n",
    "    )\n",
    "\n",
    "    return y_future, df_past.join(df_future, how='outer')"
   ]
  },
  {
   "cell_type": "code",
   "execution_count": 56,
   "metadata": {},
   "outputs": [
    {
     "name": "stderr",
     "output_type": "stream",
     "text": [
      "c:\\Users\\thong.lam\\AppData\\Local\\anaconda3\\Lib\\site-packages\\sklearn\\base.py:457: UserWarning: X has feature names, but MinMaxScaler was fitted without feature names\n",
      "  warnings.warn(\n"
     ]
    }
   ],
   "source": [
    "# prepare data for forecasting\n",
    "forecast_data = df[['aapl']]\n",
    "\n",
    "z = scaler.transform(forecast_data)\n",
    "\n",
    "x, y = [], []\n",
    "\n",
    "for i in range(window_size, len(z)):\n",
    "    x.append(z[i - window_size: i])\n",
    "    y.append(z[i])\n",
    "\n",
    "x, y = np.array(x), np.array(y)"
   ]
  },
  {
   "cell_type": "code",
   "execution_count": 64,
   "metadata": {},
   "outputs": [],
   "source": [
    "tickr = 'goog'"
   ]
  },
  {
   "cell_type": "code",
   "execution_count": 66,
   "metadata": {},
   "outputs": [
    {
     "name": "stdout",
     "output_type": "stream",
     "text": [
      "1/1 [==============================] - 0s 55ms/step\n",
      "1/1 [==============================] - 0s 50ms/step\n",
      "1/1 [==============================] - 0s 55ms/step\n",
      "1/1 [==============================] - 0s 53ms/step\n",
      "1/1 [==============================] - 0s 49ms/step\n"
     ]
    },
    {
     "data": {
      "image/png": "[encoded data removed]",
      "text/plain": [
       "<Figure size 1000x800 with 1 Axes>"
      ]
     },
     "metadata": {},
     "output_type": "display_data"
    }
   ],
   "source": [
    "# forecast the next 5 days\n",
    "y_future_5, df1 = generate_future_forecasts(n_past=0, n_future=5, data=df[['goog']], features=x, labels=y)\n",
    "# df1.tail(500).plot(title=ticker)\n",
    "plt.figure(figsize=(10, 8))\n",
    "plt.plot(df1.tail(500))\n",
    "plt.savefig(\"output/figures/visualizing_forecast_data_5days_goog.png\", dpi=100)\n"
   ]
  },
  {
   "cell_type": "code",
   "execution_count": null,
   "metadata": {},
   "outputs": [],
   "source": [
    "# # forecast the next 10 days\n",
    "y_future_10, df2 = generate_future_forecasts(n_past=0, n_future=10, data=df[['aapl']], features=x, labels=y)\n",
    "plt.plot(df2.tail(500))\n",
    "plt.savefig(\"output/figures/visualizing_forecast_data_10days.png\", dpi=100)"
   ]
  },
  {
   "cell_type": "code",
   "execution_count": 61,
   "metadata": {},
   "outputs": [
    {
     "data": {
      "text/html": [
       "<div>\n",
       "<style scoped>\n",
       "    .dataframe tbody tr th:only-of-type {\n",
       "        vertical-align: middle;\n",
       "    }\n",
       "\n",
       "    .dataframe tbody tr th {\n",
       "        vertical-align: top;\n",
       "    }\n",
       "\n",
       "    .dataframe thead th {\n",
       "        text-align: right;\n",
       "    }\n",
       "</style>\n",
       "<table border=\"1\" class=\"dataframe\">\n",
       "  <thead>\n",
       "    <tr style=\"text-align: right;\">\n",
       "      <th></th>\n",
       "      <th>aapl</th>\n",
       "      <th>amd</th>\n",
       "      <th>goog</th>\n",
       "      <th>meta</th>\n",
       "      <th>msft</th>\n",
       "    </tr>\n",
       "    <tr>\n",
       "      <th>date</th>\n",
       "      <th></th>\n",
       "      <th></th>\n",
       "      <th></th>\n",
       "      <th></th>\n",
       "      <th></th>\n",
       "    </tr>\n",
       "  </thead>\n",
       "  <tbody>\n",
       "    <tr>\n",
       "      <th>2023-09-01</th>\n",
       "      <td>189.460007</td>\n",
       "      <td>109.449997</td>\n",
       "      <td>136.800003</td>\n",
       "      <td>296.380005</td>\n",
       "      <td>328.660004</td>\n",
       "    </tr>\n",
       "    <tr>\n",
       "      <th>2023-09-05</th>\n",
       "      <td>189.699997</td>\n",
       "      <td>110.779999</td>\n",
       "      <td>136.710007</td>\n",
       "      <td>300.149994</td>\n",
       "      <td>333.549988</td>\n",
       "    </tr>\n",
       "    <tr>\n",
       "      <th>2023-09-06</th>\n",
       "      <td>182.910004</td>\n",
       "      <td>109.279999</td>\n",
       "      <td>135.369995</td>\n",
       "      <td>299.170013</td>\n",
       "      <td>332.880005</td>\n",
       "    </tr>\n",
       "    <tr>\n",
       "      <th>2023-09-07</th>\n",
       "      <td>177.559998</td>\n",
       "      <td>106.589996</td>\n",
       "      <td>136.199997</td>\n",
       "      <td>298.670013</td>\n",
       "      <td>329.910004</td>\n",
       "    </tr>\n",
       "    <tr>\n",
       "      <th>2023-09-08</th>\n",
       "      <td>178.179993</td>\n",
       "      <td>106.089996</td>\n",
       "      <td>137.199997</td>\n",
       "      <td>297.890015</td>\n",
       "      <td>334.269989</td>\n",
       "    </tr>\n",
       "  </tbody>\n",
       "</table>\n",
       "</div>"
      ],
      "text/plain": [
       "                  aapl         amd        goog        meta        msft\n",
       "date                                                                  \n",
       "2023-09-01  189.460007  109.449997  136.800003  296.380005  328.660004\n",
       "2023-09-05  189.699997  110.779999  136.710007  300.149994  333.549988\n",
       "2023-09-06  182.910004  109.279999  135.369995  299.170013  332.880005\n",
       "2023-09-07  177.559998  106.589996  136.199997  298.670013  329.910004\n",
       "2023-09-08  178.179993  106.089996  137.199997  297.890015  334.269989"
      ]
     },
     "execution_count": 61,
     "metadata": {},
     "output_type": "execute_result"
    }
   ],
   "source": [
    "df.tail(5)"
   ]
  },
  {
   "cell_type": "code",
   "execution_count": 58,
   "metadata": {},
   "outputs": [
    {
     "data": {
      "text/html": [
       "<div>\n",
       "<style scoped>\n",
       "    .dataframe tbody tr th:only-of-type {\n",
       "        vertical-align: middle;\n",
       "    }\n",
       "\n",
       "    .dataframe tbody tr th {\n",
       "        vertical-align: top;\n",
       "    }\n",
       "\n",
       "    .dataframe thead th {\n",
       "        text-align: right;\n",
       "    }\n",
       "</style>\n",
       "<table border=\"1\" class=\"dataframe\">\n",
       "  <thead>\n",
       "    <tr style=\"text-align: right;\">\n",
       "      <th></th>\n",
       "      <th>Actual</th>\n",
       "      <th>Forecast</th>\n",
       "    </tr>\n",
       "  </thead>\n",
       "  <tbody>\n",
       "    <tr>\n",
       "      <th>2023-08-04</th>\n",
       "      <td>181.744583</td>\n",
       "      <td>NaN</td>\n",
       "    </tr>\n",
       "    <tr>\n",
       "      <th>2023-08-07</th>\n",
       "      <td>178.608810</td>\n",
       "      <td>NaN</td>\n",
       "    </tr>\n",
       "    <tr>\n",
       "      <th>2023-08-08</th>\n",
       "      <td>179.557526</td>\n",
       "      <td>NaN</td>\n",
       "    </tr>\n",
       "    <tr>\n",
       "      <th>2023-08-09</th>\n",
       "      <td>177.949707</td>\n",
       "      <td>NaN</td>\n",
       "    </tr>\n",
       "    <tr>\n",
       "      <th>2023-08-10</th>\n",
       "      <td>177.729996</td>\n",
       "      <td>NaN</td>\n",
       "    </tr>\n",
       "    <tr>\n",
       "      <th>2023-08-11</th>\n",
       "      <td>177.789993</td>\n",
       "      <td>NaN</td>\n",
       "    </tr>\n",
       "    <tr>\n",
       "      <th>2023-08-14</th>\n",
       "      <td>179.460007</td>\n",
       "      <td>NaN</td>\n",
       "    </tr>\n",
       "    <tr>\n",
       "      <th>2023-08-15</th>\n",
       "      <td>177.449997</td>\n",
       "      <td>NaN</td>\n",
       "    </tr>\n",
       "    <tr>\n",
       "      <th>2023-08-16</th>\n",
       "      <td>176.570007</td>\n",
       "      <td>NaN</td>\n",
       "    </tr>\n",
       "    <tr>\n",
       "      <th>2023-08-17</th>\n",
       "      <td>174.000000</td>\n",
       "      <td>NaN</td>\n",
       "    </tr>\n",
       "    <tr>\n",
       "      <th>2023-08-18</th>\n",
       "      <td>174.490005</td>\n",
       "      <td>NaN</td>\n",
       "    </tr>\n",
       "    <tr>\n",
       "      <th>2023-08-21</th>\n",
       "      <td>175.839996</td>\n",
       "      <td>NaN</td>\n",
       "    </tr>\n",
       "    <tr>\n",
       "      <th>2023-08-22</th>\n",
       "      <td>177.229996</td>\n",
       "      <td>NaN</td>\n",
       "    </tr>\n",
       "    <tr>\n",
       "      <th>2023-08-23</th>\n",
       "      <td>181.119995</td>\n",
       "      <td>NaN</td>\n",
       "    </tr>\n",
       "    <tr>\n",
       "      <th>2023-08-24</th>\n",
       "      <td>176.380005</td>\n",
       "      <td>NaN</td>\n",
       "    </tr>\n",
       "    <tr>\n",
       "      <th>2023-08-25</th>\n",
       "      <td>178.610001</td>\n",
       "      <td>NaN</td>\n",
       "    </tr>\n",
       "    <tr>\n",
       "      <th>2023-08-28</th>\n",
       "      <td>180.190002</td>\n",
       "      <td>NaN</td>\n",
       "    </tr>\n",
       "    <tr>\n",
       "      <th>2023-08-29</th>\n",
       "      <td>184.119995</td>\n",
       "      <td>NaN</td>\n",
       "    </tr>\n",
       "    <tr>\n",
       "      <th>2023-08-30</th>\n",
       "      <td>187.649994</td>\n",
       "      <td>NaN</td>\n",
       "    </tr>\n",
       "    <tr>\n",
       "      <th>2023-08-31</th>\n",
       "      <td>187.869995</td>\n",
       "      <td>NaN</td>\n",
       "    </tr>\n",
       "    <tr>\n",
       "      <th>2023-09-01</th>\n",
       "      <td>189.460007</td>\n",
       "      <td>NaN</td>\n",
       "    </tr>\n",
       "    <tr>\n",
       "      <th>2023-09-05</th>\n",
       "      <td>189.699997</td>\n",
       "      <td>NaN</td>\n",
       "    </tr>\n",
       "    <tr>\n",
       "      <th>2023-09-06</th>\n",
       "      <td>182.910004</td>\n",
       "      <td>NaN</td>\n",
       "    </tr>\n",
       "    <tr>\n",
       "      <th>2023-09-07</th>\n",
       "      <td>177.559998</td>\n",
       "      <td>NaN</td>\n",
       "    </tr>\n",
       "    <tr>\n",
       "      <th>2023-09-08</th>\n",
       "      <td>178.179993</td>\n",
       "      <td>NaN</td>\n",
       "    </tr>\n",
       "    <tr>\n",
       "      <th>2023-09-11</th>\n",
       "      <td>NaN</td>\n",
       "      <td>175.079224</td>\n",
       "    </tr>\n",
       "    <tr>\n",
       "      <th>2023-09-12</th>\n",
       "      <td>NaN</td>\n",
       "      <td>173.665161</td>\n",
       "    </tr>\n",
       "    <tr>\n",
       "      <th>2023-09-13</th>\n",
       "      <td>NaN</td>\n",
       "      <td>172.488434</td>\n",
       "    </tr>\n",
       "    <tr>\n",
       "      <th>2023-09-14</th>\n",
       "      <td>NaN</td>\n",
       "      <td>171.437820</td>\n",
       "    </tr>\n",
       "    <tr>\n",
       "      <th>2023-09-15</th>\n",
       "      <td>NaN</td>\n",
       "      <td>170.427292</td>\n",
       "    </tr>\n",
       "  </tbody>\n",
       "</table>\n",
       "</div>"
      ],
      "text/plain": [
       "                Actual    Forecast\n",
       "2023-08-04  181.744583         NaN\n",
       "2023-08-07  178.608810         NaN\n",
       "2023-08-08  179.557526         NaN\n",
       "2023-08-09  177.949707         NaN\n",
       "2023-08-10  177.729996         NaN\n",
       "2023-08-11  177.789993         NaN\n",
       "2023-08-14  179.460007         NaN\n",
       "2023-08-15  177.449997         NaN\n",
       "2023-08-16  176.570007         NaN\n",
       "2023-08-17  174.000000         NaN\n",
       "2023-08-18  174.490005         NaN\n",
       "2023-08-21  175.839996         NaN\n",
       "2023-08-22  177.229996         NaN\n",
       "2023-08-23  181.119995         NaN\n",
       "2023-08-24  176.380005         NaN\n",
       "2023-08-25  178.610001         NaN\n",
       "2023-08-28  180.190002         NaN\n",
       "2023-08-29  184.119995         NaN\n",
       "2023-08-30  187.649994         NaN\n",
       "2023-08-31  187.869995         NaN\n",
       "2023-09-01  189.460007         NaN\n",
       "2023-09-05  189.699997         NaN\n",
       "2023-09-06  182.910004         NaN\n",
       "2023-09-07  177.559998         NaN\n",
       "2023-09-08  178.179993         NaN\n",
       "2023-09-11         NaN  175.079224\n",
       "2023-09-12         NaN  173.665161\n",
       "2023-09-13         NaN  172.488434\n",
       "2023-09-14         NaN  171.437820\n",
       "2023-09-15         NaN  170.427292"
      ]
     },
     "execution_count": 58,
     "metadata": {},
     "output_type": "execute_result"
    }
   ],
   "source": [
    "df1.tail(30)"
   ]
  },
  {
   "cell_type": "code",
   "execution_count": 58,
   "metadata": {},
   "outputs": [
    {
     "name": "stdout",
     "output_type": "stream",
     "text": [
      "[186.77768 185.94986 185.14752 184.49364 184.01074]\n"
     ]
    }
   ],
   "source": [
    "print(y_future_5)"
   ]
  },
  {
   "cell_type": "code",
   "execution_count": 59,
   "metadata": {},
   "outputs": [
    {
     "name": "stdout",
     "output_type": "stream",
     "text": [
      "[186.77768 185.94986 185.14752 184.49364 184.01074 183.6718  183.43323\n",
      " 183.25471 183.10675 182.9712 ]\n"
     ]
    }
   ],
   "source": [
    "print(y_future_10)"
   ]
  },
  {
   "cell_type": "markdown",
   "metadata": {},
   "source": [
    "## Part 9: Flask App"
   ]
  },
  {
   "cell_type": "markdown",
   "metadata": {},
   "source": [
    "## Part 10: Deployment"
   ]
  },
  {
   "cell_type": "code",
   "execution_count": 176,
   "metadata": {},
   "outputs": [],
   "source": [
    "import pickle \n",
    "pickle.dump(model,open('model.pkl','wb'))"
   ]
  },
  {
   "cell_type": "markdown",
   "metadata": {},
   "source": [
    "## Part 11: Conclusion"
   ]
  }
 ],
 "metadata": {
  "kernelspec": {
   "display_name": "base",
   "language": "python",
   "name": "python3"
  },
  "language_info": {
   "codemirror_mode": {
    "name": "ipython",
    "version": 3
   },
   "file_extension": ".py",
   "mimetype": "text/x-python",
   "name": "python",
   "nbconvert_exporter": "python",
   "pygments_lexer": "ipython3",
   "version": "3.11.3"
  },
  "orig_nbformat": 4
 },
 "nbformat": 4,
 "nbformat_minor": 2
}
