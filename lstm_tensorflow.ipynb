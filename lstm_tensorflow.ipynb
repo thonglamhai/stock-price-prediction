{
 "cells": [
  {
   "cell_type": "code",
   "execution_count": null,
   "metadata": {},
   "outputs": [],
   "source": [
    "import tensorflow as tf"
   ]
  },
  {
   "cell_type": "code",
   "execution_count": 5,
   "metadata": {},
   "outputs": [],
   "source": [
    "def trainModel(X, Y, window_size, n_epochs, learning_rate, n_layers, callback):\n",
    "    batch_size = 32\n",
    "    # input dense layer\n",
    "    input_layer_shape = window_size\n",
    "    input_layer_neurons = 64\n",
    "    # LSTM\n",
    "    rnn_input_layer_features = 16\n",
    "    rnn_input_layer_timesteps = input_layer_neurons // rnn_input_layer_features\n",
    "    rnn_input_shape = (rnn_input_layer_features, rnn_input_layer_timesteps) # the shape have to match input layer's shape\n",
    "    rnn_output_neurons = 16 # number of neurons per LSTM's cell\n",
    "    # output dense layer\n",
    "    output_layer_shape = rnn_output_neurons # dense layer input size is same as LSTM cell\n",
    "    output_layer_neurons = 1 # return 1 value\n",
    "    # ## old method\n",
    "    # xs = tf.tensor2d(X, [X.length, X[0].length])//.div(tf.scalar(10));\n",
    "    # ys = tf.tensor2d(Y, [Y.length, 1]).reshape([Y.length, 1])//.div(tf.scalar(10));\n",
    "    # ## new: load data into tensor and normalize data\n",
    "    inputTensor = tf.tensor2d(X, [X.length, X[0].length])\n",
    "    labelTensor = tf.tensor2d(Y, [Y.length, 1]).reshape([Y.length, 1])\n",
    "    xs, inputMax, inputMin = normalizeTensorFit(inputTensor)\n",
    "    ys, labelMax, labelMin = normalizeTensorFit(labelTensor)\n",
    "    # ## define model\n",
    "    model = tf.keras.Sequential()\n",
    "    model.add(tf.keras.layers.Dense(units=input_layer_neurons, input_shape=[input_layer_shape]))\n",
    "    model.add(tf.keras.layers.Reshape(target_shape=rnn_input_shape))\n",
    "    lstm = tf.keras.layers.LSTM(units=rnn_output_neurons)\n",
    "    model.add(lstm)\n",
    "\n",
    "    lstm_cells = []\n",
    "    for i in range(n_layers):\n",
    "        lstm_cells.append(tf.keras.layers.LSTMCell(units=rnn_output_neurons))\n",
    "\n",
    "    model.add(tf.keras.layers.RNN(cell=lstm_cells, input_shape=rnn_input_shape, return_sequences=False))\n",
    "    model.add(tf.keras.layers.Dense(units=output_layer_neurons, input_shape=[output_layer_shape]))\n",
    "    model.compile(optimizer=tf.keras.optimizers.Adam(learning_rate=learning_rate), loss='meanSquaredError')\n",
    "\n",
    "    hist = model.fit(xs, ys, batchSize=batch_size, epochs=n_epochs, callbacks={'onEpochEnd': lambda epoch, log: callback(epoch, log)})\n",
    "\n",
    "    return {\n",
    "        'model': model,\n",
    "        'stats': hist,\n",
    "        'normalize': {\n",
    "            'inputMax': inputMax,\n",
    "            'inputMin': inputMin,\n",
    "            'labelMax': labelMax,\n",
    "            'labelMin': labelMin\n",
    "        }\n",
    "    }"
   ]
  },
  {
   "cell_type": "code",
   "execution_count": 4,
   "metadata": {},
   "outputs": [],
   "source": [
    "def makePredictions(X, model, dict_normalize):\n",
    "    X = tf.convert_to_tensor(X)\n",
    "    normalizedInput = normalizeTensor(X, dict_normalize[\"inputMax\"], dict_normalize[\"inputMin\"])\n",
    "    model_out = model.predict(normalizedInput)\n",
    "    predictedResults = unNormalizeTensor(model_out, dict_normalize[\"labelMax\"], dict_normalize[\"labelMin\"])\n",
    "    return list(predictedResults.numpy())"
   ]
  },
  {
   "cell_type": "code",
   "execution_count": 3,
   "metadata": {},
   "outputs": [],
   "source": [
    "import numpy as np\n",
    "\n",
    "def normalize_tensor_fit(tensor):\n",
    "    maxval = np.max(tensor)\n",
    "    minval = np.min(tensor)\n",
    "    normalized_tensor = normalize_tensor(tensor, maxval, minval)\n",
    "    return [normalized_tensor, maxval, minval]"
   ]
  },
  {
   "cell_type": "code",
   "execution_count": 1,
   "metadata": {},
   "outputs": [],
   "source": [
    "def normalizeTensor(tensor, maxval, minval):\n",
    "  normalizedTensor = tensor.sub(minval).div(maxval.sub(minval))\n",
    "  return normalizedTensor"
   ]
  },
  {
   "cell_type": "code",
   "execution_count": 2,
   "metadata": {},
   "outputs": [],
   "source": [
    "def unNormalizeTensor(tensor, maxval, minval):\n",
    "    unNormTensor = tensor.mul(maxval.sub(minval)).add(minval)\n",
    "    return unNormTensor"
   ]
  },
  {
   "cell_type": "code",
   "execution_count": 11,
   "metadata": {},
   "outputs": [],
   "source": [
    "import numpy as np\n",
    "import pandas as pd\n",
    "import matplotlib.pyplot as plt\n",
    "from keras.models import Sequential\n",
    "from keras.layers import Dense, LSTM\n",
    "import math\n",
    "from sklearn.preprocessing import MinMaxScaler\n",
    "import yfinance as yf\n",
    "\n",
    "# pip install matplotlib\n",
    "import matplotlib.pyplot as plt\n",
    "from matplotlib.pyplot import figure"
   ]
  },
  {
   "cell_type": "code",
   "execution_count": 44,
   "metadata": {},
   "outputs": [],
   "source": [
    "config = {\n",
    "    \"y_finance\": {\n",
    "        \"period\": \"10y\", # period to download the data from Yahoo Finance\n",
    "        \"symbol\": \"TSLA\", # TSLA - Tesla\n",
    "        \"key_adjusted_close\": \"adj close\",\n",
    "    },\n",
    "    \"data\": {\n",
    "        \"window_size\": 50,\n",
    "        \"train_split_size\": 0.80,\n",
    "    }, \n",
    "    \"plots\": {\n",
    "        \"show_plots\": True,\n",
    "        \"xticks_interval\": 90,\n",
    "        \"color_actual\": \"#001f3f\",\n",
    "        \"color_train\": \"#3D9970\",\n",
    "        \"color_val\": \"#0074D9\",\n",
    "        \"color_pred_train\": \"#3D9970\",\n",
    "        \"color_pred_val\": \"#0074D9\",\n",
    "        \"color_pred_test\": \"#FF4136\",\n",
    "    },\n",
    "    \"model\": {\n",
    "        \"input_size\": 1, # since we are only using 1 feature, close price\n",
    "        \"num_lstm_layers\": 2,\n",
    "        \"lstm_size\": 32,\n",
    "        \"dropout\": 0.2,\n",
    "    },\n",
    "    \"training\": {\n",
    "        \"device\": \"cpu\", # \"cuda\" or \"cpu\"\n",
    "        \"batch_size\": 64,\n",
    "        \"num_epoch\": 100,\n",
    "        \"learning_rate\": 0.01,\n",
    "        \"scheduler_step_size\": 40,\n",
    "    }\n",
    "}"
   ]
  },
  {
   "cell_type": "code",
   "execution_count": 45,
   "metadata": {},
   "outputs": [
    {
     "name": "stdout",
     "output_type": "stream",
     "text": [
      "[*********************100%%**********************]  1 of 1 completed\n",
      "Number data points: 2516 from 2013-09-06 to 2023-09-05\n"
     ]
    },
    {
     "data": {
      "image/png": "[encoded data removed]",
      "text/plain": [
       "<Figure size 2000x400 with 1 Axes>"
      ]
     },
     "metadata": {},
     "output_type": "display_data"
    }
   ],
   "source": [
    "def download_data(config, plot=False):\n",
    "    # get the data from yahoo finance\n",
    "    data = yf.download(config[\"y_finance\"][\"symbol\"], period=config[\"y_finance\"][\"period\"])\n",
    "\n",
    "    # Change column names to lower case to process easier\n",
    "    \n",
    "    data.columns = data.columns.str.lower()\n",
    "\n",
    "    # Get the date of data points into a list\n",
    "    data_date = data.index.strftime('%Y-%m-%d').tolist()\n",
    "\n",
    "    # Get the adjusted price in each data points \n",
    "    data_close_price = data[config[\"y_finance\"][\"key_adjusted_close\"]]\n",
    "    data_close_price = np.array(data_close_price)\n",
    "    \n",
    "    # Get the number of data points\n",
    "    num_data_points = len(data_date)\n",
    "\n",
    "    display_date_range = \"from \" + data_date[0] + \" to \" + data_date[num_data_points-1]\n",
    "    print(\"Number data points:\", num_data_points, display_date_range)\n",
    "\n",
    "    if plot:\n",
    "        fig = figure(figsize=(25, 5), dpi=80)\n",
    "        fig.patch.set_facecolor((1.0, 1.0, 1.0))\n",
    "        plt.plot(data_date, data_close_price, color=config[\"plots\"][\"color_actual\"])\n",
    "        xticks = [data_date[i] if ((i%config[\"plots\"][\"xticks_interval\"]==0 and (num_data_points-i) > config[\"plots\"][\"xticks_interval\"]) or i==num_data_points-1) else None for i in range(num_data_points)] # make x ticks nice\n",
    "        x = np.arange(0,len(xticks))\n",
    "        plt.xticks(x, xticks, rotation='vertical')\n",
    "        plt.title(\"Daily close price for \" + config[\"y_finance\"][\"symbol\"] + \", \" + display_date_range)\n",
    "        plt.grid(visible=None, which='major', axis='y', linestyle='--')\n",
    "        plt.show()\n",
    "\n",
    "    return data_date, data_close_price, num_data_points, display_date_range\n",
    "\n",
    "data_date, data_close_price, num_data_points, display_date_range = download_data(config, plot=config[\"plots\"][\"show_plots\"])"
   ]
  },
  {
   "cell_type": "code",
   "execution_count": 46,
   "metadata": {},
   "outputs": [
    {
     "data": {
      "text/plain": [
       "array([ 11.13133335,  10.71333313,  11.09133339, ..., 258.07998657,\n",
       "       245.00999451, 256.48999023])"
      ]
     },
     "execution_count": 46,
     "metadata": {},
     "output_type": "execute_result"
    }
   ],
   "source": [
    "data_close_price"
   ]
  },
  {
   "cell_type": "code",
   "execution_count": 47,
   "metadata": {},
   "outputs": [],
   "source": [
    "from sklearn.preprocessing import MinMaxScaler\n",
    "\n",
    "# normalize\n",
    "scaler = MinMaxScaler()\n",
    "normalized_data_close_price = scaler.fit_transform(data_close_price.reshape(-1, 1))"
   ]
  },
  {
   "cell_type": "code",
   "execution_count": 48,
   "metadata": {},
   "outputs": [
    {
     "data": {
      "text/plain": [
       "(2516, 1)"
      ]
     },
     "execution_count": 48,
     "metadata": {},
     "output_type": "execute_result"
    }
   ],
   "source": [
    "normalized_data_close_price.shape"
   ]
  },
  {
   "cell_type": "code",
   "execution_count": 49,
   "metadata": {},
   "outputs": [
    {
     "data": {
      "text/plain": [
       "numpy.ndarray"
      ]
     },
     "execution_count": 49,
     "metadata": {},
     "output_type": "execute_result"
    }
   ],
   "source": [
    "type(normalized_data_close_price)"
   ]
  },
  {
   "cell_type": "code",
   "execution_count": 50,
   "metadata": {},
   "outputs": [],
   "source": [
    "normalized_data_close_price = normalized_data_close_price.flatten()"
   ]
  },
  {
   "cell_type": "code",
   "execution_count": 51,
   "metadata": {},
   "outputs": [
    {
     "data": {
      "text/plain": [
       "(2516,)"
      ]
     },
     "execution_count": 51,
     "metadata": {},
     "output_type": "execute_result"
    }
   ],
   "source": [
    "normalized_data_close_price.shape"
   ]
  },
  {
   "cell_type": "code",
   "execution_count": 52,
   "metadata": {},
   "outputs": [
    {
     "data": {
      "image/png": "[encoded data removed]",
      "text/plain": [
       "<Figure size 2000x400 with 1 Axes>"
      ]
     },
     "metadata": {},
     "output_type": "display_data"
    }
   ],
   "source": [
    "def prepare_data_x(x, window_size):\n",
    "    # perform windowing\n",
    "    n_row = x.shape[0] - window_size + 1\n",
    "    output = np.lib.stride_tricks.as_strided(x, shape=(n_row,window_size), strides=(x.strides[0],x.strides[0]))\n",
    "    return output[:-1], output[-1]\n",
    "\n",
    "def prepare_data_y(x, window_size):\n",
    "    # # perform simple moving average\n",
    "    # output = np.convolve(x, np.ones(window_size), 'valid') / window_size\n",
    "\n",
    "    # use the next day as label\n",
    "    output = x[window_size:]\n",
    "    return output\n",
    "\n",
    "def prepare_data(normalized_data_close_price, config, plot=False):\n",
    "    data_x, data_x_unseen = prepare_data_x(normalized_data_close_price, window_size=config[\"data\"][\"window_size\"])\n",
    "    data_y = prepare_data_y(normalized_data_close_price, window_size=config[\"data\"][\"window_size\"])\n",
    "\n",
    "    # split dataset\n",
    "\n",
    "    split_index = int(data_y.shape[0]*config[\"data\"][\"train_split_size\"])\n",
    "    data_x_train = data_x[:split_index]\n",
    "    data_x_val = data_x[split_index:]\n",
    "    data_y_train = data_y[:split_index]\n",
    "    data_y_val = data_y[split_index:]\n",
    "\n",
    "    if plot:\n",
    "        # prepare data for plotting\n",
    "\n",
    "        to_plot_data_y_train = np.zeros(num_data_points)\n",
    "        to_plot_data_y_val = np.zeros(num_data_points)\n",
    "\n",
    "        to_plot_data_y_train[config[\"data\"][\"window_size\"]:split_index+config[\"data\"][\"window_size\"]] = data_y_train\n",
    "        to_plot_data_y_val[split_index+config[\"data\"][\"window_size\"]:] = data_y_val\n",
    "\n",
    "        to_plot_data_y_train = np.where(to_plot_data_y_train == 0, None, to_plot_data_y_train)\n",
    "        to_plot_data_y_val = np.where(to_plot_data_y_val == 0, None, to_plot_data_y_val)\n",
    "\n",
    "        ## plots\n",
    "\n",
    "        fig = figure(figsize=(25, 5), dpi=80)\n",
    "        fig.patch.set_facecolor((1.0, 1.0, 1.0))\n",
    "        plt.plot(data_date, to_plot_data_y_train, label=\"Prices (train)\", color=config[\"plots\"][\"color_train\"])\n",
    "        plt.plot(data_date, to_plot_data_y_val, label=\"Prices (validation)\", color=config[\"plots\"][\"color_val\"])\n",
    "        xticks = [data_date[i] if ((i%config[\"plots\"][\"xticks_interval\"]==0 and (num_data_points-i) > config[\"plots\"][\"xticks_interval\"]) or i==num_data_points-1) else None for i in range(num_data_points)] # make x ticks nice\n",
    "        x = np.arange(0,len(xticks))\n",
    "        plt.xticks(x, xticks, rotation='vertical')\n",
    "        plt.title(\"Daily close prices for \" + config[\"y_finance\"][\"symbol\"] + \" - showing training and validation data\")\n",
    "        plt.grid(visible=None, which='major', axis='y', linestyle='--')\n",
    "        plt.legend()\n",
    "        plt.show()\n",
    "\n",
    "    return split_index, data_x_train, data_y_train, data_x_val, data_y_val, data_x_unseen\n",
    "\n",
    "split_index, data_x_train, data_y_train, data_x_val, data_y_val, data_x_unseen = prepare_data(normalized_data_close_price, config, plot=config[\"plots\"][\"show_plots\"])"
   ]
  },
  {
   "cell_type": "code",
   "execution_count": 53,
   "metadata": {},
   "outputs": [
    {
     "data": {
      "text/plain": [
       "(1972, 50)"
      ]
     },
     "execution_count": 53,
     "metadata": {},
     "output_type": "execute_result"
    }
   ],
   "source": [
    "data_x_train.shape"
   ]
  },
  {
   "cell_type": "code",
   "execution_count": 54,
   "metadata": {},
   "outputs": [
    {
     "data": {
      "text/plain": [
       "(1972,)"
      ]
     },
     "execution_count": 54,
     "metadata": {},
     "output_type": "execute_result"
    }
   ],
   "source": [
    "data_y_train.shape"
   ]
  },
  {
   "cell_type": "code",
   "execution_count": 55,
   "metadata": {},
   "outputs": [],
   "source": [
    "model = Sequential()\n",
    "model.add(LSTM(32, input_shape=(config[\"data\"][\"window_size\"], 1), return_sequences=True)) # Input is shape (5 timesteps x 3 timeseries), output is shape (5 timesteps x 32 variables) because return_sequences  = True\n",
    "model.add(LSTM(8))  # output is shape (1 timesteps x 8 variables) because return_sequences = False\n",
    "model.add(Dense(1, activation='linear')) # output is (1 timestep x 1 output unit on dense layer). It is compare to target variable."
   ]
  },
  {
   "cell_type": "code",
   "execution_count": 75,
   "metadata": {},
   "outputs": [
    {
     "data": {
      "text/plain": [
       "(1972, 50)"
      ]
     },
     "execution_count": 75,
     "metadata": {},
     "output_type": "execute_result"
    }
   ],
   "source": [
    "data_x_train.shape"
   ]
  },
  {
   "cell_type": "code",
   "execution_count": 79,
   "metadata": {},
   "outputs": [
    {
     "name": "stdout",
     "output_type": "stream",
     "text": [
      "Epoch 1/20\n",
      "62/62 [==============================] - 13s 49ms/step - loss: 7.4989e-05 - mean_absolute_error: 0.0045\n",
      "Epoch 2/20\n",
      "62/62 [==============================] - 3s 55ms/step - loss: 7.8739e-05 - mean_absolute_error: 0.0050\n",
      "Epoch 3/20\n",
      "62/62 [==============================] - 4s 59ms/step - loss: 7.7422e-05 - mean_absolute_error: 0.0051\n",
      "Epoch 4/20\n",
      "62/62 [==============================] - 3s 51ms/step - loss: 6.6490e-05 - mean_absolute_error: 0.0045\n",
      "Epoch 5/20\n",
      "62/62 [==============================] - 3s 48ms/step - loss: 6.5520e-05 - mean_absolute_error: 0.0041\n",
      "Epoch 6/20\n",
      "62/62 [==============================] - 3s 50ms/step - loss: 7.0475e-05 - mean_absolute_error: 0.0046\n",
      "Epoch 7/20\n",
      "62/62 [==============================] - 3s 46ms/step - loss: 7.4409e-05 - mean_absolute_error: 0.0045\n",
      "Epoch 8/20\n",
      "62/62 [==============================] - 3s 45ms/step - loss: 6.6346e-05 - mean_absolute_error: 0.0041\n",
      "Epoch 9/20\n",
      "62/62 [==============================] - 3s 45ms/step - loss: 6.4910e-05 - mean_absolute_error: 0.0040\n",
      "Epoch 10/20\n",
      "62/62 [==============================] - 3s 49ms/step - loss: 6.7763e-05 - mean_absolute_error: 0.0043\n",
      "Epoch 11/20\n",
      "62/62 [==============================] - 3s 45ms/step - loss: 6.8168e-05 - mean_absolute_error: 0.0043\n",
      "Epoch 12/20\n",
      "62/62 [==============================] - 3s 47ms/step - loss: 6.7904e-05 - mean_absolute_error: 0.0043\n",
      "Epoch 13/20\n",
      "62/62 [==============================] - 3s 45ms/step - loss: 7.7815e-05 - mean_absolute_error: 0.0050\n",
      "Epoch 14/20\n",
      "62/62 [==============================] - 3s 51ms/step - loss: 7.0530e-05 - mean_absolute_error: 0.0046\n",
      "Epoch 15/20\n",
      "62/62 [==============================] - 3s 54ms/step - loss: 6.8840e-05 - mean_absolute_error: 0.0044\n",
      "Epoch 16/20\n",
      "62/62 [==============================] - 3s 50ms/step - loss: 6.5077e-05 - mean_absolute_error: 0.0041\n",
      "Epoch 17/20\n",
      "62/62 [==============================] - 4s 58ms/step - loss: 7.7751e-05 - mean_absolute_error: 0.0051\n",
      "Epoch 18/20\n",
      "62/62 [==============================] - 4s 62ms/step - loss: 6.6622e-05 - mean_absolute_error: 0.0042\n",
      "Epoch 19/20\n",
      "62/62 [==============================] - 4s 63ms/step - loss: 6.4006e-05 - mean_absolute_error: 0.0040\n",
      "Epoch 20/20\n",
      "62/62 [==============================] - 4s 58ms/step - loss: 6.3200e-05 - mean_absolute_error: 0.0039\n"
     ]
    },
    {
     "data": {
      "text/plain": [
       "<keras.src.callbacks.History at 0x2a8639a45d0>"
      ]
     },
     "execution_count": 79,
     "metadata": {},
     "output_type": "execute_result"
    }
   ],
   "source": [
    "model.compile(optimizer=tf.keras.optimizers.Adam(),\n",
    "              loss=tf.keras.losses.MeanSquaredError(),\n",
    "              metrics=[tf.keras.metrics.MeanAbsoluteError()])\n",
    "\n",
    "model.fit(data_x_train,data_y_train,epochs=20)"
   ]
  },
  {
   "cell_type": "code",
   "execution_count": 80,
   "metadata": {},
   "outputs": [
    {
     "data": {
      "text/plain": [
       "[0.0008220918825827539, 0.021211719140410423]"
      ]
     },
     "execution_count": 80,
     "metadata": {},
     "output_type": "execute_result"
    }
   ],
   "source": [
    "model.evaluate(data_x_val,  data_y_val, verbose=0)"
   ]
  },
  {
   "cell_type": "code",
   "execution_count": 84,
   "metadata": {},
   "outputs": [
    {
     "ename": "NameError",
     "evalue": "name 'Dataset' is not defined",
     "output_type": "error",
     "traceback": [
      "\u001b[1;31m---------------------------------------------------------------------------\u001b[0m",
      "\u001b[1;31mNameError\u001b[0m                                 Traceback (most recent call last)",
      "Cell \u001b[1;32mIn[84], line 1\u001b[0m\n\u001b[1;32m----> 1\u001b[0m \u001b[39mclass\u001b[39;00m \u001b[39mTimeSeriesDataset\u001b[39;00m(Dataset):\n\u001b[0;32m      2\u001b[0m     \u001b[39mdef\u001b[39;00m \u001b[39m__init__\u001b[39m(\u001b[39mself\u001b[39m, x, y):\n\u001b[0;32m      3\u001b[0m         x \u001b[39m=\u001b[39m np\u001b[39m.\u001b[39mexpand_dims(x, \u001b[39m2\u001b[39m) \u001b[39m# in our case, we have only 1 feature, so we need to convert `x` into [batch, sequence, features] for LSTM\u001b[39;00m\n",
      "\u001b[1;31mNameError\u001b[0m: name 'Dataset' is not defined"
     ]
    }
   ],
   "source": [
    "class TimeSeriesDataset(Dataset):\n",
    "    def __init__(self, x, y):\n",
    "        x = np.expand_dims(x, 2) # in our case, we have only 1 feature, so we need to convert `x` into [batch, sequence, features] for LSTM\n",
    "        self.x = x.astype(np.float32)\n",
    "        self.y = y.astype(np.float32)\n",
    "        \n",
    "    def __len__(self):\n",
    "        return len(self.x)\n",
    "\n",
    "    def __getitem__(self, idx):\n",
    "        return (self.x[idx], self.y[idx])\n",
    "\n",
    "dataset_train = TimeSeriesDataset(data_x_train, data_y_train)\n",
    "dataset_val = TimeSeriesDataset(data_x_val, data_y_val)\n",
    "\n",
    "print(\"Train data shape\", dataset_train.x.shape, dataset_train.y.shape)\n",
    "print(\"Validation data shape\", dataset_val.x.shape, dataset_val.y.shape)"
   ]
  },
  {
   "cell_type": "code",
   "execution_count": 83,
   "metadata": {},
   "outputs": [
    {
     "ename": "ValueError",
     "evalue": "too many values to unpack (expected 2)",
     "output_type": "error",
     "traceback": [
      "\u001b[1;31m---------------------------------------------------------------------------\u001b[0m",
      "\u001b[1;31mValueError\u001b[0m                                Traceback (most recent call last)",
      "Cell \u001b[1;32mIn[83], line 12\u001b[0m\n\u001b[0;32m      1\u001b[0m \u001b[39m# here we re-initialize dataloader so the data doesn't shuffled, so we can plot the values by date\u001b[39;00m\n\u001b[0;32m      2\u001b[0m \n\u001b[0;32m      3\u001b[0m \u001b[39m# train_dataloader = DataLoader(dataset_train, batch_size=config[\"training\"][\"batch_size\"], shuffle=False)\u001b[39;00m\n\u001b[1;32m   (...)\u001b[0m\n\u001b[0;32m      7\u001b[0m \n\u001b[0;32m      8\u001b[0m \u001b[39m# predict on the training data, to see how well the model managed to learn and memorize\u001b[39;00m\n\u001b[0;32m     10\u001b[0m predicted_train \u001b[39m=\u001b[39m np\u001b[39m.\u001b[39marray([])\n\u001b[1;32m---> 12\u001b[0m \u001b[39mfor\u001b[39;00m idx, (x, y) \u001b[39min\u001b[39;00m \u001b[39menumerate\u001b[39m(data_x_train):\n\u001b[0;32m     13\u001b[0m     x \u001b[39m=\u001b[39m x\u001b[39m.\u001b[39mto(config[\u001b[39m\"\u001b[39m\u001b[39mtraining\u001b[39m\u001b[39m\"\u001b[39m][\u001b[39m\"\u001b[39m\u001b[39mdevice\u001b[39m\u001b[39m\"\u001b[39m])\n\u001b[0;32m     14\u001b[0m     out \u001b[39m=\u001b[39m model(x)\n",
      "\u001b[1;31mValueError\u001b[0m: too many values to unpack (expected 2)"
     ]
    }
   ],
   "source": [
    "# here we re-initialize dataloader so the data doesn't shuffled, so we can plot the values by date\n",
    "\n",
    "# train_dataloader = DataLoader(dataset_train, batch_size=config[\"training\"][\"batch_size\"], shuffle=False)\n",
    "# val_dataloader = DataLoader(dataset_val, batch_size=config[\"training\"][\"batch_size\"], shuffle=False)\n",
    "\n",
    "# model.eval()\n",
    "\n",
    "# predict on the training data, to see how well the model managed to learn and memorize\n",
    "\n",
    "predicted_train = np.array([])\n",
    "\n",
    "for idx, (x, y) in enumerate(data_x_train):\n",
    "    x = x.to(config[\"training\"][\"device\"])\n",
    "    out = model(x)\n",
    "    out = out.cpu().detach().numpy()\n",
    "    predicted_train = np.concatenate((predicted_train, out))\n",
    "\n",
    "# predict on the validation data, to see how the model does\n",
    "\n",
    "predicted_val = np.array([])\n",
    "\n",
    "for idx, (x, y) in enumerate(data_x_val):\n",
    "    x = x.to(config[\"training\"][\"device\"])\n",
    "    out = model(x)\n",
    "    out = out.cpu().detach().numpy()\n",
    "    predicted_val = np.concatenate((predicted_val, out))\n",
    "\n",
    "if config[\"plots\"][\"show_plots\"]:\n",
    "\n",
    "    # prepare data for plotting, show predicted prices\n",
    "\n",
    "    to_plot_data_y_train_pred = np.zeros(num_data_points)\n",
    "    to_plot_data_y_val_pred = np.zeros(num_data_points)\n",
    "\n",
    "    to_plot_data_y_train_pred[config[\"data\"][\"window_size\"]:split_index+config[\"data\"][\"window_size\"]] = scaler.inverse_transform(predicted_train)\n",
    "    to_plot_data_y_val_pred[split_index+config[\"data\"][\"window_size\"]:] = scaler.inverse_transform(predicted_val)\n",
    "\n",
    "    to_plot_data_y_train_pred = np.where(to_plot_data_y_train_pred == 0, None, to_plot_data_y_train_pred)\n",
    "    to_plot_data_y_val_pred = np.where(to_plot_data_y_val_pred == 0, None, to_plot_data_y_val_pred)\n",
    "\n",
    "    # plots\n",
    "\n",
    "    fig = figure(figsize=(25, 5), dpi=80)\n",
    "    fig.patch.set_facecolor((1.0, 1.0, 1.0))\n",
    "    plt.plot(data_date, data_close_price, label=\"Actual prices\", color=config[\"plots\"][\"color_actual\"])\n",
    "    plt.plot(data_date, to_plot_data_y_train_pred, label=\"Predicted prices (train)\", color=config[\"plots\"][\"color_pred_train\"])\n",
    "    plt.plot(data_date, to_plot_data_y_val_pred, label=\"Predicted prices (validation)\", color=config[\"plots\"][\"color_pred_val\"])\n",
    "    plt.title(\"Compare predicted prices to actual prices\")\n",
    "    xticks = [data_date[i] if ((i%config[\"plots\"][\"xticks_interval\"]==0 and (num_data_points-i) > config[\"plots\"][\"xticks_interval\"]) or i==num_data_points-1) else None for i in range(num_data_points)] # make x ticks nice\n",
    "    x = np.arange(0,len(xticks))\n",
    "    plt.xticks(x, xticks, rotation='vertical')\n",
    "    plt.grid(visible=None, which='major', axis='y', linestyle='--')\n",
    "    plt.legend()\n",
    "    plt.show()\n",
    "\n",
    "    # prepare data for plotting, zoom in validation\n",
    "\n",
    "    to_plot_data_y_val_subset = scaler.inverse_transform(data_y_val)\n",
    "    to_plot_predicted_val = scaler.inverse_transform(predicted_val)\n",
    "    to_plot_data_date = data_date[split_index+config[\"data\"][\"window_size\"]:]\n",
    "\n",
    "    # plots\n",
    "\n",
    "    fig = figure(figsize=(25, 5), dpi=80)\n",
    "    fig.patch.set_facecolor((1.0, 1.0, 1.0))\n",
    "    plt.plot(to_plot_data_date, to_plot_data_y_val_subset, label=\"Actual prices\", color=config[\"plots\"][\"color_actual\"])\n",
    "    plt.plot(to_plot_data_date, to_plot_predicted_val, label=\"Predicted prices (validation)\", color=config[\"plots\"][\"color_pred_val\"])\n",
    "    plt.title(\"Zoom in to examine predicted price on validation data portion\")\n",
    "    xticks = [to_plot_data_date[i] if ((i%int(config[\"plots\"][\"xticks_interval\"]/5)==0 and (len(to_plot_data_date)-i) > config[\"plots\"][\"xticks_interval\"]/6) or i==len(to_plot_data_date)-1) else None for i in range(len(to_plot_data_date))] # make x ticks nice\n",
    "    xs = np.arange(0,len(xticks))\n",
    "    plt.xticks(xs, xticks, rotation='vertical')\n",
    "    plt.grid(visible=None, which='major', axis='y', linestyle='--')\n",
    "    plt.legend()\n",
    "    plt.show()"
   ]
  },
  {
   "cell_type": "markdown",
   "metadata": {},
   "source": [
    "# TEST"
   ]
  },
  {
   "cell_type": "code",
   "execution_count": 68,
   "metadata": {},
   "outputs": [],
   "source": [
    "df = pd.read_csv('data/TSLA.csv')\n",
    "\n",
    "\n",
    "df.columns = df.columns.str.lower()\n",
    "df = df.set_index('date')\n",
    "n = len(df)\n",
    "train_df = df[0:int(n*0.7)]\n",
    "val_df = df[int(n*0.7):int(n*0.9)]\n",
    "test_df = df[int(n*0.9):]\n"
   ]
  },
  {
   "cell_type": "code",
   "execution_count": 69,
   "metadata": {},
   "outputs": [
    {
     "data": {
      "text/html": [
       "<div>\n",
       "<style scoped>\n",
       "    .dataframe tbody tr th:only-of-type {\n",
       "        vertical-align: middle;\n",
       "    }\n",
       "\n",
       "    .dataframe tbody tr th {\n",
       "        vertical-align: top;\n",
       "    }\n",
       "\n",
       "    .dataframe thead th {\n",
       "        text-align: right;\n",
       "    }\n",
       "</style>\n",
       "<table border=\"1\" class=\"dataframe\">\n",
       "  <thead>\n",
       "    <tr style=\"text-align: right;\">\n",
       "      <th></th>\n",
       "      <th>open</th>\n",
       "      <th>high</th>\n",
       "      <th>low</th>\n",
       "      <th>close</th>\n",
       "      <th>adj close</th>\n",
       "      <th>volume</th>\n",
       "    </tr>\n",
       "    <tr>\n",
       "      <th>date</th>\n",
       "      <th></th>\n",
       "      <th></th>\n",
       "      <th></th>\n",
       "      <th></th>\n",
       "      <th></th>\n",
       "      <th></th>\n",
       "    </tr>\n",
       "  </thead>\n",
       "  <tbody>\n",
       "    <tr>\n",
       "      <th>2013-09-05</th>\n",
       "      <td>11.340000</td>\n",
       "      <td>11.433333</td>\n",
       "      <td>11.216667</td>\n",
       "      <td>11.328667</td>\n",
       "      <td>11.328667</td>\n",
       "      <td>100279500</td>\n",
       "    </tr>\n",
       "    <tr>\n",
       "      <th>2013-09-06</th>\n",
       "      <td>11.238000</td>\n",
       "      <td>11.313333</td>\n",
       "      <td>11.010000</td>\n",
       "      <td>11.131333</td>\n",
       "      <td>11.131333</td>\n",
       "      <td>129295500</td>\n",
       "    </tr>\n",
       "    <tr>\n",
       "      <th>2013-09-09</th>\n",
       "      <td>10.874667</td>\n",
       "      <td>10.966667</td>\n",
       "      <td>10.567333</td>\n",
       "      <td>10.713333</td>\n",
       "      <td>10.713333</td>\n",
       "      <td>215167500</td>\n",
       "    </tr>\n",
       "    <tr>\n",
       "      <th>2013-09-10</th>\n",
       "      <td>10.763333</td>\n",
       "      <td>11.166667</td>\n",
       "      <td>10.708667</td>\n",
       "      <td>11.091333</td>\n",
       "      <td>11.091333</td>\n",
       "      <td>134517000</td>\n",
       "    </tr>\n",
       "    <tr>\n",
       "      <th>2013-09-11</th>\n",
       "      <td>11.094000</td>\n",
       "      <td>11.193333</td>\n",
       "      <td>10.808667</td>\n",
       "      <td>10.901333</td>\n",
       "      <td>10.901333</td>\n",
       "      <td>87487500</td>\n",
       "    </tr>\n",
       "    <tr>\n",
       "      <th>...</th>\n",
       "      <td>...</td>\n",
       "      <td>...</td>\n",
       "      <td>...</td>\n",
       "      <td>...</td>\n",
       "      <td>...</td>\n",
       "      <td>...</td>\n",
       "    </tr>\n",
       "    <tr>\n",
       "      <th>2020-08-26</th>\n",
       "      <td>137.333328</td>\n",
       "      <td>144.399994</td>\n",
       "      <td>136.908661</td>\n",
       "      <td>143.544662</td>\n",
       "      <td>143.544662</td>\n",
       "      <td>213591000</td>\n",
       "    </tr>\n",
       "    <tr>\n",
       "      <th>2020-08-27</th>\n",
       "      <td>145.363998</td>\n",
       "      <td>153.039993</td>\n",
       "      <td>142.833328</td>\n",
       "      <td>149.250000</td>\n",
       "      <td>149.250000</td>\n",
       "      <td>355395000</td>\n",
       "    </tr>\n",
       "    <tr>\n",
       "      <th>2020-08-28</th>\n",
       "      <td>153.007996</td>\n",
       "      <td>154.565994</td>\n",
       "      <td>145.768005</td>\n",
       "      <td>147.559998</td>\n",
       "      <td>147.559998</td>\n",
       "      <td>301218000</td>\n",
       "    </tr>\n",
       "    <tr>\n",
       "      <th>2020-08-31</th>\n",
       "      <td>148.203339</td>\n",
       "      <td>166.713333</td>\n",
       "      <td>146.703339</td>\n",
       "      <td>166.106674</td>\n",
       "      <td>166.106674</td>\n",
       "      <td>355123200</td>\n",
       "    </tr>\n",
       "    <tr>\n",
       "      <th>2020-09-01</th>\n",
       "      <td>167.380005</td>\n",
       "      <td>167.496674</td>\n",
       "      <td>156.836670</td>\n",
       "      <td>158.350006</td>\n",
       "      <td>158.350006</td>\n",
       "      <td>269523300</td>\n",
       "    </tr>\n",
       "  </tbody>\n",
       "</table>\n",
       "<p>1761 rows × 6 columns</p>\n",
       "</div>"
      ],
      "text/plain": [
       "                  open        high         low       close   adj close  \\\n",
       "date                                                                     \n",
       "2013-09-05   11.340000   11.433333   11.216667   11.328667   11.328667   \n",
       "2013-09-06   11.238000   11.313333   11.010000   11.131333   11.131333   \n",
       "2013-09-09   10.874667   10.966667   10.567333   10.713333   10.713333   \n",
       "2013-09-10   10.763333   11.166667   10.708667   11.091333   11.091333   \n",
       "2013-09-11   11.094000   11.193333   10.808667   10.901333   10.901333   \n",
       "...                ...         ...         ...         ...         ...   \n",
       "2020-08-26  137.333328  144.399994  136.908661  143.544662  143.544662   \n",
       "2020-08-27  145.363998  153.039993  142.833328  149.250000  149.250000   \n",
       "2020-08-28  153.007996  154.565994  145.768005  147.559998  147.559998   \n",
       "2020-08-31  148.203339  166.713333  146.703339  166.106674  166.106674   \n",
       "2020-09-01  167.380005  167.496674  156.836670  158.350006  158.350006   \n",
       "\n",
       "               volume  \n",
       "date                   \n",
       "2013-09-05  100279500  \n",
       "2013-09-06  129295500  \n",
       "2013-09-09  215167500  \n",
       "2013-09-10  134517000  \n",
       "2013-09-11   87487500  \n",
       "...               ...  \n",
       "2020-08-26  213591000  \n",
       "2020-08-27  355395000  \n",
       "2020-08-28  301218000  \n",
       "2020-08-31  355123200  \n",
       "2020-09-01  269523300  \n",
       "\n",
       "[1761 rows x 6 columns]"
      ]
     },
     "execution_count": 69,
     "metadata": {},
     "output_type": "execute_result"
    }
   ],
   "source": [
    "train_df"
   ]
  },
  {
   "cell_type": "code",
   "execution_count": 70,
   "metadata": {},
   "outputs": [],
   "source": [
    "train_mean = train_df.mean()\n",
    "train_std = train_df.std()\n",
    "\n",
    "train_df = (train_df - train_mean) / train_std\n",
    "val_df = (val_df - train_mean) / train_std\n",
    "test_df = (test_df - train_mean) / train_std"
   ]
  },
  {
   "cell_type": "code",
   "execution_count": 71,
   "metadata": {},
   "outputs": [
    {
     "data": {
      "text/html": [
       "<div>\n",
       "<style scoped>\n",
       "    .dataframe tbody tr th:only-of-type {\n",
       "        vertical-align: middle;\n",
       "    }\n",
       "\n",
       "    .dataframe tbody tr th {\n",
       "        vertical-align: top;\n",
       "    }\n",
       "\n",
       "    .dataframe thead th {\n",
       "        text-align: right;\n",
       "    }\n",
       "</style>\n",
       "<table border=\"1\" class=\"dataframe\">\n",
       "  <thead>\n",
       "    <tr style=\"text-align: right;\">\n",
       "      <th></th>\n",
       "      <th>open</th>\n",
       "      <th>high</th>\n",
       "      <th>low</th>\n",
       "      <th>close</th>\n",
       "      <th>adj close</th>\n",
       "      <th>volume</th>\n",
       "    </tr>\n",
       "    <tr>\n",
       "      <th>date</th>\n",
       "      <th></th>\n",
       "      <th></th>\n",
       "      <th></th>\n",
       "      <th></th>\n",
       "      <th></th>\n",
       "      <th></th>\n",
       "    </tr>\n",
       "  </thead>\n",
       "  <tbody>\n",
       "    <tr>\n",
       "      <th>2013-09-05</th>\n",
       "      <td>-0.597086</td>\n",
       "      <td>-0.596917</td>\n",
       "      <td>-0.597330</td>\n",
       "      <td>-0.595828</td>\n",
       "      <td>-0.595828</td>\n",
       "      <td>-0.211230</td>\n",
       "    </tr>\n",
       "    <tr>\n",
       "      <th>2013-09-06</th>\n",
       "      <td>-0.603058</td>\n",
       "      <td>-0.603699</td>\n",
       "      <td>-0.609849</td>\n",
       "      <td>-0.607320</td>\n",
       "      <td>-0.607320</td>\n",
       "      <td>0.129671</td>\n",
       "    </tr>\n",
       "    <tr>\n",
       "      <th>2013-09-09</th>\n",
       "      <td>-0.624332</td>\n",
       "      <td>-0.623292</td>\n",
       "      <td>-0.636662</td>\n",
       "      <td>-0.631663</td>\n",
       "      <td>-0.631663</td>\n",
       "      <td>1.138555</td>\n",
       "    </tr>\n",
       "    <tr>\n",
       "      <th>2013-09-10</th>\n",
       "      <td>-0.630851</td>\n",
       "      <td>-0.611989</td>\n",
       "      <td>-0.628101</td>\n",
       "      <td>-0.609649</td>\n",
       "      <td>-0.609649</td>\n",
       "      <td>0.191016</td>\n",
       "    </tr>\n",
       "    <tr>\n",
       "      <th>2013-09-11</th>\n",
       "      <td>-0.611489</td>\n",
       "      <td>-0.610481</td>\n",
       "      <td>-0.622044</td>\n",
       "      <td>-0.620714</td>\n",
       "      <td>-0.620714</td>\n",
       "      <td>-0.361519</td>\n",
       "    </tr>\n",
       "    <tr>\n",
       "      <th>...</th>\n",
       "      <td>...</td>\n",
       "      <td>...</td>\n",
       "      <td>...</td>\n",
       "      <td>...</td>\n",
       "      <td>...</td>\n",
       "      <td>...</td>\n",
       "    </tr>\n",
       "    <tr>\n",
       "      <th>2020-08-26</th>\n",
       "      <td>6.780092</td>\n",
       "      <td>6.918038</td>\n",
       "      <td>7.016078</td>\n",
       "      <td>7.103977</td>\n",
       "      <td>7.103977</td>\n",
       "      <td>1.120033</td>\n",
       "    </tr>\n",
       "    <tr>\n",
       "      <th>2020-08-27</th>\n",
       "      <td>7.250305</td>\n",
       "      <td>7.406350</td>\n",
       "      <td>7.374947</td>\n",
       "      <td>7.436236</td>\n",
       "      <td>7.436236</td>\n",
       "      <td>2.786046</td>\n",
       "    </tr>\n",
       "    <tr>\n",
       "      <th>2020-08-28</th>\n",
       "      <td>7.697877</td>\n",
       "      <td>7.492596</td>\n",
       "      <td>7.552706</td>\n",
       "      <td>7.337816</td>\n",
       "      <td>7.337816</td>\n",
       "      <td>2.149537</td>\n",
       "    </tr>\n",
       "    <tr>\n",
       "      <th>2020-08-31</th>\n",
       "      <td>7.416554</td>\n",
       "      <td>8.179135</td>\n",
       "      <td>7.609361</td>\n",
       "      <td>8.417911</td>\n",
       "      <td>8.417911</td>\n",
       "      <td>2.782853</td>\n",
       "    </tr>\n",
       "    <tr>\n",
       "      <th>2020-09-01</th>\n",
       "      <td>8.539389</td>\n",
       "      <td>8.223407</td>\n",
       "      <td>8.223156</td>\n",
       "      <td>7.966189</td>\n",
       "      <td>7.966189</td>\n",
       "      <td>1.777165</td>\n",
       "    </tr>\n",
       "  </tbody>\n",
       "</table>\n",
       "<p>1761 rows × 6 columns</p>\n",
       "</div>"
      ],
      "text/plain": [
       "                open      high       low     close  adj close    volume\n",
       "date                                                                   \n",
       "2013-09-05 -0.597086 -0.596917 -0.597330 -0.595828  -0.595828 -0.211230\n",
       "2013-09-06 -0.603058 -0.603699 -0.609849 -0.607320  -0.607320  0.129671\n",
       "2013-09-09 -0.624332 -0.623292 -0.636662 -0.631663  -0.631663  1.138555\n",
       "2013-09-10 -0.630851 -0.611989 -0.628101 -0.609649  -0.609649  0.191016\n",
       "2013-09-11 -0.611489 -0.610481 -0.622044 -0.620714  -0.620714 -0.361519\n",
       "...              ...       ...       ...       ...        ...       ...\n",
       "2020-08-26  6.780092  6.918038  7.016078  7.103977   7.103977  1.120033\n",
       "2020-08-27  7.250305  7.406350  7.374947  7.436236   7.436236  2.786046\n",
       "2020-08-28  7.697877  7.492596  7.552706  7.337816   7.337816  2.149537\n",
       "2020-08-31  7.416554  8.179135  7.609361  8.417911   8.417911  2.782853\n",
       "2020-09-01  8.539389  8.223407  8.223156  7.966189   7.966189  1.777165\n",
       "\n",
       "[1761 rows x 6 columns]"
      ]
     },
     "execution_count": 71,
     "metadata": {},
     "output_type": "execute_result"
    }
   ],
   "source": [
    "train_df"
   ]
  },
  {
   "cell_type": "code",
   "execution_count": 73,
   "metadata": {},
   "outputs": [
    {
     "data": {
      "image/png": "[encoded data removed]",
      "text/plain": [
       "<Figure size 1200x600 with 1 Axes>"
      ]
     },
     "metadata": {},
     "output_type": "display_data"
    }
   ],
   "source": [
    "import seaborn as sns\n",
    "\n",
    "df_std = (df - train_mean) / train_std\n",
    "df_std = df_std.melt(var_name='Column', value_name='Normalized')\n",
    "plt.figure(figsize=(12, 6))\n",
    "ax = sns.violinplot(x='Column', y='Normalized', data=df_std)\n",
    "_ = ax.set_xticklabels(df.keys(), rotation=90)"
   ]
  },
  {
   "cell_type": "code",
   "execution_count": 85,
   "metadata": {},
   "outputs": [],
   "source": [
    "import yfinance as yf\n",
    "from datetime import datetime\n",
    "\n",
    "symbol = \"TSLA\""
   ]
  },
  {
   "cell_type": "code",
   "execution_count": 86,
   "metadata": {},
   "outputs": [],
   "source": [
    "\n",
    "# 1. Getting a stock name\n",
    "symbol = input(\"Enter a Stock Price Name: \")"
   ]
  },
  {
   "cell_type": "code",
   "execution_count": 87,
   "metadata": {},
   "outputs": [
    {
     "name": "stdout",
     "output_type": "stream",
     "text": [
      "[*********************100%%**********************]  1 of 1 completed\n"
     ]
    }
   ],
   "source": [
    "# Get data of 10 recent years\n",
    "df = yf.download(symbol, period='10y')"
   ]
  },
  {
   "cell_type": "code",
   "execution_count": 88,
   "metadata": {},
   "outputs": [
    {
     "data": {
      "text/html": [
       "<div>\n",
       "<style scoped>\n",
       "    .dataframe tbody tr th:only-of-type {\n",
       "        vertical-align: middle;\n",
       "    }\n",
       "\n",
       "    .dataframe tbody tr th {\n",
       "        vertical-align: top;\n",
       "    }\n",
       "\n",
       "    .dataframe thead th {\n",
       "        text-align: right;\n",
       "    }\n",
       "</style>\n",
       "<table border=\"1\" class=\"dataframe\">\n",
       "  <thead>\n",
       "    <tr style=\"text-align: right;\">\n",
       "      <th></th>\n",
       "      <th>Open</th>\n",
       "      <th>High</th>\n",
       "      <th>Low</th>\n",
       "      <th>Close</th>\n",
       "      <th>Adj Close</th>\n",
       "      <th>Volume</th>\n",
       "    </tr>\n",
       "    <tr>\n",
       "      <th>Date</th>\n",
       "      <th></th>\n",
       "      <th></th>\n",
       "      <th></th>\n",
       "      <th></th>\n",
       "      <th></th>\n",
       "      <th></th>\n",
       "    </tr>\n",
       "  </thead>\n",
       "  <tbody>\n",
       "    <tr>\n",
       "      <th>2013-09-06</th>\n",
       "      <td>11.238000</td>\n",
       "      <td>11.313333</td>\n",
       "      <td>11.010000</td>\n",
       "      <td>11.131333</td>\n",
       "      <td>11.131333</td>\n",
       "      <td>129295500</td>\n",
       "    </tr>\n",
       "    <tr>\n",
       "      <th>2013-09-09</th>\n",
       "      <td>10.874667</td>\n",
       "      <td>10.966667</td>\n",
       "      <td>10.567333</td>\n",
       "      <td>10.713333</td>\n",
       "      <td>10.713333</td>\n",
       "      <td>215167500</td>\n",
       "    </tr>\n",
       "    <tr>\n",
       "      <th>2013-09-10</th>\n",
       "      <td>10.763333</td>\n",
       "      <td>11.166667</td>\n",
       "      <td>10.708667</td>\n",
       "      <td>11.091333</td>\n",
       "      <td>11.091333</td>\n",
       "      <td>134517000</td>\n",
       "    </tr>\n",
       "    <tr>\n",
       "      <th>2013-09-11</th>\n",
       "      <td>11.094000</td>\n",
       "      <td>11.193333</td>\n",
       "      <td>10.808667</td>\n",
       "      <td>10.901333</td>\n",
       "      <td>10.901333</td>\n",
       "      <td>87487500</td>\n",
       "    </tr>\n",
       "    <tr>\n",
       "      <th>2013-09-12</th>\n",
       "      <td>10.933333</td>\n",
       "      <td>11.117333</td>\n",
       "      <td>10.700667</td>\n",
       "      <td>10.995333</td>\n",
       "      <td>10.995333</td>\n",
       "      <td>92400000</td>\n",
       "    </tr>\n",
       "    <tr>\n",
       "      <th>...</th>\n",
       "      <td>...</td>\n",
       "      <td>...</td>\n",
       "      <td>...</td>\n",
       "      <td>...</td>\n",
       "      <td>...</td>\n",
       "      <td>...</td>\n",
       "    </tr>\n",
       "    <tr>\n",
       "      <th>2023-08-29</th>\n",
       "      <td>238.580002</td>\n",
       "      <td>257.480011</td>\n",
       "      <td>237.770004</td>\n",
       "      <td>257.179993</td>\n",
       "      <td>257.179993</td>\n",
       "      <td>134047600</td>\n",
       "    </tr>\n",
       "    <tr>\n",
       "      <th>2023-08-30</th>\n",
       "      <td>254.199997</td>\n",
       "      <td>260.510010</td>\n",
       "      <td>250.589996</td>\n",
       "      <td>256.899994</td>\n",
       "      <td>256.899994</td>\n",
       "      <td>121988400</td>\n",
       "    </tr>\n",
       "    <tr>\n",
       "      <th>2023-08-31</th>\n",
       "      <td>255.979996</td>\n",
       "      <td>261.179993</td>\n",
       "      <td>255.050003</td>\n",
       "      <td>258.079987</td>\n",
       "      <td>258.079987</td>\n",
       "      <td>108861700</td>\n",
       "    </tr>\n",
       "    <tr>\n",
       "      <th>2023-09-01</th>\n",
       "      <td>257.260010</td>\n",
       "      <td>259.079987</td>\n",
       "      <td>242.009995</td>\n",
       "      <td>245.009995</td>\n",
       "      <td>245.009995</td>\n",
       "      <td>132272500</td>\n",
       "    </tr>\n",
       "    <tr>\n",
       "      <th>2023-09-05</th>\n",
       "      <td>245.000000</td>\n",
       "      <td>258.000000</td>\n",
       "      <td>244.860001</td>\n",
       "      <td>256.489990</td>\n",
       "      <td>256.489990</td>\n",
       "      <td>129269600</td>\n",
       "    </tr>\n",
       "  </tbody>\n",
       "</table>\n",
       "<p>2516 rows × 6 columns</p>\n",
       "</div>"
      ],
      "text/plain": [
       "                  Open        High         Low       Close   Adj Close  \\\n",
       "Date                                                                     \n",
       "2013-09-06   11.238000   11.313333   11.010000   11.131333   11.131333   \n",
       "2013-09-09   10.874667   10.966667   10.567333   10.713333   10.713333   \n",
       "2013-09-10   10.763333   11.166667   10.708667   11.091333   11.091333   \n",
       "2013-09-11   11.094000   11.193333   10.808667   10.901333   10.901333   \n",
       "2013-09-12   10.933333   11.117333   10.700667   10.995333   10.995333   \n",
       "...                ...         ...         ...         ...         ...   \n",
       "2023-08-29  238.580002  257.480011  237.770004  257.179993  257.179993   \n",
       "2023-08-30  254.199997  260.510010  250.589996  256.899994  256.899994   \n",
       "2023-08-31  255.979996  261.179993  255.050003  258.079987  258.079987   \n",
       "2023-09-01  257.260010  259.079987  242.009995  245.009995  245.009995   \n",
       "2023-09-05  245.000000  258.000000  244.860001  256.489990  256.489990   \n",
       "\n",
       "               Volume  \n",
       "Date                   \n",
       "2013-09-06  129295500  \n",
       "2013-09-09  215167500  \n",
       "2013-09-10  134517000  \n",
       "2013-09-11   87487500  \n",
       "2013-09-12   92400000  \n",
       "...               ...  \n",
       "2023-08-29  134047600  \n",
       "2023-08-30  121988400  \n",
       "2023-08-31  108861700  \n",
       "2023-09-01  132272500  \n",
       "2023-09-05  129269600  \n",
       "\n",
       "[2516 rows x 6 columns]"
      ]
     },
     "execution_count": 88,
     "metadata": {},
     "output_type": "execute_result"
    }
   ],
   "source": [
    "df"
   ]
  }
 ],
 "metadata": {
  "kernelspec": {
   "display_name": "base",
   "language": "python",
   "name": "python3"
  },
  "language_info": {
   "codemirror_mode": {
    "name": "ipython",
    "version": 3
   },
   "file_extension": ".py",
   "mimetype": "text/x-python",
   "name": "python",
   "nbconvert_exporter": "python",
   "pygments_lexer": "ipython3",
   "version": "3.11.3"
  },
  "orig_nbformat": 4
 },
 "nbformat": 4,
 "nbformat_minor": 2
}
