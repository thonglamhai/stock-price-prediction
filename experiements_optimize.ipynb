{
 "cells": [
  {
   "cell_type": "markdown",
   "metadata": {},
   "source": [
    "## Part 1: Importing Libraries"
   ]
  },
  {
   "cell_type": "code",
   "execution_count": 1,
   "metadata": {},
   "outputs": [],
   "source": [
    "from src.modules import data_preprocessing as dp\n",
    "from src.modules import data_visualization as dv\n",
    "from src.modules import modeling as md\n",
    "\n",
    "import pandas as pd\n",
    "import numpy as np\n",
    "from sklearn.preprocessing import MinMaxScaler\n",
    "\n",
    "import tensorflow as tf\n",
    "from tensorflow.keras.models import Sequential\n",
    "from tensorflow.keras.layers import LSTM, Dense, Dropout, Bidirectional\n",
    "from tensorflow.keras.callbacks import ModelCheckpoint, TensorBoard"
   ]
  },
  {
   "cell_type": "markdown",
   "metadata": {},
   "source": [
    "## Part 2: Download Dataset"
   ]
  },
  {
   "cell_type": "code",
   "execution_count": 2,
   "metadata": {},
   "outputs": [],
   "source": [
    "# Declare the ticker symbol. Here we use 5 stocks \"AAPL MSFT AMD GOOG META\" as an example.\n",
    "tickers = ['aapl', 'amd', 'msft', 'meta', 'goog']"
   ]
  },
  {
   "cell_type": "code",
   "execution_count": 2,
   "metadata": {},
   "outputs": [],
   "source": [
    "# tickers = ['meta']"
   ]
  },
  {
   "cell_type": "code",
   "execution_count": 3,
   "metadata": {},
   "outputs": [
    {
     "name": "stdout",
     "output_type": "stream",
     "text": [
      "[*********************100%%**********************]  1 of 1 completed\n",
      "Epoch 1/50\n",
      "55/55 [==============================] - 24s 204ms/step - loss: 0.0037 - root_mean_squared_error: 0.0605 - val_loss: 0.0022 - val_root_mean_squared_error: 0.0472\n",
      "Epoch 2/50\n",
      "55/55 [==============================] - 9s 161ms/step - loss: 4.9401e-04 - root_mean_squared_error: 0.0222 - val_loss: 0.0015 - val_root_mean_squared_error: 0.0387\n",
      "Epoch 3/50\n",
      "55/55 [==============================] - 9s 161ms/step - loss: 4.7519e-04 - root_mean_squared_error: 0.0218 - val_loss: 0.0030 - val_root_mean_squared_error: 0.0550\n",
      "Epoch 4/50\n",
      "55/55 [==============================] - 8s 150ms/step - loss: 3.9869e-04 - root_mean_squared_error: 0.0200 - val_loss: 0.0017 - val_root_mean_squared_error: 0.0417\n",
      "Epoch 5/50\n",
      "55/55 [==============================] - 9s 159ms/step - loss: 4.2416e-04 - root_mean_squared_error: 0.0206 - val_loss: 0.0094 - val_root_mean_squared_error: 0.0970\n",
      "Epoch 6/50\n",
      "55/55 [==============================] - 8s 152ms/step - loss: 5.4322e-04 - root_mean_squared_error: 0.0233 - val_loss: 0.0032 - val_root_mean_squared_error: 0.0565\n",
      "Epoch 7/50\n",
      "55/55 [==============================] - 8s 152ms/step - loss: 4.9107e-04 - root_mean_squared_error: 0.0222 - val_loss: 0.0051 - val_root_mean_squared_error: 0.0716\n",
      "Epoch 8/50\n",
      "55/55 [==============================] - 10s 190ms/step - loss: 4.0818e-04 - root_mean_squared_error: 0.0202 - val_loss: 0.0052 - val_root_mean_squared_error: 0.0719\n",
      "Epoch 9/50\n",
      "55/55 [==============================] - 12s 220ms/step - loss: 3.4172e-04 - root_mean_squared_error: 0.0185 - val_loss: 0.0013 - val_root_mean_squared_error: 0.0361\n",
      "Epoch 10/50\n",
      "55/55 [==============================] - 10s 180ms/step - loss: 3.2707e-04 - root_mean_squared_error: 0.0181 - val_loss: 0.0022 - val_root_mean_squared_error: 0.0469\n",
      "Epoch 11/50\n",
      "55/55 [==============================] - 30s 554ms/step - loss: 3.5789e-04 - root_mean_squared_error: 0.0189 - val_loss: 8.6461e-04 - val_root_mean_squared_error: 0.0294\n",
      "Epoch 12/50\n",
      "55/55 [==============================] - 17s 313ms/step - loss: 3.3672e-04 - root_mean_squared_error: 0.0183 - val_loss: 8.3319e-04 - val_root_mean_squared_error: 0.0289\n",
      "Epoch 13/50\n",
      "55/55 [==============================] - 19s 341ms/step - loss: 2.6733e-04 - root_mean_squared_error: 0.0164 - val_loss: 0.0025 - val_root_mean_squared_error: 0.0501\n",
      "Epoch 14/50\n",
      "55/55 [==============================] - 17s 305ms/step - loss: 2.5341e-04 - root_mean_squared_error: 0.0159 - val_loss: 0.0016 - val_root_mean_squared_error: 0.0405\n",
      "Epoch 15/50\n",
      "55/55 [==============================] - 12s 218ms/step - loss: 2.8416e-04 - root_mean_squared_error: 0.0169 - val_loss: 0.0037 - val_root_mean_squared_error: 0.0606\n",
      "Epoch 16/50\n",
      "55/55 [==============================] - 9s 161ms/step - loss: 3.0117e-04 - root_mean_squared_error: 0.0174 - val_loss: 0.0021 - val_root_mean_squared_error: 0.0459\n",
      "Epoch 17/50\n",
      "55/55 [==============================] - 8s 152ms/step - loss: 2.6723e-04 - root_mean_squared_error: 0.0163 - val_loss: 0.0016 - val_root_mean_squared_error: 0.0394\n",
      "Epoch 18/50\n",
      "55/55 [==============================] - 9s 157ms/step - loss: 2.9455e-04 - root_mean_squared_error: 0.0172 - val_loss: 0.0013 - val_root_mean_squared_error: 0.0363\n",
      "Epoch 19/50\n",
      "55/55 [==============================] - 8s 151ms/step - loss: 2.7682e-04 - root_mean_squared_error: 0.0166 - val_loss: 0.0013 - val_root_mean_squared_error: 0.0365\n",
      "Epoch 20/50\n",
      "55/55 [==============================] - 8s 152ms/step - loss: 2.7621e-04 - root_mean_squared_error: 0.0166 - val_loss: 0.0062 - val_root_mean_squared_error: 0.0789\n",
      "Epoch 21/50\n",
      "55/55 [==============================] - 8s 152ms/step - loss: 3.3875e-04 - root_mean_squared_error: 0.0184 - val_loss: 0.0011 - val_root_mean_squared_error: 0.0327\n",
      "Epoch 22/50\n",
      "55/55 [==============================] - 9s 157ms/step - loss: 2.3300e-04 - root_mean_squared_error: 0.0153 - val_loss: 0.0015 - val_root_mean_squared_error: 0.0388\n",
      "Epoch 23/50\n",
      "55/55 [==============================] - 11s 200ms/step - loss: 2.0520e-04 - root_mean_squared_error: 0.0143 - val_loss: 9.1022e-04 - val_root_mean_squared_error: 0.0302\n",
      "Epoch 24/50\n",
      "55/55 [==============================] - 12s 221ms/step - loss: 2.5556e-04 - root_mean_squared_error: 0.0160 - val_loss: 0.0045 - val_root_mean_squared_error: 0.0671\n",
      "Epoch 25/50\n",
      "55/55 [==============================] - 10s 191ms/step - loss: 2.2576e-04 - root_mean_squared_error: 0.0150 - val_loss: 0.0014 - val_root_mean_squared_error: 0.0374\n",
      "Epoch 26/50\n",
      "55/55 [==============================] - 19s 346ms/step - loss: 2.2343e-04 - root_mean_squared_error: 0.0149 - val_loss: 0.0033 - val_root_mean_squared_error: 0.0575\n",
      "Epoch 27/50\n",
      "55/55 [==============================] - 18s 325ms/step - loss: 3.1791e-04 - root_mean_squared_error: 0.0178 - val_loss: 9.9173e-04 - val_root_mean_squared_error: 0.0315\n",
      "Epoch 28/50\n",
      "55/55 [==============================] - 14s 264ms/step - loss: 2.5632e-04 - root_mean_squared_error: 0.0160 - val_loss: 0.0026 - val_root_mean_squared_error: 0.0511\n",
      "Epoch 29/50\n",
      "55/55 [==============================] - 15s 274ms/step - loss: 2.3568e-04 - root_mean_squared_error: 0.0154 - val_loss: 0.0039 - val_root_mean_squared_error: 0.0622\n",
      "Epoch 30/50\n",
      "55/55 [==============================] - 15s 269ms/step - loss: 2.2421e-04 - root_mean_squared_error: 0.0150 - val_loss: 9.6230e-04 - val_root_mean_squared_error: 0.0310\n",
      "Epoch 31/50\n",
      "55/55 [==============================] - 15s 264ms/step - loss: 2.3456e-04 - root_mean_squared_error: 0.0153 - val_loss: 0.0029 - val_root_mean_squared_error: 0.0542\n",
      "Epoch 32/50\n",
      "55/55 [==============================] - 15s 266ms/step - loss: 2.0988e-04 - root_mean_squared_error: 0.0145 - val_loss: 0.0011 - val_root_mean_squared_error: 0.0329\n",
      "Epoch 33/50\n",
      "55/55 [==============================] - 16s 288ms/step - loss: 2.1072e-04 - root_mean_squared_error: 0.0145 - val_loss: 0.0017 - val_root_mean_squared_error: 0.0413\n",
      "Epoch 34/50\n",
      "55/55 [==============================] - 16s 290ms/step - loss: 2.0074e-04 - root_mean_squared_error: 0.0142 - val_loss: 0.0028 - val_root_mean_squared_error: 0.0528\n",
      "Epoch 35/50\n",
      "55/55 [==============================] - 14s 261ms/step - loss: 2.2522e-04 - root_mean_squared_error: 0.0150 - val_loss: 0.0014 - val_root_mean_squared_error: 0.0376\n",
      "Epoch 36/50\n",
      "55/55 [==============================] - 15s 268ms/step - loss: 2.1647e-04 - root_mean_squared_error: 0.0147 - val_loss: 0.0020 - val_root_mean_squared_error: 0.0448\n",
      "Epoch 37/50\n",
      "55/55 [==============================] - 15s 268ms/step - loss: 1.8651e-04 - root_mean_squared_error: 0.0137 - val_loss: 0.0012 - val_root_mean_squared_error: 0.0339\n",
      "Epoch 38/50\n",
      "55/55 [==============================] - 12s 217ms/step - loss: 1.7955e-04 - root_mean_squared_error: 0.0134 - val_loss: 0.0020 - val_root_mean_squared_error: 0.0449\n",
      "Epoch 39/50\n",
      "55/55 [==============================] - 11s 199ms/step - loss: 1.6465e-04 - root_mean_squared_error: 0.0128 - val_loss: 0.0013 - val_root_mean_squared_error: 0.0354\n",
      "Epoch 40/50\n",
      "55/55 [==============================] - 7s 131ms/step - loss: 2.3512e-04 - root_mean_squared_error: 0.0153 - val_loss: 9.4298e-04 - val_root_mean_squared_error: 0.0307\n",
      "Epoch 41/50\n",
      "55/55 [==============================] - 7s 128ms/step - loss: 2.6973e-04 - root_mean_squared_error: 0.0164 - val_loss: 0.0016 - val_root_mean_squared_error: 0.0395\n",
      "Epoch 42/50\n",
      "55/55 [==============================] - 7s 120ms/step - loss: 1.9275e-04 - root_mean_squared_error: 0.0139 - val_loss: 0.0025 - val_root_mean_squared_error: 0.0499\n",
      "Epoch 43/50\n",
      "55/55 [==============================] - 13s 236ms/step - loss: 2.0744e-04 - root_mean_squared_error: 0.0144 - val_loss: 0.0033 - val_root_mean_squared_error: 0.0576\n",
      "Epoch 44/50\n",
      "55/55 [==============================] - 22s 405ms/step - loss: 1.7725e-04 - root_mean_squared_error: 0.0133 - val_loss: 0.0037 - val_root_mean_squared_error: 0.0607\n",
      "Epoch 45/50\n",
      "55/55 [==============================] - 15s 265ms/step - loss: 1.7965e-04 - root_mean_squared_error: 0.0134 - val_loss: 0.0020 - val_root_mean_squared_error: 0.0443\n",
      "Epoch 46/50\n",
      "55/55 [==============================] - 16s 286ms/step - loss: 2.0718e-04 - root_mean_squared_error: 0.0144 - val_loss: 0.0105 - val_root_mean_squared_error: 0.1026\n",
      "Epoch 47/50\n",
      "55/55 [==============================] - 16s 294ms/step - loss: 2.2728e-04 - root_mean_squared_error: 0.0151 - val_loss: 0.0020 - val_root_mean_squared_error: 0.0446\n",
      "Epoch 48/50\n",
      "55/55 [==============================] - 15s 266ms/step - loss: 2.9632e-04 - root_mean_squared_error: 0.0172 - val_loss: 0.0034 - val_root_mean_squared_error: 0.0585\n",
      "Epoch 49/50\n",
      "55/55 [==============================] - 15s 269ms/step - loss: 1.8142e-04 - root_mean_squared_error: 0.0135 - val_loss: 0.0025 - val_root_mean_squared_error: 0.0503\n",
      "Epoch 50/50\n",
      "55/55 [==============================] - 14s 262ms/step - loss: 1.9003e-04 - root_mean_squared_error: 0.0138 - val_loss: 0.0019 - val_root_mean_squared_error: 0.0437\n"
     ]
    },
    {
     "name": "stderr",
     "output_type": "stream",
     "text": [
      "c:\\Users\\thong.lam\\AppData\\Local\\anaconda3\\Lib\\site-packages\\keras\\src\\engine\\training.py:3000: UserWarning: You are saving your model as an HDF5 file via `model.save()`. This file format is considered legacy. We recommend using instead the native Keras format, e.g. `model.save('my_model.keras')`.\n",
      "  saving_api.save_model(\n"
     ]
    },
    {
     "name": "stdout",
     "output_type": "stream",
     "text": [
      "[*********************100%%**********************]  1 of 1 completed\n",
      "Epoch 1/50\n",
      "55/55 [==============================] - 40s 352ms/step - loss: 0.0027 - root_mean_squared_error: 0.0524 - val_loss: 0.0037 - val_root_mean_squared_error: 0.0605\n",
      "Epoch 2/50\n",
      "55/55 [==============================] - 14s 252ms/step - loss: 6.2855e-04 - root_mean_squared_error: 0.0251 - val_loss: 0.0043 - val_root_mean_squared_error: 0.0653\n",
      "Epoch 3/50\n",
      "55/55 [==============================] - 15s 265ms/step - loss: 6.0580e-04 - root_mean_squared_error: 0.0246 - val_loss: 0.0024 - val_root_mean_squared_error: 0.0488\n",
      "Epoch 4/50\n",
      "55/55 [==============================] - 15s 271ms/step - loss: 4.7636e-04 - root_mean_squared_error: 0.0218 - val_loss: 0.0033 - val_root_mean_squared_error: 0.0577\n",
      "Epoch 5/50\n",
      "55/55 [==============================] - 15s 266ms/step - loss: 4.7668e-04 - root_mean_squared_error: 0.0218 - val_loss: 0.0024 - val_root_mean_squared_error: 0.0492\n",
      "Epoch 6/50\n",
      "55/55 [==============================] - 14s 263ms/step - loss: 4.9239e-04 - root_mean_squared_error: 0.0222 - val_loss: 0.0019 - val_root_mean_squared_error: 0.0431\n",
      "Epoch 7/50\n",
      "55/55 [==============================] - 14s 259ms/step - loss: 4.7323e-04 - root_mean_squared_error: 0.0218 - val_loss: 0.0018 - val_root_mean_squared_error: 0.0423\n",
      "Epoch 8/50\n",
      "55/55 [==============================] - 16s 290ms/step - loss: 4.9735e-04 - root_mean_squared_error: 0.0223 - val_loss: 0.0032 - val_root_mean_squared_error: 0.0567\n",
      "Epoch 9/50\n",
      "55/55 [==============================] - 17s 309ms/step - loss: 4.3368e-04 - root_mean_squared_error: 0.0208 - val_loss: 0.0024 - val_root_mean_squared_error: 0.0492\n",
      "Epoch 10/50\n",
      "55/55 [==============================] - 15s 271ms/step - loss: 4.5683e-04 - root_mean_squared_error: 0.0214 - val_loss: 0.0024 - val_root_mean_squared_error: 0.0490\n",
      "Epoch 11/50\n",
      "55/55 [==============================] - 16s 289ms/step - loss: 3.6277e-04 - root_mean_squared_error: 0.0190 - val_loss: 0.0018 - val_root_mean_squared_error: 0.0426\n",
      "Epoch 12/50\n",
      "55/55 [==============================] - 14s 263ms/step - loss: 3.4796e-04 - root_mean_squared_error: 0.0187 - val_loss: 0.0016 - val_root_mean_squared_error: 0.0394\n",
      "Epoch 13/50\n",
      "55/55 [==============================] - 15s 268ms/step - loss: 4.2240e-04 - root_mean_squared_error: 0.0206 - val_loss: 0.0015 - val_root_mean_squared_error: 0.0383\n",
      "Epoch 14/50\n",
      "55/55 [==============================] - 14s 263ms/step - loss: 3.5540e-04 - root_mean_squared_error: 0.0189 - val_loss: 0.0028 - val_root_mean_squared_error: 0.0526\n",
      "Epoch 15/50\n",
      "55/55 [==============================] - 16s 284ms/step - loss: 3.1780e-04 - root_mean_squared_error: 0.0178 - val_loss: 0.0019 - val_root_mean_squared_error: 0.0434\n",
      "Epoch 16/50\n",
      "55/55 [==============================] - 15s 276ms/step - loss: 2.9371e-04 - root_mean_squared_error: 0.0171 - val_loss: 0.0013 - val_root_mean_squared_error: 0.0356\n",
      "Epoch 17/50\n",
      "55/55 [==============================] - 15s 279ms/step - loss: 3.3595e-04 - root_mean_squared_error: 0.0183 - val_loss: 0.0014 - val_root_mean_squared_error: 0.0369\n",
      "Epoch 18/50\n",
      "55/55 [==============================] - 15s 264ms/step - loss: 3.5100e-04 - root_mean_squared_error: 0.0187 - val_loss: 0.0012 - val_root_mean_squared_error: 0.0345\n",
      "Epoch 19/50\n",
      "55/55 [==============================] - 16s 285ms/step - loss: 2.8202e-04 - root_mean_squared_error: 0.0168 - val_loss: 0.0012 - val_root_mean_squared_error: 0.0349\n",
      "Epoch 20/50\n",
      "55/55 [==============================] - 15s 281ms/step - loss: 3.4893e-04 - root_mean_squared_error: 0.0187 - val_loss: 0.0014 - val_root_mean_squared_error: 0.0377\n",
      "Epoch 21/50\n",
      "55/55 [==============================] - 15s 270ms/step - loss: 2.9302e-04 - root_mean_squared_error: 0.0171 - val_loss: 0.0011 - val_root_mean_squared_error: 0.0327\n",
      "Epoch 22/50\n",
      "55/55 [==============================] - 14s 257ms/step - loss: 2.5597e-04 - root_mean_squared_error: 0.0160 - val_loss: 0.0016 - val_root_mean_squared_error: 0.0396\n",
      "Epoch 23/50\n",
      "55/55 [==============================] - 15s 271ms/step - loss: 2.6167e-04 - root_mean_squared_error: 0.0162 - val_loss: 0.0013 - val_root_mean_squared_error: 0.0362\n",
      "Epoch 24/50\n",
      "55/55 [==============================] - 16s 284ms/step - loss: 2.3958e-04 - root_mean_squared_error: 0.0155 - val_loss: 0.0013 - val_root_mean_squared_error: 0.0360\n",
      "Epoch 25/50\n",
      "55/55 [==============================] - 15s 268ms/step - loss: 3.2538e-04 - root_mean_squared_error: 0.0180 - val_loss: 0.0011 - val_root_mean_squared_error: 0.0330\n",
      "Epoch 26/50\n",
      "55/55 [==============================] - 16s 289ms/step - loss: 2.7457e-04 - root_mean_squared_error: 0.0166 - val_loss: 0.0023 - val_root_mean_squared_error: 0.0480\n",
      "Epoch 27/50\n",
      "55/55 [==============================] - 14s 257ms/step - loss: 3.2402e-04 - root_mean_squared_error: 0.0180 - val_loss: 9.5221e-04 - val_root_mean_squared_error: 0.0309\n",
      "Epoch 28/50\n",
      "55/55 [==============================] - 15s 271ms/step - loss: 2.2448e-04 - root_mean_squared_error: 0.0150 - val_loss: 0.0023 - val_root_mean_squared_error: 0.0480\n",
      "Epoch 29/50\n",
      "55/55 [==============================] - 5413s 100s/step - loss: 2.5984e-04 - root_mean_squared_error: 0.0161 - val_loss: 9.1717e-04 - val_root_mean_squared_error: 0.0303\n",
      "Epoch 30/50\n",
      "55/55 [==============================] - 29s 525ms/step - loss: 2.5816e-04 - root_mean_squared_error: 0.0161 - val_loss: 9.8160e-04 - val_root_mean_squared_error: 0.0313\n",
      "Epoch 31/50\n",
      "18/55 [========>.....................] - ETA: 26s - loss: 2.3869e-04 - root_mean_squared_error: 0.0154"
     ]
    }
   ],
   "source": [
    "for ticker in tickers:\n",
    "    # Download the data from Yahoo Finance\n",
    "    df = dp.download_data(ticker)\n",
    "\n",
    "    # clean the data\n",
    "    df = dp.clean_data(df)\n",
    "\n",
    "    # split the data into training set and testing set\n",
    "    train_df, test_df = dp.split_data(df)\n",
    "\n",
    "    # scale the data\n",
    "    scaler = MinMaxScaler()\n",
    "    train_scaled = scaler.fit_transform(train_df)\n",
    "    test_scaled = scaler.transform(test_df)\n",
    "\n",
    "    # create the training set and testing set\n",
    "    X_train, y_train = dp.create_dataset(train_scaled, 60)\n",
    "    X_test, y_test = dp.create_dataset(test_scaled, 60)\n",
    "\n",
    "    # reshape the data\n",
    "    X_train = X_train.reshape(X_train.shape[0], X_train.shape[1], 1)\n",
    "    X_test = X_test.reshape(X_test.shape[0], X_test.shape[1], 1)\n",
    "\n",
    "    # build the model\n",
    "    model = md.create_model(X_train=X_train, y_train=y_train)\n",
    "\n",
    "    # train the model\n",
    "    model.fit(X_train, y_train, epochs=50, batch_size=32, validation_split=0.1, verbose=1)\n",
    "\n",
    "    # save the model\n",
    "    model.save(f'models/{ticker}_model.h5')\n"
   ]
  },
  {
   "cell_type": "markdown",
   "metadata": {},
   "source": [
    "## Part 4: Data Transformation"
   ]
  },
  {
   "cell_type": "code",
   "execution_count": 4,
   "metadata": {},
   "outputs": [
    {
     "name": "stdout",
     "output_type": "stream",
     "text": [
      "(504, 60, 1)\n"
     ]
    }
   ],
   "source": [
    "print(X_test.shape)"
   ]
  },
  {
   "cell_type": "code",
   "execution_count": 5,
   "metadata": {},
   "outputs": [
    {
     "name": "stdout",
     "output_type": "stream",
     "text": [
      "(1954, 60, 1)\n"
     ]
    }
   ],
   "source": [
    "print(X_train.shape)"
   ]
  },
  {
   "cell_type": "code",
   "execution_count": 6,
   "metadata": {},
   "outputs": [
    {
     "name": "stdout",
     "output_type": "stream",
     "text": [
      "(2518, 1)\n"
     ]
    }
   ],
   "source": [
    "print(df.shape)"
   ]
  },
  {
   "cell_type": "code",
   "execution_count": 7,
   "metadata": {},
   "outputs": [
    {
     "name": "stdout",
     "output_type": "stream",
     "text": [
      "16/16 [==============================] - 3s 53ms/step\n",
      "MSE 0.10199876771360585\n",
      "RMSE 0.3193724592284154\n"
     ]
    }
   ],
   "source": [
    "# Create the testing data set.\n",
    "# The testing data set contains the remaining 20% of the data but we have to\n",
    "# # include the last 60 days from the training data set to predict the first stock price of the test data set\n",
    "# scaled_data_test = scaled_dataset[num_training_points - window_size:, :]\n",
    "\n",
    "# # # Create the data sets x_test and y_test\n",
    "# X_test = []\n",
    "# y_test = dataset[num_training_points:, :]\n",
    "\n",
    "# for i in range(60, len(scaled_data_test)):\n",
    "#     X_test.append(scaled_data_test[i-window_size:i, 0])\n",
    "\n",
    "# # Convert the values into arrays for easier computation \n",
    "# X_test = np.array(X_test)\n",
    "# X_test = np.reshape(X_test, (X_test.shape[0], X_test.shape[1], 1))\n",
    "# scaled_data_test = scaled_data[num_training_points - window_size:, :]\n",
    "#X_test, y_test = convert_to_supervised(scaled_data_test, window_size)\n",
    "\n",
    "# predict the testing data\n",
    "predictions = model.predict(X_test)\n",
    "# predictions = scaler.inverse_transform(predictions)\n",
    "# y_test = scaler.inverse_transform(y_test)\n",
    " \n",
    "# evaluate result by mse and rmse metrics\n",
    "mse = np.mean(((predictions - y_test) ** 2))\n",
    "print(\"MSE\", mse)\n",
    "print(\"RMSE\", np.sqrt(mse))"
   ]
  }
 ],
 "metadata": {
  "kernelspec": {
   "display_name": "base",
   "language": "python",
   "name": "python3"
  },
  "language_info": {
   "codemirror_mode": {
    "name": "ipython",
    "version": 3
   },
   "file_extension": ".py",
   "mimetype": "text/x-python",
   "name": "python",
   "nbconvert_exporter": "python",
   "pygments_lexer": "ipython3",
   "version": "3.11.3"
  },
  "orig_nbformat": 4
 },
 "nbformat": 4,
 "nbformat_minor": 2
}
